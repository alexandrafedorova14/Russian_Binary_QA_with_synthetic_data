{
  "cells": [
    {
      "cell_type": "code",
      "execution_count": 1,
      "metadata": {
        "id": "oMDTu6PPOkcN"
      },
      "outputs": [],
      "source": [
        "from IPython.display import clear_output"
      ]
    },
    {
      "cell_type": "code",
      "execution_count": null,
      "metadata": {
        "colab": {
          "base_uri": "https://localhost:8080/"
        },
        "id": "epSDucbATg2W",
        "outputId": "07609696-172f-472e-ac72-fde22a655a92"
      },
      "outputs": [
        {
          "name": "stdout",
          "output_type": "stream",
          "text": [
            "Mounted at /content/drive\n"
          ]
        }
      ],
      "source": [
        "from google.colab import drive\n",
        "drive.mount('/content/drive')"
      ]
    },
    {
      "cell_type": "code",
      "execution_count": null,
      "metadata": {
        "id": "_eIwa9W_t0Wb"
      },
      "outputs": [],
      "source": [
        "# Установка ruPrompts (вместе с библиотекой устанавливается и transformers)\n",
        "#%pip install transformers[sentencepiece]\n",
        "%pip install ruprompts\n",
        "# Установка datasets\n",
        "%pip install datasets\n",
        "# Установка wandb для отслеживания обучения \n",
        "%pip install wandb \n",
        "%pip install jsonlines\n",
        "clear_output()"
      ]
    },
    {
      "cell_type": "code",
      "execution_count": 2,
      "metadata": {
        "id": "E2Ur5qQRt5kh"
      },
      "outputs": [],
      "source": [
        "import os\n",
        "os.environ['CUDA_LAUNCH_BLOCKING'] = \"1\"\n",
        "os.environ[\"CUDA_VISIBLE_DEVICES\"] = \"0\""
      ]
    },
    {
      "cell_type": "code",
      "execution_count": null,
      "metadata": {
        "colab": {
          "base_uri": "https://localhost:8080/",
          "height": 70
        },
        "id": "0wdSICNFNYds",
        "outputId": "efa17606-be63-4456-814b-ecd7adfcde65"
      },
      "outputs": [
        {
          "data": {
            "application/javascript": "\n        window._wandbApiKey = new Promise((resolve, reject) => {\n            function loadScript(url) {\n            return new Promise(function(resolve, reject) {\n                let newScript = document.createElement(\"script\");\n                newScript.onerror = reject;\n                newScript.onload = resolve;\n                document.body.appendChild(newScript);\n                newScript.src = url;\n            });\n            }\n            loadScript(\"https://cdn.jsdelivr.net/npm/postmate/build/postmate.min.js\").then(() => {\n            const iframe = document.createElement('iframe')\n            iframe.style.cssText = \"width:0;height:0;border:none\"\n            document.body.appendChild(iframe)\n            const handshake = new Postmate({\n                container: iframe,\n                url: 'https://wandb.ai/authorize'\n            });\n            const timeout = setTimeout(() => reject(\"Couldn't auto authenticate\"), 5000)\n            handshake.then(function(child) {\n                child.on('authorize', data => {\n                    clearTimeout(timeout)\n                    resolve(data)\n                });\n            });\n            })\n        });\n    ",
            "text/plain": [
              "<IPython.core.display.Javascript object>"
            ]
          },
          "metadata": {},
          "output_type": "display_data"
        },
        {
          "name": "stderr",
          "output_type": "stream",
          "text": [
            "\u001b[34m\u001b[1mwandb\u001b[0m: Appending key for api.wandb.ai to your netrc file: /root/.netrc\n"
          ]
        },
        {
          "data": {
            "text/plain": [
              "True"
            ]
          },
          "execution_count": 6,
          "metadata": {},
          "output_type": "execute_result"
        }
      ],
      "source": [
        "# wandb \n",
        "import wandb\n",
        "wandb.login()"
      ]
    },
    {
      "cell_type": "code",
      "execution_count": null,
      "metadata": {
        "colab": {
          "base_uri": "https://localhost:8080/"
        },
        "id": "mX6CtjOCObM8",
        "outputId": "46f89fe7-fc2b-42ff-a772-5e0b82d6d63b"
      },
      "outputs": [
        {
          "name": "stdout",
          "output_type": "stream",
          "text": [
            "env: WANDB_PROJECT=ruprompts_binary_qa_29_04_23\n"
          ]
        }
      ],
      "source": [
        "# Создаем проект на wandb\n",
        "%env WANDB_PROJECT=ruprompts_binary_qa_29_04_23"
      ]
    },
    {
      "cell_type": "markdown",
      "metadata": {
        "id": "RqLbX3pDDwZO"
      },
      "source": [
        "### Training and Generation"
      ]
    },
    {
      "cell_type": "code",
      "execution_count": null,
      "metadata": {
        "id": "J-fymbeJsq7Y"
      },
      "outputs": [],
      "source": [
        "# Загружаем обучающую и валидационную выборки \n",
        "from datasets import load_dataset\n",
        "\n",
        "datasets = load_dataset(\"json\", data_files={\"train\": \"/content/drive/MyDrive/Diploma 2.0/DaNetQA 2.0/train_prompt_3.json\", \"validation\": \"/content/drive/MyDrive/Diploma 2.0/DaNetQA 2.0/val_prompt_3.json\"})\n",
        "train_dataset = datasets[\"train\"]\n",
        "valid_dataset = datasets[\"validation\"]"
      ]
    },
    {
      "cell_type": "code",
      "execution_count": null,
      "metadata": {
        "id": "6nsOS02ut9tc"
      },
      "outputs": [],
      "source": [
        "# Импорт модели\n",
        "from transformers import GPT2LMHeadModel, AutoTokenizer\n",
        "\n",
        "rugpt3 = \"sberbank-ai/rugpt3large_based_on_gpt2\"\n",
        "\n",
        "model = GPT2LMHeadModel.from_pretrained(rugpt3)\n",
        "tokenizer = AutoTokenizer.from_pretrained(rugpt3, pad_token=\"<pad>\", eos_token=\"<pad>\")"
      ]
    },
    {
      "cell_type": "code",
      "execution_count": null,
      "metadata": {
        "id": "6Sli5cYQUKhe"
      },
      "outputs": [],
      "source": [
        "# Вычисляем какое среднее и максимальное количество токенов содержится в passage и question \n",
        "# для этого заводим три списка, которые будут представлять список из списков, в каждом списке – токены для question/passage/question+passage\n",
        "\n",
        "questions_passages = []\n",
        "questions_inputs = []\n",
        "passages_inputs = []\n",
        "for question, passage in zip(train_dataset['question'], train_dataset['passage']):\n",
        "  q_p = \"{} {}\".format(question, passage)\n",
        "  \n",
        "  tokenized_qp = tokenizer(q_p)\n",
        "  tokenized_q = tokenizer(question)\n",
        "  tokenized_p = tokenizer(passage)\n",
        "  \n",
        "  questions_passages.append(len(tokenized_qp['input_ids']))\n",
        "  questions_inputs.append(len(tokenized_q['input_ids']))\n",
        "  passages_inputs.append(len(tokenized_p['input_ids']))"
      ]
    },
    {
      "cell_type": "code",
      "execution_count": null,
      "metadata": {
        "colab": {
          "base_uri": "https://localhost:8080/"
        },
        "id": "adRXJohSDa5U",
        "outputId": "6328b4fd-9a4b-47f9-e0e5-95fe26592c7f"
      },
      "outputs": [
        {
          "name": "stdout",
          "output_type": "stream",
          "text": [
            "Максимальное кол-во токенов среди question: 38\n",
            "Максимальное кол-во токенов среди passage: 335\n",
            "Максимальное кол-во токенов среди question+passage: 348\n"
          ]
        }
      ],
      "source": [
        "print(\"Максимальное кол-во токенов среди question:\", max(questions_inputs))\n",
        "print(\"Максимальное кол-во токенов среди passage:\", max(passages_inputs))\n",
        "print(\"Максимальное кол-во токенов среди question+passage:\", max(questions_passages))"
      ]
    },
    {
      "cell_type": "code",
      "execution_count": null,
      "metadata": {
        "colab": {
          "base_uri": "https://localhost:8080/"
        },
        "id": "BEv6s0DFCcpo",
        "outputId": "4d14e25d-be43-4f21-c719-aef1379431b0"
      },
      "outputs": [
        {
          "name": "stdout",
          "output_type": "stream",
          "text": [
            "90 квантиль question+passage: 92.0, 90 квантиль question: 21.0, 90 квантиль passage: 78.0\n"
          ]
        }
      ],
      "source": [
        "# Вычисление 90 перцентиля\n",
        "import numpy as np\n",
        "\n",
        "qp_90 = np.percentile(questions_passages, 90)\n",
        "q_90 = np.percentile(questions_inputs, 90)\n",
        "p_90 = np.percentile(passages_inputs, 90)\n",
        "\n",
        "print(\"90 квантиль question+passage:\", qp_90, end=\", \")\n",
        "print(\"90 квантиль question:\", q_90, end=\", \")\n",
        "print(\"90 квантиль passage:\", p_90)"
      ]
    },
    {
      "cell_type": "code",
      "execution_count": null,
      "metadata": {
        "id": "yGOnUIG_t_a_"
      },
      "outputs": [],
      "source": [
        "# Задаем формат затравки, также настраиваем провайдер \n",
        "from ruprompts import Prompt, PromptFormat, LSTMPromptProvider\n",
        "from transformers import set_seed\n",
        "\n",
        "prompt_format = PromptFormat(\"<P*10>{answer}<P*10>{passage}<P*10>\")\n",
        "\n",
        "set_seed(1)\n",
        "prompt_provider = LSTMPromptProvider()\n",
        "\n",
        "prompt = Prompt(prompt_format, prompt_provider)\n",
        "prompt.patch(model, tokenizer)"
      ]
    },
    {
      "cell_type": "code",
      "execution_count": null,
      "metadata": {
        "id": "VwcaG7DXuBAm"
      },
      "outputs": [],
      "source": [
        "# Это препроцессинг, тут задаем target, то, что хотим, чтобы модель генерировала, \n",
        "# truncation – это то, на что модель смотрит и что обрезает\n",
        "\n",
        "from ruprompts import Text2TextPreprocessor\n",
        "\n",
        "preprocessor = Text2TextPreprocessor(\n",
        "    prompt_format=prompt_format,\n",
        "    tokenizer=tokenizer,\n",
        "    target_field=\"question\",\n",
        "    max_tokens=200,\n",
        "    truncation_field=\"passage\"\n",
        ")\n",
        "\n",
        "train_dataset = train_dataset.map(preprocessor)\n",
        "valid_dataset = valid_dataset.map(preprocessor)"
      ]
    },
    {
      "cell_type": "code",
      "execution_count": null,
      "metadata": {
        "colab": {
          "base_uri": "https://localhost:8080/"
        },
        "id": "e3dj8YXjfce_",
        "outputId": "856295b9-441d-47f9-bf02-8a37054c8488"
      },
      "outputs": [
        {
          "name": "stdout",
          "output_type": "stream",
          "text": [
            "50253\n",
            "50086\n"
          ]
        },
        {
          "data": {
            "text/plain": [
              "50257"
            ]
          },
          "execution_count": 28,
          "metadata": {},
          "output_type": "execute_result"
        }
      ],
      "source": [
        "print(max([x for elem in train_dataset for x in elem[\"labels\"]]))\n",
        "print(max([x for elem in valid_dataset for x in elem[\"labels\"]]))\n",
        "model.config.vocab_size"
      ]
    },
    {
      "cell_type": "code",
      "execution_count": null,
      "metadata": {
        "id": "k40UR3OyCag1"
      },
      "outputs": [],
      "source": [
        "# хотим еще дополнительно считать перплексию, т.е. насколько сгененированные примеры могут быть реальными \n",
        "import evaluate\n",
        "\n",
        "def compute_metrics(eval_pred): \n",
        "    predictions, labels = eval_pred\n",
        "    perplexity = evaluate.load(\"perplexity\", module_type=\"metric\")\n",
        "    decoded_preds = tokenizer.batch_decode(predictions, skip_special_tokens=True)\n",
        "    decoded_preds = [pred.strip() for pred in decoded_preds]\n",
        "    results = perplexity.compute(model_id='rugpt3small_based_on_gpt2', predictions=decoded_preds)\n",
        "    return {\"Mean perplexity\": round(results[\"mean_perplexity\"], 2)}"
      ]
    },
    {
      "cell_type": "code",
      "execution_count": null,
      "metadata": {
        "id": "YztzcEDWuDDf"
      },
      "outputs": [],
      "source": [
        "# Задаем параметры обучения\n",
        "\n",
        "from transformers import TrainingArguments\n",
        "\n",
        "training_args = TrainingArguments(\n",
        "    output_dir=\".\",\n",
        "    per_device_train_batch_size=4,\n",
        "    per_device_eval_batch_size=2,\n",
        "    gradient_accumulation_steps=4,\n",
        "    eval_steps=100,\n",
        "    save_steps=100,\n",
        "    logging_steps=100,\n",
        "    evaluation_strategy=\"steps\",\n",
        "    save_strategy=\"steps\",\n",
        "    logging_strategy=\"steps\",\n",
        "    load_best_model_at_end=True,\n",
        "    save_total_limit=2,\n",
        "    metric_for_best_model=\"eval_loss\",\n",
        "    learning_rate=0.1,\n",
        "    max_steps = 2500, \n",
        "    report_to=\"wandb\",\n",
        "    logging_dir=\"ruprompts_logs\",\n",
        "    seed=1,\n",
        ")"
      ]
    },
    {
      "cell_type": "code",
      "execution_count": null,
      "metadata": {
        "colab": {
          "base_uri": "https://localhost:8080/"
        },
        "id": "XoDyyQkxuFGj",
        "outputId": "c4505f65-5bad-4e70-be40-e6ddbd1ae15a"
      },
      "outputs": [
        {
          "name": "stderr",
          "output_type": "stream",
          "text": [
            "/usr/local/lib/python3.10/dist-packages/transformers/optimization.py:391: FutureWarning: This implementation of AdamW is deprecated and will be removed in a future version. Use the PyTorch implementation torch.optim.AdamW instead, or set `no_deprecation_warning=True` to disable this warning\n",
            "  warnings.warn(\n"
          ]
        }
      ],
      "source": [
        "# Оптимизация \n",
        "# Также используем \n",
        "from transformers.optimization import AdamW, get_cosine_schedule_with_warmup\n",
        "\n",
        "optimizer = AdamW(prompt_provider.parameters(), lr=training_args.learning_rate)\n",
        "scheduler = get_cosine_schedule_with_warmup(\n",
        "    optimizer,\n",
        "    num_warmup_steps=500,\n",
        "    num_training_steps=training_args.max_steps,\n",
        ")"
      ]
    },
    {
      "cell_type": "code",
      "execution_count": null,
      "metadata": {
        "colab": {
          "base_uri": "https://localhost:8080/",
          "height": 1000
        },
        "id": "bV2S5T_MuG-F",
        "outputId": "49254186-bc73-4065-87b4-693a3241b9d7"
      },
      "outputs": [
        {
          "data": {
            "text/html": [
              "Changes to your `wandb` environment variables will be ignored because your `wandb` session has already started. For more information on how to modify your settings with `wandb.init()` arguments, please refer to <a href='https://wandb.me/wandb-init' target=\"_blank\">the W&B docs</a>."
            ],
            "text/plain": [
              "<IPython.core.display.HTML object>"
            ]
          },
          "metadata": {},
          "output_type": "display_data"
        },
        {
          "name": "stderr",
          "output_type": "stream",
          "text": [
            "\u001b[34m\u001b[1mwandb\u001b[0m: Currently logged in as: \u001b[33malexandra-fedorova1499\u001b[0m. Use \u001b[1m`wandb login --relogin`\u001b[0m to force relogin\n"
          ]
        },
        {
          "data": {
            "text/html": [
              "Tracking run with wandb version 0.15.0"
            ],
            "text/plain": [
              "<IPython.core.display.HTML object>"
            ]
          },
          "metadata": {},
          "output_type": "display_data"
        },
        {
          "data": {
            "text/html": [
              "Run data is saved locally in <code>/content/wandb/run-20230429_074331-krl14grj</code>"
            ],
            "text/plain": [
              "<IPython.core.display.HTML object>"
            ]
          },
          "metadata": {},
          "output_type": "display_data"
        },
        {
          "data": {
            "text/html": [
              "Syncing run <strong><a href='https://wandb.ai/alexandra-fedorova1499/ruprompts_binary_qa_29_04_23/runs/krl14grj' target=\"_blank\">pious-cloud-1</a></strong> to <a href='https://wandb.ai/alexandra-fedorova1499/ruprompts_binary_qa_29_04_23' target=\"_blank\">Weights & Biases</a> (<a href='https://wandb.me/run' target=\"_blank\">docs</a>)<br/>"
            ],
            "text/plain": [
              "<IPython.core.display.HTML object>"
            ]
          },
          "metadata": {},
          "output_type": "display_data"
        },
        {
          "data": {
            "text/html": [
              " View project at <a href='https://wandb.ai/alexandra-fedorova1499/ruprompts_binary_qa_29_04_23' target=\"_blank\">https://wandb.ai/alexandra-fedorova1499/ruprompts_binary_qa_29_04_23</a>"
            ],
            "text/plain": [
              "<IPython.core.display.HTML object>"
            ]
          },
          "metadata": {},
          "output_type": "display_data"
        },
        {
          "data": {
            "text/html": [
              " View run at <a href='https://wandb.ai/alexandra-fedorova1499/ruprompts_binary_qa_29_04_23/runs/krl14grj' target=\"_blank\">https://wandb.ai/alexandra-fedorova1499/ruprompts_binary_qa_29_04_23/runs/krl14grj</a>"
            ],
            "text/plain": [
              "<IPython.core.display.HTML object>"
            ]
          },
          "metadata": {},
          "output_type": "display_data"
        },
        {
          "name": "stderr",
          "output_type": "stream",
          "text": [
            "You're using a GPT2TokenizerFast tokenizer. Please note that with a fast tokenizer, using the `__call__` method is faster than using a method to encode the text followed by a call to the `pad` method to get a padded encoding.\n"
          ]
        },
        {
          "data": {
            "text/html": [
              "\n",
              "    <div>\n",
              "      \n",
              "      <progress value='2500' max='2500' style='width:300px; height:20px; vertical-align: middle;'></progress>\n",
              "      [2500/2500 2:26:53, Epoch 33/35]\n",
              "    </div>\n",
              "    <table border=\"1\" class=\"dataframe\">\n",
              "  <thead>\n",
              " <tr style=\"text-align: left;\">\n",
              "      <th>Step</th>\n",
              "      <th>Training Loss</th>\n",
              "      <th>Validation Loss</th>\n",
              "    </tr>\n",
              "  </thead>\n",
              "  <tbody>\n",
              "    <tr>\n",
              "      <td>100</td>\n",
              "      <td>4.343700</td>\n",
              "      <td>2.265201</td>\n",
              "    </tr>\n",
              "    <tr>\n",
              "      <td>200</td>\n",
              "      <td>2.376800</td>\n",
              "      <td>2.080276</td>\n",
              "    </tr>\n",
              "    <tr>\n",
              "      <td>300</td>\n",
              "      <td>2.171400</td>\n",
              "      <td>1.862350</td>\n",
              "    </tr>\n",
              "    <tr>\n",
              "      <td>400</td>\n",
              "      <td>3.084800</td>\n",
              "      <td>3.259536</td>\n",
              "    </tr>\n",
              "    <tr>\n",
              "      <td>500</td>\n",
              "      <td>2.611700</td>\n",
              "      <td>2.016859</td>\n",
              "    </tr>\n",
              "    <tr>\n",
              "      <td>600</td>\n",
              "      <td>2.442500</td>\n",
              "      <td>1.944776</td>\n",
              "    </tr>\n",
              "    <tr>\n",
              "      <td>700</td>\n",
              "      <td>2.184100</td>\n",
              "      <td>1.863846</td>\n",
              "    </tr>\n",
              "    <tr>\n",
              "      <td>800</td>\n",
              "      <td>2.283500</td>\n",
              "      <td>1.883242</td>\n",
              "    </tr>\n",
              "    <tr>\n",
              "      <td>900</td>\n",
              "      <td>2.116200</td>\n",
              "      <td>1.900759</td>\n",
              "    </tr>\n",
              "    <tr>\n",
              "      <td>1000</td>\n",
              "      <td>2.150800</td>\n",
              "      <td>1.856413</td>\n",
              "    </tr>\n",
              "    <tr>\n",
              "      <td>1100</td>\n",
              "      <td>2.172900</td>\n",
              "      <td>1.835149</td>\n",
              "    </tr>\n",
              "    <tr>\n",
              "      <td>1200</td>\n",
              "      <td>2.101400</td>\n",
              "      <td>1.822608</td>\n",
              "    </tr>\n",
              "    <tr>\n",
              "      <td>1300</td>\n",
              "      <td>2.053800</td>\n",
              "      <td>1.838452</td>\n",
              "    </tr>\n",
              "    <tr>\n",
              "      <td>1400</td>\n",
              "      <td>2.082700</td>\n",
              "      <td>1.811168</td>\n",
              "    </tr>\n",
              "    <tr>\n",
              "      <td>1500</td>\n",
              "      <td>2.038000</td>\n",
              "      <td>1.772445</td>\n",
              "    </tr>\n",
              "    <tr>\n",
              "      <td>1600</td>\n",
              "      <td>2.023600</td>\n",
              "      <td>1.763589</td>\n",
              "    </tr>\n",
              "    <tr>\n",
              "      <td>1700</td>\n",
              "      <td>2.032300</td>\n",
              "      <td>1.780607</td>\n",
              "    </tr>\n",
              "    <tr>\n",
              "      <td>1800</td>\n",
              "      <td>2.010700</td>\n",
              "      <td>1.750763</td>\n",
              "    </tr>\n",
              "    <tr>\n",
              "      <td>1900</td>\n",
              "      <td>1.980400</td>\n",
              "      <td>1.758768</td>\n",
              "    </tr>\n",
              "    <tr>\n",
              "      <td>2000</td>\n",
              "      <td>1.957100</td>\n",
              "      <td>1.778409</td>\n",
              "    </tr>\n",
              "    <tr>\n",
              "      <td>2100</td>\n",
              "      <td>1.966100</td>\n",
              "      <td>1.727101</td>\n",
              "    </tr>\n",
              "    <tr>\n",
              "      <td>2200</td>\n",
              "      <td>1.933800</td>\n",
              "      <td>1.737688</td>\n",
              "    </tr>\n",
              "    <tr>\n",
              "      <td>2300</td>\n",
              "      <td>1.940000</td>\n",
              "      <td>1.728796</td>\n",
              "    </tr>\n",
              "    <tr>\n",
              "      <td>2400</td>\n",
              "      <td>1.945700</td>\n",
              "      <td>1.734760</td>\n",
              "    </tr>\n",
              "    <tr>\n",
              "      <td>2500</td>\n",
              "      <td>1.953100</td>\n",
              "      <td>1.736109</td>\n",
              "    </tr>\n",
              "  </tbody>\n",
              "</table><p>"
            ],
            "text/plain": [
              "<IPython.core.display.HTML object>"
            ]
          },
          "metadata": {},
          "output_type": "display_data"
        },
        {
          "name": "stderr",
          "output_type": "stream",
          "text": [
            "There were missing keys in the checkpoint model loaded: ['transformer.wte.embedding.weight', 'transformer.wpe.weight', 'transformer.h.0.ln_1.weight', 'transformer.h.0.ln_1.bias', 'transformer.h.0.attn.bias', 'transformer.h.0.attn.masked_bias', 'transformer.h.0.attn.c_attn.weight', 'transformer.h.0.attn.c_attn.bias', 'transformer.h.0.attn.c_proj.weight', 'transformer.h.0.attn.c_proj.bias', 'transformer.h.0.ln_2.weight', 'transformer.h.0.ln_2.bias', 'transformer.h.0.mlp.c_fc.weight', 'transformer.h.0.mlp.c_fc.bias', 'transformer.h.0.mlp.c_proj.weight', 'transformer.h.0.mlp.c_proj.bias', 'transformer.h.1.ln_1.weight', 'transformer.h.1.ln_1.bias', 'transformer.h.1.attn.bias', 'transformer.h.1.attn.masked_bias', 'transformer.h.1.attn.c_attn.weight', 'transformer.h.1.attn.c_attn.bias', 'transformer.h.1.attn.c_proj.weight', 'transformer.h.1.attn.c_proj.bias', 'transformer.h.1.ln_2.weight', 'transformer.h.1.ln_2.bias', 'transformer.h.1.mlp.c_fc.weight', 'transformer.h.1.mlp.c_fc.bias', 'transformer.h.1.mlp.c_proj.weight', 'transformer.h.1.mlp.c_proj.bias', 'transformer.h.2.ln_1.weight', 'transformer.h.2.ln_1.bias', 'transformer.h.2.attn.bias', 'transformer.h.2.attn.masked_bias', 'transformer.h.2.attn.c_attn.weight', 'transformer.h.2.attn.c_attn.bias', 'transformer.h.2.attn.c_proj.weight', 'transformer.h.2.attn.c_proj.bias', 'transformer.h.2.ln_2.weight', 'transformer.h.2.ln_2.bias', 'transformer.h.2.mlp.c_fc.weight', 'transformer.h.2.mlp.c_fc.bias', 'transformer.h.2.mlp.c_proj.weight', 'transformer.h.2.mlp.c_proj.bias', 'transformer.h.3.ln_1.weight', 'transformer.h.3.ln_1.bias', 'transformer.h.3.attn.bias', 'transformer.h.3.attn.masked_bias', 'transformer.h.3.attn.c_attn.weight', 'transformer.h.3.attn.c_attn.bias', 'transformer.h.3.attn.c_proj.weight', 'transformer.h.3.attn.c_proj.bias', 'transformer.h.3.ln_2.weight', 'transformer.h.3.ln_2.bias', 'transformer.h.3.mlp.c_fc.weight', 'transformer.h.3.mlp.c_fc.bias', 'transformer.h.3.mlp.c_proj.weight', 'transformer.h.3.mlp.c_proj.bias', 'transformer.h.4.ln_1.weight', 'transformer.h.4.ln_1.bias', 'transformer.h.4.attn.bias', 'transformer.h.4.attn.masked_bias', 'transformer.h.4.attn.c_attn.weight', 'transformer.h.4.attn.c_attn.bias', 'transformer.h.4.attn.c_proj.weight', 'transformer.h.4.attn.c_proj.bias', 'transformer.h.4.ln_2.weight', 'transformer.h.4.ln_2.bias', 'transformer.h.4.mlp.c_fc.weight', 'transformer.h.4.mlp.c_fc.bias', 'transformer.h.4.mlp.c_proj.weight', 'transformer.h.4.mlp.c_proj.bias', 'transformer.h.5.ln_1.weight', 'transformer.h.5.ln_1.bias', 'transformer.h.5.attn.bias', 'transformer.h.5.attn.masked_bias', 'transformer.h.5.attn.c_attn.weight', 'transformer.h.5.attn.c_attn.bias', 'transformer.h.5.attn.c_proj.weight', 'transformer.h.5.attn.c_proj.bias', 'transformer.h.5.ln_2.weight', 'transformer.h.5.ln_2.bias', 'transformer.h.5.mlp.c_fc.weight', 'transformer.h.5.mlp.c_fc.bias', 'transformer.h.5.mlp.c_proj.weight', 'transformer.h.5.mlp.c_proj.bias', 'transformer.h.6.ln_1.weight', 'transformer.h.6.ln_1.bias', 'transformer.h.6.attn.bias', 'transformer.h.6.attn.masked_bias', 'transformer.h.6.attn.c_attn.weight', 'transformer.h.6.attn.c_attn.bias', 'transformer.h.6.attn.c_proj.weight', 'transformer.h.6.attn.c_proj.bias', 'transformer.h.6.ln_2.weight', 'transformer.h.6.ln_2.bias', 'transformer.h.6.mlp.c_fc.weight', 'transformer.h.6.mlp.c_fc.bias', 'transformer.h.6.mlp.c_proj.weight', 'transformer.h.6.mlp.c_proj.bias', 'transformer.h.7.ln_1.weight', 'transformer.h.7.ln_1.bias', 'transformer.h.7.attn.bias', 'transformer.h.7.attn.masked_bias', 'transformer.h.7.attn.c_attn.weight', 'transformer.h.7.attn.c_attn.bias', 'transformer.h.7.attn.c_proj.weight', 'transformer.h.7.attn.c_proj.bias', 'transformer.h.7.ln_2.weight', 'transformer.h.7.ln_2.bias', 'transformer.h.7.mlp.c_fc.weight', 'transformer.h.7.mlp.c_fc.bias', 'transformer.h.7.mlp.c_proj.weight', 'transformer.h.7.mlp.c_proj.bias', 'transformer.h.8.ln_1.weight', 'transformer.h.8.ln_1.bias', 'transformer.h.8.attn.bias', 'transformer.h.8.attn.masked_bias', 'transformer.h.8.attn.c_attn.weight', 'transformer.h.8.attn.c_attn.bias', 'transformer.h.8.attn.c_proj.weight', 'transformer.h.8.attn.c_proj.bias', 'transformer.h.8.ln_2.weight', 'transformer.h.8.ln_2.bias', 'transformer.h.8.mlp.c_fc.weight', 'transformer.h.8.mlp.c_fc.bias', 'transformer.h.8.mlp.c_proj.weight', 'transformer.h.8.mlp.c_proj.bias', 'transformer.h.9.ln_1.weight', 'transformer.h.9.ln_1.bias', 'transformer.h.9.attn.bias', 'transformer.h.9.attn.masked_bias', 'transformer.h.9.attn.c_attn.weight', 'transformer.h.9.attn.c_attn.bias', 'transformer.h.9.attn.c_proj.weight', 'transformer.h.9.attn.c_proj.bias', 'transformer.h.9.ln_2.weight', 'transformer.h.9.ln_2.bias', 'transformer.h.9.mlp.c_fc.weight', 'transformer.h.9.mlp.c_fc.bias', 'transformer.h.9.mlp.c_proj.weight', 'transformer.h.9.mlp.c_proj.bias', 'transformer.h.10.ln_1.weight', 'transformer.h.10.ln_1.bias', 'transformer.h.10.attn.bias', 'transformer.h.10.attn.masked_bias', 'transformer.h.10.attn.c_attn.weight', 'transformer.h.10.attn.c_attn.bias', 'transformer.h.10.attn.c_proj.weight', 'transformer.h.10.attn.c_proj.bias', 'transformer.h.10.ln_2.weight', 'transformer.h.10.ln_2.bias', 'transformer.h.10.mlp.c_fc.weight', 'transformer.h.10.mlp.c_fc.bias', 'transformer.h.10.mlp.c_proj.weight', 'transformer.h.10.mlp.c_proj.bias', 'transformer.h.11.ln_1.weight', 'transformer.h.11.ln_1.bias', 'transformer.h.11.attn.bias', 'transformer.h.11.attn.masked_bias', 'transformer.h.11.attn.c_attn.weight', 'transformer.h.11.attn.c_attn.bias', 'transformer.h.11.attn.c_proj.weight', 'transformer.h.11.attn.c_proj.bias', 'transformer.h.11.ln_2.weight', 'transformer.h.11.ln_2.bias', 'transformer.h.11.mlp.c_fc.weight', 'transformer.h.11.mlp.c_fc.bias', 'transformer.h.11.mlp.c_proj.weight', 'transformer.h.11.mlp.c_proj.bias', 'transformer.h.12.ln_1.weight', 'transformer.h.12.ln_1.bias', 'transformer.h.12.attn.bias', 'transformer.h.12.attn.masked_bias', 'transformer.h.12.attn.c_attn.weight', 'transformer.h.12.attn.c_attn.bias', 'transformer.h.12.attn.c_proj.weight', 'transformer.h.12.attn.c_proj.bias', 'transformer.h.12.ln_2.weight', 'transformer.h.12.ln_2.bias', 'transformer.h.12.mlp.c_fc.weight', 'transformer.h.12.mlp.c_fc.bias', 'transformer.h.12.mlp.c_proj.weight', 'transformer.h.12.mlp.c_proj.bias', 'transformer.h.13.ln_1.weight', 'transformer.h.13.ln_1.bias', 'transformer.h.13.attn.bias', 'transformer.h.13.attn.masked_bias', 'transformer.h.13.attn.c_attn.weight', 'transformer.h.13.attn.c_attn.bias', 'transformer.h.13.attn.c_proj.weight', 'transformer.h.13.attn.c_proj.bias', 'transformer.h.13.ln_2.weight', 'transformer.h.13.ln_2.bias', 'transformer.h.13.mlp.c_fc.weight', 'transformer.h.13.mlp.c_fc.bias', 'transformer.h.13.mlp.c_proj.weight', 'transformer.h.13.mlp.c_proj.bias', 'transformer.h.14.ln_1.weight', 'transformer.h.14.ln_1.bias', 'transformer.h.14.attn.bias', 'transformer.h.14.attn.masked_bias', 'transformer.h.14.attn.c_attn.weight', 'transformer.h.14.attn.c_attn.bias', 'transformer.h.14.attn.c_proj.weight', 'transformer.h.14.attn.c_proj.bias', 'transformer.h.14.ln_2.weight', 'transformer.h.14.ln_2.bias', 'transformer.h.14.mlp.c_fc.weight', 'transformer.h.14.mlp.c_fc.bias', 'transformer.h.14.mlp.c_proj.weight', 'transformer.h.14.mlp.c_proj.bias', 'transformer.h.15.ln_1.weight', 'transformer.h.15.ln_1.bias', 'transformer.h.15.attn.bias', 'transformer.h.15.attn.masked_bias', 'transformer.h.15.attn.c_attn.weight', 'transformer.h.15.attn.c_attn.bias', 'transformer.h.15.attn.c_proj.weight', 'transformer.h.15.attn.c_proj.bias', 'transformer.h.15.ln_2.weight', 'transformer.h.15.ln_2.bias', 'transformer.h.15.mlp.c_fc.weight', 'transformer.h.15.mlp.c_fc.bias', 'transformer.h.15.mlp.c_proj.weight', 'transformer.h.15.mlp.c_proj.bias', 'transformer.h.16.ln_1.weight', 'transformer.h.16.ln_1.bias', 'transformer.h.16.attn.bias', 'transformer.h.16.attn.masked_bias', 'transformer.h.16.attn.c_attn.weight', 'transformer.h.16.attn.c_attn.bias', 'transformer.h.16.attn.c_proj.weight', 'transformer.h.16.attn.c_proj.bias', 'transformer.h.16.ln_2.weight', 'transformer.h.16.ln_2.bias', 'transformer.h.16.mlp.c_fc.weight', 'transformer.h.16.mlp.c_fc.bias', 'transformer.h.16.mlp.c_proj.weight', 'transformer.h.16.mlp.c_proj.bias', 'transformer.h.17.ln_1.weight', 'transformer.h.17.ln_1.bias', 'transformer.h.17.attn.bias', 'transformer.h.17.attn.masked_bias', 'transformer.h.17.attn.c_attn.weight', 'transformer.h.17.attn.c_attn.bias', 'transformer.h.17.attn.c_proj.weight', 'transformer.h.17.attn.c_proj.bias', 'transformer.h.17.ln_2.weight', 'transformer.h.17.ln_2.bias', 'transformer.h.17.mlp.c_fc.weight', 'transformer.h.17.mlp.c_fc.bias', 'transformer.h.17.mlp.c_proj.weight', 'transformer.h.17.mlp.c_proj.bias', 'transformer.h.18.ln_1.weight', 'transformer.h.18.ln_1.bias', 'transformer.h.18.attn.bias', 'transformer.h.18.attn.masked_bias', 'transformer.h.18.attn.c_attn.weight', 'transformer.h.18.attn.c_attn.bias', 'transformer.h.18.attn.c_proj.weight', 'transformer.h.18.attn.c_proj.bias', 'transformer.h.18.ln_2.weight', 'transformer.h.18.ln_2.bias', 'transformer.h.18.mlp.c_fc.weight', 'transformer.h.18.mlp.c_fc.bias', 'transformer.h.18.mlp.c_proj.weight', 'transformer.h.18.mlp.c_proj.bias', 'transformer.h.19.ln_1.weight', 'transformer.h.19.ln_1.bias', 'transformer.h.19.attn.bias', 'transformer.h.19.attn.masked_bias', 'transformer.h.19.attn.c_attn.weight', 'transformer.h.19.attn.c_attn.bias', 'transformer.h.19.attn.c_proj.weight', 'transformer.h.19.attn.c_proj.bias', 'transformer.h.19.ln_2.weight', 'transformer.h.19.ln_2.bias', 'transformer.h.19.mlp.c_fc.weight', 'transformer.h.19.mlp.c_fc.bias', 'transformer.h.19.mlp.c_proj.weight', 'transformer.h.19.mlp.c_proj.bias', 'transformer.h.20.ln_1.weight', 'transformer.h.20.ln_1.bias', 'transformer.h.20.attn.bias', 'transformer.h.20.attn.masked_bias', 'transformer.h.20.attn.c_attn.weight', 'transformer.h.20.attn.c_attn.bias', 'transformer.h.20.attn.c_proj.weight', 'transformer.h.20.attn.c_proj.bias', 'transformer.h.20.ln_2.weight', 'transformer.h.20.ln_2.bias', 'transformer.h.20.mlp.c_fc.weight', 'transformer.h.20.mlp.c_fc.bias', 'transformer.h.20.mlp.c_proj.weight', 'transformer.h.20.mlp.c_proj.bias', 'transformer.h.21.ln_1.weight', 'transformer.h.21.ln_1.bias', 'transformer.h.21.attn.bias', 'transformer.h.21.attn.masked_bias', 'transformer.h.21.attn.c_attn.weight', 'transformer.h.21.attn.c_attn.bias', 'transformer.h.21.attn.c_proj.weight', 'transformer.h.21.attn.c_proj.bias', 'transformer.h.21.ln_2.weight', 'transformer.h.21.ln_2.bias', 'transformer.h.21.mlp.c_fc.weight', 'transformer.h.21.mlp.c_fc.bias', 'transformer.h.21.mlp.c_proj.weight', 'transformer.h.21.mlp.c_proj.bias', 'transformer.h.22.ln_1.weight', 'transformer.h.22.ln_1.bias', 'transformer.h.22.attn.bias', 'transformer.h.22.attn.masked_bias', 'transformer.h.22.attn.c_attn.weight', 'transformer.h.22.attn.c_attn.bias', 'transformer.h.22.attn.c_proj.weight', 'transformer.h.22.attn.c_proj.bias', 'transformer.h.22.ln_2.weight', 'transformer.h.22.ln_2.bias', 'transformer.h.22.mlp.c_fc.weight', 'transformer.h.22.mlp.c_fc.bias', 'transformer.h.22.mlp.c_proj.weight', 'transformer.h.22.mlp.c_proj.bias', 'transformer.h.23.ln_1.weight', 'transformer.h.23.ln_1.bias', 'transformer.h.23.attn.bias', 'transformer.h.23.attn.masked_bias', 'transformer.h.23.attn.c_attn.weight', 'transformer.h.23.attn.c_attn.bias', 'transformer.h.23.attn.c_proj.weight', 'transformer.h.23.attn.c_proj.bias', 'transformer.h.23.ln_2.weight', 'transformer.h.23.ln_2.bias', 'transformer.h.23.mlp.c_fc.weight', 'transformer.h.23.mlp.c_fc.bias', 'transformer.h.23.mlp.c_proj.weight', 'transformer.h.23.mlp.c_proj.bias', 'transformer.ln_f.weight', 'transformer.ln_f.bias', 'lm_head.weight'].\n"
          ]
        },
        {
          "data": {
            "text/plain": [
              "TrainOutput(global_step=2500, training_loss=2.2382808044433595, metrics={'train_runtime': 8820.0415, 'train_samples_per_second': 4.535, 'train_steps_per_second': 0.283, 'total_flos': 2.6450905688064e+16, 'train_loss': 2.2382808044433595, 'epoch': 33.9})"
            ]
          },
          "execution_count": 20,
          "metadata": {},
          "output_type": "execute_result"
        }
      ],
      "source": [
        "# Непосредственно обучение\n",
        "from transformers import Trainer\n",
        "from ruprompts.callbacks import (\n",
        "    FreezeTransformerUnfreezePrompt,\n",
        "    ReduceCheckpoint,\n",
        "    SavePretrainedPrompt,\n",
        ")\n",
        "\n",
        "trainer = Trainer(\n",
        "    model=model,\n",
        "    args=training_args,\n",
        "    train_dataset=train_dataset,\n",
        "    eval_dataset=valid_dataset,\n",
        "    data_collator=preprocessor.collate_fn(),\n",
        "    #compute_metrics=compute_metrics,\n",
        "    optimizers=(optimizer, scheduler),\n",
        "    callbacks=[FreezeTransformerUnfreezePrompt(), ReduceCheckpoint(), SavePretrainedPrompt(prompt)],\n",
        ")\n",
        "\n",
        "trainer.train()"
      ]
    },
    {
      "cell_type": "code",
      "execution_count": null,
      "metadata": {
        "colab": {
          "base_uri": "https://localhost:8080/",
          "height": 524,
          "referenced_widgets": [
            "015ebf62562a408f862b795baca6944a",
            "6691adc9c929429c98c78845f78cedb3",
            "c5725ea3493744e29c4bd8ada2266004",
            "01ff8db529934c7ab9ed56780200170f",
            "c89a3520077549acae896b73bc9c2fac",
            "a04bd4eef5b748e29c8ae7b9b3dc4508",
            "a196213c5e114f52b5080dd70af57b6e",
            "c0db55bee66c44fbaa7731631f665e16"
          ]
        },
        "id": "FwIIGdUIP-Ci",
        "outputId": "4e8cc20d-a16f-4a41-de97-a5a791de9070"
      },
      "outputs": [
        {
          "data": {
            "text/html": [
              "Waiting for W&B process to finish... <strong style=\"color:green\">(success).</strong>"
            ],
            "text/plain": [
              "<IPython.core.display.HTML object>"
            ]
          },
          "metadata": {},
          "output_type": "display_data"
        },
        {
          "data": {
            "application/vnd.jupyter.widget-view+json": {
              "model_id": "015ebf62562a408f862b795baca6944a",
              "version_major": 2,
              "version_minor": 0
            },
            "text/plain": [
              "VBox(children=(Label(value='0.001 MB of 0.001 MB uploaded (0.000 MB deduped)\\r'), FloatProgress(value=1.0, max…"
            ]
          },
          "metadata": {},
          "output_type": "display_data"
        },
        {
          "data": {
            "text/html": [
              "<style>\n",
              "    table.wandb td:nth-child(1) { padding: 0 10px; text-align: left ; width: auto;} td:nth-child(2) {text-align: left ; width: 100%}\n",
              "    .wandb-row { display: flex; flex-direction: row; flex-wrap: wrap; justify-content: flex-start; width: 100% }\n",
              "    .wandb-col { display: flex; flex-direction: column; flex-basis: 100%; flex: 1; padding: 10px; }\n",
              "    </style>\n",
              "<div class=\"wandb-row\"><div class=\"wandb-col\"><h3>Run history:</h3><br/><table class=\"wandb\"><tr><td>eval/loss</td><td>▃▃▂█▂▂▂▂▂▂▁▁▂▁▁▁▁▁▁▁▁▁▁▁▁</td></tr><tr><td>eval/runtime</td><td>▄▅▄▄▃▄▃▅▆▃█▁▂▁▁▂▂▂▂▂▅▄▂▂▄</td></tr><tr><td>eval/samples_per_second</td><td>▅▃▅▅▆▅▆▄▃▆▁█▇██▇▇▇▇▇▄▅▇▇▅</td></tr><tr><td>eval/steps_per_second</td><td>▅▃▅▅▆▅▆▄▃▆▁█▇██▇▇▇▇▇▄▅▇▇▅</td></tr><tr><td>train/epoch</td><td>▁▁▁▁▂▂▂▂▂▂▃▃▃▃▃▄▄▄▄▄▄▅▅▅▅▆▆▆▆▆▇▇▇▇▇▇████</td></tr><tr><td>train/global_step</td><td>▁▁▁▁▂▂▂▂▂▂▃▃▃▃▃▄▄▄▄▅▅▅▅▅▅▆▆▆▆▆▇▇▇▇▇▇████</td></tr><tr><td>train/learning_rate</td><td>▂▄▅▇████▇▇▇▆▆▅▅▄▃▃▂▂▂▁▁▁▁</td></tr><tr><td>train/loss</td><td>█▂▂▄▃▂▂▂▂▂▂▁▁▁▁▁▁▁▁▁▁▁▁▁▁</td></tr><tr><td>train/total_flos</td><td>▁</td></tr><tr><td>train/train_loss</td><td>▁</td></tr><tr><td>train/train_runtime</td><td>▁</td></tr><tr><td>train/train_samples_per_second</td><td>▁</td></tr><tr><td>train/train_steps_per_second</td><td>▁</td></tr></table><br/></div><div class=\"wandb-col\"><h3>Run summary:</h3><br/><table class=\"wandb\"><tr><td>eval/loss</td><td>1.73611</td></tr><tr><td>eval/runtime</td><td>38.2417</td></tr><tr><td>eval/samples_per_second</td><td>11.872</td></tr><tr><td>eval/steps_per_second</td><td>5.936</td></tr><tr><td>train/epoch</td><td>33.9</td></tr><tr><td>train/global_step</td><td>2500</td></tr><tr><td>train/learning_rate</td><td>0.0</td></tr><tr><td>train/loss</td><td>1.9531</td></tr><tr><td>train/total_flos</td><td>2.6450905688064e+16</td></tr><tr><td>train/train_loss</td><td>2.23828</td></tr><tr><td>train/train_runtime</td><td>8820.0415</td></tr><tr><td>train/train_samples_per_second</td><td>4.535</td></tr><tr><td>train/train_steps_per_second</td><td>0.283</td></tr></table><br/></div></div>"
            ],
            "text/plain": [
              "<IPython.core.display.HTML object>"
            ]
          },
          "metadata": {},
          "output_type": "display_data"
        },
        {
          "data": {
            "text/html": [
              " View run <strong style=\"color:#cdcd00\">pious-cloud-1</strong> at: <a href='https://wandb.ai/alexandra-fedorova1499/ruprompts_binary_qa_29_04_23/runs/krl14grj' target=\"_blank\">https://wandb.ai/alexandra-fedorova1499/ruprompts_binary_qa_29_04_23/runs/krl14grj</a><br/>Synced 5 W&B file(s), 0 media file(s), 0 artifact file(s) and 0 other file(s)"
            ],
            "text/plain": [
              "<IPython.core.display.HTML object>"
            ]
          },
          "metadata": {},
          "output_type": "display_data"
        },
        {
          "data": {
            "text/html": [
              "Find logs at: <code>./wandb/run-20230429_074331-krl14grj/logs</code>"
            ],
            "text/plain": [
              "<IPython.core.display.HTML object>"
            ]
          },
          "metadata": {},
          "output_type": "display_data"
        }
      ],
      "source": [
        "wandb.finish()"
      ]
    },
    {
      "cell_type": "code",
      "execution_count": null,
      "metadata": {
        "colab": {
          "base_uri": "https://localhost:8080/",
          "height": 159
        },
        "id": "MIKxVgl1i-aN",
        "outputId": "c2121cf0-ee14-4caa-fcc7-721ec945d365"
      },
      "outputs": [
        {
          "data": {
            "text/html": [
              "Changes to your `wandb` environment variables will be ignored because your `wandb` session has already started. For more information on how to modify your settings with `wandb.init()` arguments, please refer to <a href='https://wandb.me/wandb-init' target=\"_blank\">the W&B docs</a>."
            ],
            "text/plain": [
              "<IPython.core.display.HTML object>"
            ]
          },
          "metadata": {},
          "output_type": "display_data"
        },
        {
          "data": {
            "text/html": [
              "Tracking run with wandb version 0.14.0"
            ],
            "text/plain": [
              "<IPython.core.display.HTML object>"
            ]
          },
          "metadata": {},
          "output_type": "display_data"
        },
        {
          "data": {
            "text/html": [
              "Run data is saved locally in <code>/content/wandb/run-20230326_090731-9i62sa0s</code>"
            ],
            "text/plain": [
              "<IPython.core.display.HTML object>"
            ]
          },
          "metadata": {},
          "output_type": "display_data"
        },
        {
          "data": {
            "text/html": [
              "Syncing run <strong><a href='https://wandb.ai/alexandra-fedorova1499/uncategorized/runs/9i62sa0s' target=\"_blank\">desert-breeze-3</a></strong> to <a href='https://wandb.ai/alexandra-fedorova1499/uncategorized' target=\"_blank\">Weights & Biases</a> (<a href='https://wandb.me/run' target=\"_blank\">docs</a>)<br/>"
            ],
            "text/plain": [
              "<IPython.core.display.HTML object>"
            ]
          },
          "metadata": {},
          "output_type": "display_data"
        },
        {
          "data": {
            "text/html": [
              " View project at <a href='https://wandb.ai/alexandra-fedorova1499/uncategorized' target=\"_blank\">https://wandb.ai/alexandra-fedorova1499/uncategorized</a>"
            ],
            "text/plain": [
              "<IPython.core.display.HTML object>"
            ]
          },
          "metadata": {},
          "output_type": "display_data"
        },
        {
          "data": {
            "text/html": [
              " View run at <a href='https://wandb.ai/alexandra-fedorova1499/uncategorized/runs/9i62sa0s' target=\"_blank\">https://wandb.ai/alexandra-fedorova1499/uncategorized/runs/9i62sa0s</a>"
            ],
            "text/plain": [
              "<IPython.core.display.HTML object>"
            ]
          },
          "metadata": {},
          "output_type": "display_data"
        },
        {
          "data": {
            "text/html": [
              "<button onClick=\"this.nextSibling.style.display='block';this.style.display='none';\">Display W&B run</button><iframe src='https://wandb.ai/alexandra-fedorova1499/uncategorized/runs/9i62sa0s?jupyter=true' style='border:none;width:100%;height:420px;display:none;'></iframe>"
            ],
            "text/plain": [
              "<wandb.sdk.wandb_run.Run at 0x7f17d7c21520>"
            ]
          },
          "execution_count": 15,
          "metadata": {},
          "output_type": "execute_result"
        }
      ],
      "source": [
        "wandb.init()"
      ]
    },
    {
      "cell_type": "code",
      "execution_count": null,
      "metadata": {
        "colab": {
          "base_uri": "https://localhost:8080/",
          "height": 37
        },
        "id": "8xk642aAiGhR",
        "outputId": "3499cc13-4f02-4631-961f-42c923a67b77"
      },
      "outputs": [
        {
          "data": {
            "text/html": [
              "\n",
              "    <div>\n",
              "      \n",
              "      <progress value='220' max='110' style='width:300px; height:20px; vertical-align: middle;'></progress>\n",
              "      [110/110 01:12]\n",
              "    </div>\n",
              "    "
            ],
            "text/plain": [
              "<IPython.core.display.HTML object>"
            ]
          },
          "metadata": {},
          "output_type": "display_data"
        }
      ],
      "source": [
        "eval_results = trainer.evaluate()"
      ]
    },
    {
      "cell_type": "code",
      "execution_count": null,
      "metadata": {
        "colab": {
          "base_uri": "https://localhost:8080/"
        },
        "id": "FK96IxYTK3qw",
        "outputId": "ede21ad2-66f9-4795-a2d9-f164051a9c67"
      },
      "outputs": [
        {
          "data": {
            "text/plain": [
              "{'eval_loss': 1.570906162261963,\n",
              " 'eval_runtime': 16.246,\n",
              " 'eval_samples_per_second': 13.542,\n",
              " 'eval_steps_per_second': 6.771,\n",
              " 'epoch': 27.97}"
            ]
          },
          "execution_count": 17,
          "metadata": {},
          "output_type": "execute_result"
        }
      ],
      "source": [
        "eval_results"
      ]
    },
    {
      "cell_type": "code",
      "execution_count": null,
      "metadata": {
        "id": "ooMTtohmDT5x"
      },
      "outputs": [],
      "source": [
        "prompt.save_pretrained(\"/content/drive/MyDrive/Diploma 2.0/Pretrained Prompt Third (GPT-3 LARGE + warmup steps 500 + lr=0.1 + 2500 steps + lstm (29.04.23)\")"
      ]
    },
    {
      "cell_type": "markdown",
      "metadata": {
        "id": "Weop2v5XL3Pa"
      },
      "source": [
        "## Pipeline"
      ]
    },
    {
      "cell_type": "code",
      "execution_count": 4,
      "metadata": {
        "id": "u0rkyKn1RJKT"
      },
      "outputs": [],
      "source": [
        "import csv\n",
        "from tqdm import tqdm\n",
        "import pandas as pd"
      ]
    },
    {
      "cell_type": "code",
      "execution_count": null,
      "metadata": {
        "id": "PLSIlkIoRJKU"
      },
      "outputs": [],
      "source": [
        "# функция для генерации вопросов с ответом \"да\"\n",
        "def generate_positive_binary_question(passage, answer, pipe, beams=1, return_seq=1):\n",
        "    result = None\n",
        "    questions = pipe({'answer':answer, 'passage':passage},\n",
        "                     do_sample=False,\n",
        "                     num_beams=beams,\n",
        "                     num_return_sequences=return_seq)\n",
        "\n",
        "    questions = [i[\"generated_text\"].replace(\"<pad>\", \"\") for i in questions]\n",
        "    result = sorted(questions, key=len)[-1]  # get longest answer\n",
        "    return result\n",
        "\n",
        "\n",
        "# функция для генерации вопросов с ответом \"нет\"\n",
        "def generate_negative_binary_question(passage, answer, pipe, return_seq=1):\n",
        "    result = None\n",
        "    questions = pipe({'answer':answer, 'passage':passage},\n",
        "                     #do_sample=False,\n",
        "                     num_return_sequences=return_seq)\n",
        "\n",
        "    questions = [i[\"generated_text\"].replace(\"<pad>\", \"\") for i in questions]\n",
        "    result = sorted(questions, key=len)[-1]  # get longest answer\n",
        "    return result"
      ]
    },
    {
      "cell_type": "code",
      "execution_count": null,
      "metadata": {
        "id": "DDEo_gSNRJKU"
      },
      "outputs": [],
      "source": [
        "from transformers import pipeline\n",
        "from ruprompts import Prompt\n",
        "\n",
        "prompt_qa = Prompt.from_pretrained(\"/content/drive/MyDrive/Diploma 2.0/Pretrained Prompt Third (GPT-3 LARGE + warmup steps 500 + lr=0.1 + 2500 steps + lstm (29.04.23)\")\n",
        "\n",
        "ppln = pipeline(\"text2text-generation-with-prompt\", prompt=prompt_qa)"
      ]
    },
    {
      "cell_type": "code",
      "execution_count": null,
      "metadata": {
        "id": "X7EJrHIiRJKU"
      },
      "outputs": [],
      "source": [
        "from transformers import AutoTokenizer, AutoModelForCausalLM\n",
        "\n",
        "rugpt3 = \"sberbank-ai/rugpt3large_based_on_gpt2\"\n",
        "\n",
        "model = AutoModelForCausalLM.from_pretrained(rugpt3)\n",
        "tokenizer = AutoTokenizer.from_pretrained(rugpt3, pad_token=\"<pad>\", eos_token=\"<pad>\")"
      ]
    },
    {
      "cell_type": "code",
      "execution_count": null,
      "metadata": {
        "id": "HnMnxxkERJKU"
      },
      "outputs": [],
      "source": [
        "# Файл с отобранными текстовыми фрагментами из Википедии (каждый passage не длиннее 3 предложений)\n",
        "with open(\"/content/drive/MyDrive/Diploma 2.0/passages_to_generate.txt\", \"r\") as fin:\n",
        "    to_generate = [text.replace('\\n', '') for text in fin.readlines()]\n"
      ]
    },
    {
      "cell_type": "code",
      "execution_count": null,
      "metadata": {
        "id": "C-avSsAGRJKU"
      },
      "outputs": [],
      "source": [
        "# Генерация вопросов с ответом \"нет\"\n",
        "with open('/content/drive/MyDrive/Diploma 2.0/generated_questions_no.tsv', 'w') as fin: \n",
        "    writer = csv.DictWriter(fin, delimiter=\"\\t\", fieldnames=[\"text\", \"question\"])\n",
        "    writer.writeheader()\n",
        "    for text in tqdm(to_generate):\n",
        "        question = generate_negative_binary_question(passage=text, answer=\"нет\", pipe=ppln, return_seq=5)\n",
        "        writer.writerow({\"text\":text, \"question\":question})"
      ]
    },
    {
      "cell_type": "code",
      "execution_count": null,
      "metadata": {
        "id": "W0dhnfgARJKU"
      },
      "outputs": [],
      "source": [
        "# Генерация вопросов с ответом \"да\"\n",
        "with open('/content/drive/MyDrive/Diploma 2.0/generated_questions_no.tsv', 'w') as fin: \n",
        "    writer = csv.DictWriter(fin, delimiter=\"\\t\", fieldnames=[\"text\", \"question\"])\n",
        "    writer.writeheader()\n",
        "    for text in tqdm(to_generate):\n",
        "        question = generate_negative_binary_question(passage=text, answer=\"нет\", pipe=ppln, return_seq=5)\n",
        "        writer.writerow({\"text\":text, \"question\":question})"
      ]
    },
    {
      "cell_type": "code",
      "execution_count": null,
      "metadata": {
        "id": "nIg9O7TTRJKU"
      },
      "outputs": [],
      "source": [
        "# исключаем генерацию этих токенов для части вопросов с ответом \"да\" (т.к. без этого эти токены чаще всего начинают вопрос)\n",
        "bad_words_ids = tokenizer([\"Был\", \"Была\", \"Были\", \"Было\", \"Есть\", \"Входит\", \"Входила\", \"Входил\", \"Входило\", \"Входят\"]).input_ids"
      ]
    },
    {
      "cell_type": "code",
      "execution_count": null,
      "metadata": {
        "id": "L9KinXOwRJKV"
      },
      "outputs": [],
      "source": [
        "# Генерация вопросов с ответом \"да\" с ограничением на слова – не генерируем \n",
        "with open('/content/drive/MyDrive/Diploma 2.0/generated_yes_questions_new.tsv', 'w') as fin: \n",
        "    writer = csv.DictWriter(fin, delimiter=\"\\t\", fieldnames=[\"text\", \"question\"])\n",
        "    writer.writeheader()\n",
        "    for text in tqdm(to_generate):\n",
        "        questions = ppln({'answer':\"да\", 'passage':text},\n",
        "                             do_sample=False,\n",
        "                             num_beams=3,\n",
        "                             bad_words_ids=bad_words_ids)\n",
        "        questions = [i[\"generated_text\"].replace(\"<pad>\", \"\") for i in questions]\n",
        "        question = questions[0]\n",
        "        writer.writerow({\"text\":text, \"question\":question})"
      ]
    },
    {
      "cell_type": "code",
      "source": [
        "%pip install evaluate\n",
        "clear_output()"
      ],
      "metadata": {
        "id": "_CXmk2WHR6vl"
      },
      "execution_count": 5,
      "outputs": []
    },
    {
      "cell_type": "code",
      "source": [
        "%pip install transformers\n",
        "clear_output()"
      ],
      "metadata": {
        "id": "oQtRpUFWSIU0"
      },
      "execution_count": 7,
      "outputs": []
    },
    {
      "cell_type": "code",
      "execution_count": 8,
      "metadata": {
        "id": "YTFfoC2kb6tb"
      },
      "outputs": [],
      "source": [
        "# evaluating predictions \n",
        "# хотим еще дополнительно считать перплексию, т.е. насколько сгененированные примеры могут быть реальными \n",
        "import evaluate\n",
        "\n",
        "perplexity = evaluate.load(\"perplexity\", module_type=\"metric\")"
      ]
    },
    {
      "cell_type": "code",
      "source": [
        "print(perplexity.inputs_description)"
      ],
      "metadata": {
        "colab": {
          "base_uri": "https://localhost:8080/"
        },
        "id": "SJ2ztobESE2d",
        "outputId": "ffb95447-322e-4ad8-ced2-79e607fb9290"
      },
      "execution_count": 10,
      "outputs": [
        {
          "output_type": "stream",
          "name": "stdout",
          "text": [
            "\n",
            "Args:\n",
            "    model_id (str): model used for calculating Perplexity\n",
            "            NOTE: Perplexity can only be calculated for causal language models.\n",
            "                    This includes models such as gpt2, causal variations of bert,\n",
            "                    causal versions of t5, and more (the full list can be found\n",
            "                    in the AutoModelForCausalLM documentation here:\n",
            "                    https://huggingface.co/docs/transformers/master/en/model_doc/auto#transformers.AutoModelForCausalLM )\n",
            "\n",
            "    predictions (list of str): input text, each separate text snippet\n",
            "        is one list entry.\n",
            "    batch_size (int): the batch size to run texts through the model. Defaults to 16.\n",
            "    add_start_token (bool): whether to add the start token to the texts,\n",
            "        so the perplexity can include the probability of the first word. Defaults to True.\n",
            "    device (str): device to run on, defaults to 'cuda' when available\n",
            "Returns:\n",
            "    perplexity: dictionary containing the perplexity scores for the texts\n",
            "        in the input list, as well as the mean perplexity. If one of the input texts is\n",
            "        longer than the max input length of the model, then it is truncated to the\n",
            "        max length for the perplexity computation.\n",
            "Examples:\n",
            "    Example 1:\n",
            "        >>> perplexity = evaluate.load(\"perplexity\", module_type=\"metric\")\n",
            "        >>> input_texts = [\"lorem ipsum\", \"Happy Birthday!\", \"Bienvenue\"]\n",
            "        >>> results = perplexity.compute(model_id='gpt2',\n",
            "        ...                              add_start_token=False,\n",
            "        ...                              predictions=input_texts) # doctest:+ELLIPSIS\n",
            "        >>> print(list(results.keys()))\n",
            "        ['perplexities', 'mean_perplexity']\n",
            "        >>> print(round(results[\"mean_perplexity\"], 0))\n",
            "        647.0\n",
            "        >>> print(round(results[\"perplexities\"][0], 0))\n",
            "        32.0\n",
            "\n",
            "    Example 2:\n",
            "        >>> from datasets import load_dataset\n",
            "        >>> perplexity = evaluate.load(\"perplexity\", module_type=\"metric\")\n",
            "        >>> input_texts = load_dataset(\"wikitext\", \"wikitext-2-raw-v1\", split=\"test\")[\"text\"][:10] # doctest: +SKIP\n",
            "        >>> input_texts = [s for s in input_texts if s!='']\n",
            "        >>> results = perplexity.compute(model_id='gpt2',\n",
            "        ...                              predictions=input_texts)\n",
            "        >>> print(list(results.keys()))\n",
            "        ['perplexities', 'mean_perplexity']\n",
            "        >>> print(round(results[\"mean_perplexity\"], 2)) # doctest: +SKIP\n",
            "        576.76\n",
            "        >>> print(round(results[\"perplexities\"][0], 2)) # doctest: +SKIP\n",
            "        889.28\n",
            "\n"
          ]
        }
      ]
    },
    {
      "cell_type": "code",
      "source": [
        "yes_generated_data = pd.read_csv(\"/content/yes questions after p-tuning.tsv\", sep=\"\\t\")\n",
        "yes_generated_data = yes_generated_data.dropna(subset=['passage'])\n",
        "no_generated_data = pd.read_csv(\"/content/no questions after p-tuning.tsv\", sep=\"\\t\")\n",
        "no_generated_data = no_generated_data.dropna(subset=['passage'])\n",
        "\n",
        "yes_questions, no_questions = yes_generated_data['question'].tolist(), no_generated_data['question'].tolist()\n",
        "all_generated_questions = yes_questions + no_questions\n",
        "print(len(all_generated_questions))"
      ],
      "metadata": {
        "colab": {
          "base_uri": "https://localhost:8080/"
        },
        "id": "m-iDpdN5Sd_G",
        "outputId": "a3bb4c45-1184-4cdc-bdb2-376427355127"
      },
      "execution_count": 17,
      "outputs": [
        {
          "output_type": "stream",
          "name": "stdout",
          "text": [
            "5967\n"
          ]
        }
      ]
    },
    {
      "cell_type": "code",
      "execution_count": 19,
      "metadata": {
        "colab": {
          "base_uri": "https://localhost:8080/",
          "height": 105,
          "referenced_widgets": [
            "f689fb796b7d456fa5e1b839f1b453b7",
            "ca28810b61d745e88a70a80408e3bfb2",
            "8b7da715693d49d1b640c23ebc53b95f",
            "502f415d58564c31874b4baf0aea038f",
            "352e5df191eb455bb3904540b776c7fc",
            "a34cd50dddec4f43b323cd40f298d6ba",
            "7e5a013a99404fc780ddd66c43a932de",
            "952cbee6f77b4217a77dc0859611bdb4",
            "0c87c91a078749b4849e629ebb6d48e5",
            "1441636d54e44239a740728852f5efde",
            "46dc9da7d4b342409eab8d3624373d70"
          ]
        },
        "id": "-cq6nGbZgoUo",
        "outputId": "af75236c-3303-4dfb-d019-8c192f3382d7"
      },
      "outputs": [
        {
          "output_type": "stream",
          "name": "stderr",
          "text": [
            "Using pad_token, but it is not set yet.\n"
          ]
        },
        {
          "output_type": "display_data",
          "data": {
            "text/plain": [
              "  0%|          | 0/2984 [00:00<?, ?it/s]"
            ],
            "application/vnd.jupyter.widget-view+json": {
              "version_major": 2,
              "version_minor": 0,
              "model_id": "f689fb796b7d456fa5e1b839f1b453b7"
            }
          },
          "metadata": {}
        },
        {
          "output_type": "stream",
          "name": "stdout",
          "text": [
            "{'perplexities': [15.50999927520752, 15.699748039245605, 16.292715072631836, 17.564855575561523, 18.535154342651367, 13.7576904296875, 9.756593704223633, 37.240020751953125, 11.7330904006958, 17.102441787719727, 15.295357704162598, 10.015762329101562, 17.226882934570312, 15.82883358001709, 10.553041458129883, 11.990108489990234, 29.739973068237305, 16.257783889770508, 15.097912788391113, 9.555357933044434, 15.961468696594238, 14.10372257232666, 11.283199310302734, 15.050777435302734, 14.355112075805664, 16.770235061645508, 9.131406784057617, 34.28558349609375, 18.471078872680664, 12.702224731445312, 19.7761287689209, 12.548633575439453, 17.268409729003906, 14.96661376953125, 9.222796440124512, 11.212621688842773, 12.918171882629395, 9.51819133758545, 20.7960205078125, 13.89037036895752, 14.732189178466797, 14.438624382019043, 18.00894546508789, 15.482407569885254, 18.65067481994629, 11.857394218444824, 20.80646514892578, 14.356884956359863, 19.999631881713867, 21.719818115234375, 18.7110652923584, 12.53033447265625, 9.782402038574219, 11.424180030822754, 11.9407377243042, 13.33486557006836, 30.36408233642578, 24.063432693481445, 15.879939079284668, 12.38389778137207, 16.53423309326172, 9.843424797058105, 11.6807222366333, 17.336275100708008, 12.044120788574219, 15.833816528320312, 27.363637924194336, 12.50209903717041, 11.595959663391113, 21.781362533569336, 19.199867248535156, 15.044713973999023, 13.616555213928223, 9.902231216430664, 15.405653953552246, 25.038558959960938, 14.507972717285156, 13.892745018005371, 11.773097038269043, 18.057220458984375, 17.417858123779297, 13.528096199035645, 12.531176567077637, 12.064245223999023, 28.37546157836914, 10.333434104919434, 18.098169326782227, 10.662425994873047, 25.25935935974121, 19.355302810668945, 10.258373260498047, 13.580289840698242, 16.399545669555664, 7.70134162902832, 19.33142852783203, 11.53804874420166, 17.948734283447266, 13.071569442749023, 16.999237060546875, 12.745550155639648, 14.214876174926758, 13.931489944458008, 14.651628494262695, 15.97395133972168, 10.894675254821777, 15.715537071228027, 12.096418380737305, 9.002361297607422, 18.143301010131836, 11.239423751831055, 16.734392166137695, 20.06106185913086, 14.604037284851074, 13.944978713989258, 12.006583213806152, 26.20088768005371, 17.31106185913086, 21.197956085205078, 16.665494918823242, 6.398187160491943, 18.294538497924805, 14.311917304992676, 13.437145233154297, 16.67719841003418, 16.432096481323242, 13.087869644165039, 13.249231338500977, 12.643946647644043, 19.5317325592041, 15.849652290344238, 16.9737491607666, 10.921225547790527, 15.338105201721191, 13.219836235046387, 16.98623275756836, 8.969761848449707, 12.723617553710938, 16.309057235717773, 16.685401916503906, 20.154756546020508, 17.584917068481445, 17.57094955444336, 13.685287475585938, 15.694355964660645, 11.110025405883789, 7.140687465667725, 13.618842124938965, 11.896661758422852, 10.16996955871582, 12.76792049407959, 12.522778511047363, 12.413398742675781, 15.261524200439453, 11.230558395385742, 13.012001991271973, 14.577738761901855, 15.255227088928223, 16.343994140625, 14.876351356506348, 11.597084045410156, 23.087074279785156, 11.339927673339844, 20.703777313232422, 21.899972915649414, 13.395262718200684, 31.951940536499023, 10.384483337402344, 16.453386306762695, 10.03368091583252, 24.258398056030273, 23.610313415527344, 8.93096923828125, 14.614421844482422, 22.036144256591797, 8.12109088897705, 21.577354431152344, 19.685108184814453, 15.647045135498047, 12.023411750793457, 16.001312255859375, 13.497783660888672, 12.851616859436035, 18.55434226989746, 10.55579948425293, 17.541231155395508, 17.03544807434082, 14.257402420043945, 15.865062713623047, 23.03786277770996, 18.748106002807617, 12.330612182617188, 9.778043746948242, 19.408994674682617, 14.34379768371582, 8.56044864654541, 19.309736251831055, 23.696435928344727, 10.712995529174805, 13.759177207946777, 21.638221740722656, 13.349451065063477, 18.40414810180664, 15.435083389282227, 13.051822662353516, 11.171448707580566, 17.88337516784668, 13.054498672485352, 11.950840950012207, 13.646536827087402, 18.263376235961914, 15.837459564208984, 13.839364051818848, 9.76547908782959, 15.444400787353516, 14.501139640808105, 10.424942970275879, 17.78556251525879, 15.7593994140625, 17.48795509338379, 6.300440788269043, 10.62610149383545, 17.530309677124023, 10.893237113952637, 17.038280487060547, 19.550199508666992, 12.884462356567383, 14.027787208557129, 22.75204086303711, 12.974751472473145, 14.528678894042969, 13.55023193359375, 10.494802474975586, 13.538517951965332, 10.159662246704102, 18.301319122314453, 16.692121505737305, 15.330109596252441, 14.5753812789917, 9.941020965576172, 13.038976669311523, 14.965953826904297, 17.158079147338867, 14.971688270568848, 10.25903606414795, 15.824268341064453, 16.83785057067871, 14.470429420471191, 10.633715629577637, 15.85948371887207, 12.408007621765137, 9.751298904418945, 12.167037010192871, 14.220272064208984, 16.366317749023438, 17.50188636779785, 30.10835838317871, 14.789275169372559, 10.286478996276855, 10.219705581665039, 13.6907377243042, 16.832242965698242, 13.1239595413208, 13.26007080078125, 22.503713607788086, 12.521103858947754, 17.749364852905273, 31.473007202148438, 9.613302230834961, 24.86271858215332, 39.27255630493164, 18.273618698120117, 12.135464668273926, 12.45901870727539, 22.353633880615234, 15.435562133789062, 15.297063827514648, 11.257255554199219, 9.36471939086914, 15.138628005981445, 34.205867767333984, 17.943185806274414, 15.091913223266602, 26.611385345458984, 11.025764465332031, 17.631919860839844, 16.061737060546875, 15.46265697479248, 13.657326698303223, 21.773828506469727, 17.28260040283203, 15.560166358947754, 11.838011741638184, 16.090557098388672, 15.011163711547852, 18.5133056640625, 13.271194458007812, 16.01083755493164, 15.93301773071289, 14.49652099609375, 11.796502113342285, 19.93495750427246, 16.353055953979492, 23.74520492553711, 11.070033073425293, 14.301803588867188, 13.427711486816406, 21.457550048828125, 14.112637519836426, 15.578983306884766, 20.502674102783203, 12.028615951538086, 14.653643608093262, 12.797797203063965, 14.099739074707031, 12.62202262878418, 10.28896427154541, 10.159486770629883, 16.720678329467773, 17.401844024658203, 13.384507179260254, 11.502241134643555, 9.155877113342285, 13.71976375579834, 37.9678840637207, 14.741355895996094, 11.56217098236084, 14.668412208557129, 16.560028076171875, 18.105131149291992, 22.29403305053711, 12.286499977111816, 11.53670597076416, 13.644692420959473, 17.724510192871094, 10.283588409423828, 15.818768501281738, 18.901214599609375, 21.035308837890625, 15.554347038269043, 12.140327453613281, 14.060137748718262, 11.862439155578613, 9.256775856018066, 15.301051139831543, 22.429569244384766, 13.849712371826172, 18.188344955444336, 19.030078887939453, 21.263643264770508, 12.86477279663086, 14.603678703308105, 18.16417121887207, 16.12830924987793, 19.8861083984375, 16.026371002197266, 14.352474212646484, 11.444345474243164, 17.491825103759766, 11.89877700805664, 23.10801887512207, 16.09470558166504, 17.240514755249023, 9.406024932861328, 12.371625900268555, 19.058284759521484, 33.54817199707031, 17.099472045898438, 7.7280449867248535, 15.439323425292969, 14.73536205291748, 15.295124053955078, 12.161181449890137, 15.538617134094238, 14.50986099243164, 12.392462730407715, 15.169363975524902, 13.96377944946289, 21.18873405456543, 15.256921768188477, 19.581668853759766, 19.682743072509766, 9.190614700317383, 8.797285079956055, 20.663314819335938, 9.337210655212402, 10.650525093078613, 14.652137756347656, 9.142982482910156, 9.510293006896973, 13.946434020996094, 19.81689453125, 16.841175079345703, 15.139659881591797, 18.384498596191406, 17.040441513061523, 10.779587745666504, 15.825691223144531, 18.690942764282227, 12.069759368896484, 13.975476264953613, 8.436906814575195, 15.517037391662598, 16.909757614135742, 16.979827880859375, 17.641448974609375, 12.885114669799805, 17.691293716430664, 12.86508846282959, 13.41905403137207, 11.988555908203125, 19.596960067749023, 11.200523376464844, 13.09781551361084, 16.988405227661133, 12.346162796020508, 18.205307006835938, 12.18179702758789, 14.344503402709961, 10.215259552001953, 9.327723503112793, 13.818312644958496, 14.604037284851074, 19.278663635253906, 14.399578094482422, 12.309176445007324, 16.26994514465332, 15.263845443725586, 10.738025665283203, 14.991008758544922, 13.812604904174805, 14.895012855529785, 10.276801109313965, 23.59630012512207, 6.854220867156982, 14.851459503173828, 15.391592979431152, 21.86565399169922, 14.36872673034668, 20.215312957763672, 14.060137748718262, 16.50849723815918, 14.5089750289917, 20.551803588867188, 10.444870948791504, 16.579294204711914, 19.582426071166992, 10.816575050354004, 14.576146125793457, 16.372289657592773, 17.882692337036133, 14.736151695251465, 29.175426483154297, 14.216181755065918, 18.090085983276367, 32.51049041748047, 12.668967247009277, 13.030359268188477, 13.212504386901855, 11.20862865447998, 10.434094429016113, 16.965959548950195, 20.57230567932129, 24.96291160583496, 17.664440155029297, 21.71772003173828, 17.522388458251953, 23.59758949279785, 11.632906913757324, 15.208452224731445, 28.343406677246094, 11.483797073364258, 13.724637985229492, 10.037250518798828, 12.513189315795898, 16.4200382232666, 11.098746299743652, 12.50989055633545, 9.978068351745605, 30.660554885864258, 18.27619743347168, 14.029994010925293, 10.889001846313477, 17.382108688354492, 22.89236831665039, 14.814684867858887, 13.273725509643555, 9.15196418762207, 19.602767944335938, 18.654165267944336, 23.200035095214844, 12.274272918701172, 24.717391967773438, 17.099355697631836, 14.060137748718262, 16.698837280273438, 11.200339317321777, 15.42931842803955, 15.613238334655762, 14.603362083435059, 8.303633689880371, 17.75533103942871, 14.14194393157959, 41.335784912109375, 10.397621154785156, 18.402311325073242, 13.029117584228516, 20.98223876953125, 16.380117416381836, 16.921329498291016, 18.07347869873047, 43.968658447265625, 21.234209060668945, 10.65745735168457, 12.20665168762207, 19.002504348754883, 17.830087661743164, 14.598930358886719, 12.32934284210205, 17.158079147338867, 19.458559036254883, 15.574426651000977, 11.592967987060547, 19.402036666870117, 10.560020446777344, 12.532488822937012, 15.844586372375488, 14.604037284851074, 19.125402450561523, 19.032875061035156, 14.58790397644043, 22.650047302246094, 12.081488609313965, 13.607380867004395, 10.79836368560791, 34.519615173339844, 17.402599334716797, 11.733854293823242, 17.343219757080078, 29.427417755126953, 10.731168746948242, 15.193857192993164, 13.298583030700684, 20.651878356933594, 15.210029602050781, 13.315216064453125, 21.04599380493164, 14.055421829223633, 23.82565689086914, 16.096561431884766, 13.349708557128906, 22.277084350585938, 16.968399047851562, 12.105769157409668, 10.629568099975586, 11.412901878356934, 15.004826545715332, 24.42660140991211, 11.196647644042969, 14.30019760131836, 14.460558891296387, 29.849340438842773, 13.542593002319336, 14.10881233215332, 11.319636344909668, 12.06464958190918, 16.953468322753906, 15.904036521911621, 18.299652099609375, 12.371623039245605, 20.141393661499023, 16.84103012084961, 19.47199821472168, 17.27351188659668, 9.894719123840332, 7.901251792907715, 13.721383094787598, 15.779190063476562, 15.153910636901855, 14.505036354064941, 21.157930374145508, 15.900666236877441, 26.038162231445312, 14.539688110351562, 23.062952041625977, 11.433018684387207, 18.755008697509766, 25.918258666992188, 10.536749839782715, 14.957828521728516, 9.826179504394531, 17.93091583251953, 12.57774829864502, 16.171436309814453, 18.203044891357422, 14.231058120727539, 23.53774070739746, 12.768815994262695, 18.641481399536133, 14.228446006774902, 13.251297950744629, 18.995914459228516, 15.15259838104248, 20.357200622558594, 10.26732349395752, 17.42294692993164, 12.227378845214844, 11.711313247680664, 9.223764419555664, 26.609228134155273, 15.34339714050293, 26.247156143188477, 15.777103424072266, 10.997071266174316, 10.243550300598145, 36.658447265625, 14.08339786529541, 18.11821174621582, 7.891201972961426, 33.04182815551758, 12.917272567749023, 31.408954620361328, 21.729328155517578, 20.977699279785156, 20.264801025390625, 10.764364242553711, 21.022294998168945, 18.16172981262207, 20.809019088745117, 10.06466007232666, 22.421106338500977, 11.25040054321289, 21.3211612701416, 14.289234161376953, 8.773035049438477, 16.0914306640625, 16.800121307373047, 10.257204055786133, 27.010541915893555, 13.208740234375, 14.138531684875488, 12.866118431091309, 9.848488807678223, 8.31451416015625, 11.811840057373047, 22.06436538696289, 12.531060218811035, 14.26142692565918, 18.955698013305664, 19.92233657836914, 17.602787017822266, 17.125965118408203, 12.486287117004395, 16.288034439086914, 9.472843170166016, 10.080445289611816, 10.850431442260742, 9.102863311767578, 11.915075302124023, 14.292810440063477, 13.77956771850586, 15.631160736083984, 21.80559730529785, 14.58790397644043, 24.755714416503906, 17.371936798095703, 12.312727928161621, 16.52899169921875, 14.82166576385498, 11.326879501342773, 13.16128921508789, 10.156716346740723, 16.761533737182617, 18.422378540039062, 12.164600372314453, 29.19521713256836, 21.867368698120117, 14.756948471069336, 19.07061195373535, 14.842448234558105, 14.339637756347656, 10.976286888122559, 20.658586502075195, 15.180583953857422, 10.37810230255127, 13.535626411437988, 13.142863273620605, 15.99007797241211, 14.967938423156738, 14.964770317077637, 13.735437393188477, 32.69472122192383, 9.397943496704102, 25.875810623168945, 13.978466033935547, 22.870067596435547, 12.897412300109863, 21.0649356842041, 9.163163185119629, 21.337961196899414, 19.67888641357422, 10.35769271850586, 19.54935073852539, 10.286474227905273, 10.182825088500977, 19.561935424804688, 18.550914764404297, 12.325172424316406, 14.991008758544922, 16.682287216186523, 30.85124397277832, 17.101255416870117, 15.242974281311035, 14.768567085266113, 6.928738117218018, 18.505386352539062, 24.6932373046875, 17.912635803222656, 19.232215881347656, 16.266387939453125, 9.533239364624023, 9.815167427062988, 16.655975341796875, 17.099058151245117, 21.45738983154297, 18.74086570739746, 25.31883430480957, 13.480609893798828, 17.361328125, 46.285099029541016, 25.659204483032227, 27.893680572509766, 12.060534477233887, 8.340054512023926, 11.51779842376709, 17.23529052734375, 25.140422821044922, 18.110553741455078, 7.6694512367248535, 9.983738899230957, 15.49374008178711, 13.573195457458496, 22.870311737060547, 8.409735679626465, 15.237915992736816, 11.328948974609375, 19.97629737854004, 15.266688346862793, 17.0279483795166, 13.435524940490723, 15.682435035705566, 16.4122257232666, 12.89854907989502, 15.855695724487305, 9.763469696044922, 13.692179679870605, 13.139244079589844, 7.827505588531494, 18.5098934173584, 11.328969955444336, 26.037391662597656, 10.757383346557617, 14.49255084991455, 36.74662399291992, 12.033876419067383, 12.552565574645996, 15.179641723632812, 18.428136825561523, 18.62093734741211, 14.126132011413574, 13.531906127929688, 13.921631813049316, 21.35279083251953, 25.061355590820312, 14.010082244873047, 19.204431533813477, 10.651484489440918, 13.6276273727417, 20.684505462646484, 16.761808395385742, 12.993613243103027, 10.246793746948242, 12.408735275268555, 11.611740112304688, 14.189023971557617, 20.217357635498047, 11.70353889465332, 21.51468849182129, 9.233240127563477, 12.111757278442383, 12.015371322631836, 13.615737915039062, 12.8552885055542, 14.34846019744873, 11.369829177856445, 11.101184844970703, 21.044754028320312, 16.544824600219727, 13.221090316772461, 17.12807273864746, 14.013720512390137, 15.701653480529785, 8.714617729187012, 13.187219619750977, 17.232423782348633, 14.752815246582031, 15.543233871459961, 23.321733474731445, 11.388741493225098, 14.129646301269531, 11.556981086730957, 12.956067085266113, 17.26042938232422, 19.48634910583496, 14.821297645568848, 11.192832946777344, 8.223508834838867, 16.695816040039062, 12.8025484085083, 14.323711395263672, 6.848264217376709, 9.307201385498047, 14.339590072631836, 13.893937110900879, 11.2119140625, 12.670245170593262, 29.70979118347168, 12.561708450317383, 11.702231407165527, 9.075310707092285, 22.1987361907959, 15.576750755310059, 2.145390510559082, 14.384140014648438, 11.378957748413086, 7.796994686126709, 62.925323486328125, 11.514703750610352, 25.147987365722656, 14.423788070678711, 15.113456726074219, 8.887746810913086, 18.930627822875977, 10.646723747253418, 10.504552841186523, 14.610846519470215, 16.855283737182617, 14.604037284851074, 15.458518028259277, 13.16406536102295, 11.163697242736816, 11.632533073425293, 27.559982299804688, 16.06010627746582, 14.348628997802734, 15.662399291992188, 12.937047958374023, 13.802589416503906, 17.625288009643555, 15.274188995361328, 15.235002517700195, 13.60760498046875, 22.478275299072266, 17.338754653930664, 11.64030933380127, 17.01525115966797, 10.15069580078125, 19.70555305480957, 22.747129440307617, 25.783903121948242, 28.291555404663086, 8.168254852294922, 13.545611381530762, 17.44890785217285, 17.96513557434082, 14.425325393676758, 62.19367218017578, 15.51295280456543, 20.787147521972656, 8.539324760437012, 22.11898422241211, 11.219039916992188, 11.995986938476562, 28.635669708251953, 16.811031341552734, 13.343042373657227, 14.96661376953125, 23.941375732421875, 18.792293548583984, 14.542136192321777, 12.14088249206543, 15.613900184631348, 34.45743942260742, 15.170998573303223, 12.252689361572266, 13.962547302246094, 19.747318267822266, 15.945718765258789, 24.26593017578125, 11.310981750488281, 14.628545761108398, 13.535446166992188, 16.017824172973633, 14.512840270996094, 14.242310523986816, 15.392318725585938, 52.83742904663086, 26.378124237060547, 14.249792098999023, 16.67022705078125, 13.721480369567871, 13.723846435546875, 20.110641479492188, 9.00698184967041, 16.35442352294922, 10.502374649047852, 18.59440803527832, 17.09657096862793, 15.397625923156738, 11.4288330078125, 25.175933837890625, 7.6499528884887695, 9.939029693603516, 9.092742919921875, 9.243090629577637, 10.658726692199707, 13.658766746520996, 10.11158561706543, 18.555458068847656, 14.178421974182129, 18.46940040588379, 11.515326499938965, 14.949624061584473, 13.837678909301758, 9.821979522705078, 15.482853889465332, 27.69304656982422, 18.88356590270996, 18.058740615844727, 21.352842330932617, 12.894416809082031, 15.951725006103516, 12.801831245422363, 11.344303131103516, 14.23499870300293, 16.870210647583008, 17.68849754333496, 15.10765266418457, 16.43975067138672, 11.508461952209473, 16.930234909057617, 13.29128646850586, 11.934587478637695, 12.0816011428833, 17.211585998535156, 16.23263168334961, 35.48244857788086, 17.858577728271484, 16.415353775024414, 20.348857879638672, 13.92576789855957, 13.618435859680176, 12.71756362915039, 12.369190216064453, 10.629568099975586, 11.054683685302734, 15.338105201721191, 11.838245391845703, 45.0621223449707, 15.343412399291992, 11.185193061828613, 25.576553344726562, 11.496086120605469, 11.274085998535156, 11.829070091247559, 17.558929443359375, 13.056182861328125, 15.039510726928711, 18.41655921936035, 15.339563369750977, 11.577646255493164, 12.284680366516113, 14.92103099822998, 15.311323165893555, 16.8169002532959, 73.74325561523438, 23.623994827270508, 13.382136344909668, 18.199031829833984, 21.197956085205078, 14.768270492553711, 29.03676414489746, 13.731393814086914, 13.059666633605957, 14.713245391845703, 20.365428924560547, 10.44339656829834, 9.941732406616211, 10.046056747436523, 16.79986572265625, 12.605545043945312, 19.293855667114258, 16.978334426879883, 18.058378219604492, 21.712709426879883, 13.574446678161621, 18.469114303588867, 12.598042488098145, 11.321258544921875, 9.743346214294434, 20.348115921020508, 11.621405601501465, 15.740673065185547, 14.116223335266113, 9.047289848327637, 12.353755950927734, 18.654420852661133, 19.979297637939453, 16.37310028076172, 16.83208656311035, 9.310704231262207, 18.774402618408203, 19.269058227539062, 11.307026863098145, 11.769861221313477, 11.652284622192383, 21.053672790527344, 16.649370193481445, 15.585577964782715, 18.71994400024414, 8.76679515838623, 15.298135757446289, 18.443029403686523, 22.492895126342773, 22.473543167114258, 12.597526550292969, 17.24506950378418, 50.582176208496094, 14.73516845703125, 16.29513168334961, 14.518603324890137, 14.31186580657959, 13.281208992004395, 12.569812774658203, 10.30130386352539, 11.777819633483887, 25.104204177856445, 9.666437149047852, 12.767582893371582, 10.833467483520508, 11.007338523864746, 21.303924560546875, 11.320734024047852, 26.73509979248047, 20.869441986083984, 18.282665252685547, 13.959399223327637, 9.415424346923828, 13.709054946899414, 14.858515739440918, 11.43558120727539, 8.573360443115234, 13.362964630126953, 12.438331604003906, 15.025779724121094, 14.202449798583984, 14.704495429992676, 18.9492130279541, 11.712693214416504, 13.06529426574707, 31.200950622558594, 13.6431245803833, 23.57437515258789, 18.828706741333008, 13.243385314941406, 11.011926651000977, 14.3649320602417, 13.831842422485352, 15.298880577087402, 16.921833038330078, 12.25839614868164, 11.176496505737305, 12.289022445678711, 17.80655288696289, 17.6760311126709, 16.832977294921875, 16.755414962768555, 13.399848937988281, 8.102638244628906, 10.640914916992188, 18.043655395507812, 15.100850105285645, 8.76659870147705, 14.108671188354492, 14.038938522338867, 19.021343231201172, 26.242280960083008, 10.021486282348633, 13.333470344543457, 47.27477264404297, 14.51651668548584, 21.085275650024414, 19.980789184570312, 14.52773666381836, 14.397857666015625, 20.69638442993164, 12.933778762817383, 11.881037712097168, 15.941433906555176, 22.401681900024414, 12.081558227539062, 17.56191062927246, 9.757980346679688, 14.41812515258789, 21.221534729003906, 16.302642822265625, 18.765148162841797, 13.059192657470703, 14.456318855285645, 8.674606323242188, 23.375524520874023, 17.902008056640625, 10.264190673828125, 14.434349060058594, 13.033432006835938, 19.124740600585938, 11.504410743713379, 14.21933364868164, 17.388158798217773, 16.704566955566406, 14.531184196472168, 11.81059741973877, 10.660740852355957, 12.37996768951416, 13.631211280822754, 15.553038597106934, 14.812925338745117, 10.172032356262207, 13.856327056884766, 27.958477020263672, 19.224014282226562, 13.66230297088623, 10.458656311035156, 16.509540557861328, 10.932550430297852, 10.176386833190918, 26.429948806762695, 18.00849723815918, 16.08340072631836, 22.911523818969727, 15.74897289276123, 13.050169944763184, 20.247722625732422, 13.403188705444336, 12.733868598937988, 14.068802833557129, 12.270153045654297, 14.308774948120117, 9.023144721984863, 23.26447105407715, 28.943368911743164, 13.2673921585083, 13.356110572814941, 11.849432945251465, 9.236774444580078, 11.552034378051758, 11.479413986206055, 13.954442977905273, 11.841510772705078, 11.660165786743164, 14.530259132385254, 13.006403923034668, 11.638355255126953, 10.27485179901123, 13.35806655883789, 12.851988792419434, 29.056547164916992, 30.962282180786133, 21.11947250366211, 12.283186912536621, 25.5753116607666, 9.830455780029297, 14.575236320495605, 11.391448974609375, 16.848974227905273, 17.983142852783203, 17.359891891479492, 15.27096939086914, 13.771093368530273, 8.724231719970703, 11.225455284118652, 8.954001426696777, 10.50346565246582, 17.301374435424805, 11.7250394821167, 22.23194694519043, 23.264482498168945, 17.21599006652832, 10.349390983581543, 14.029245376586914, 9.963849067687988, 13.564818382263184, 12.386457443237305, 18.025068283081055, 11.861109733581543, 11.524873733520508, 17.29343605041504, 12.35887622833252, 18.870357513427734, 17.839662551879883, 22.009889602661133, 10.26018238067627, 20.029380798339844, 28.02447509765625, 10.229061126708984, 16.987850189208984, 21.808609008789062, 14.523225784301758, 13.278615951538086, 12.466411590576172, 18.923402786254883, 14.772588729858398, 26.520185470581055, 17.633420944213867, 16.55787467956543, 15.670755386352539, 21.3079891204834, 12.058038711547852, 18.40131950378418, 12.536592483520508, 9.528582572937012, 14.300960540771484, 12.02308464050293, 13.727596282958984, 14.942717552185059, 12.344766616821289, 13.274279594421387, 10.50359058380127, 11.554849624633789, 26.38001251220703, 12.079133033752441, 14.906576156616211, 13.306258201599121, 12.062115669250488, 12.512186050415039, 10.666526794433594, 10.104336738586426, 19.465564727783203, 16.434019088745117, 18.266254425048828, 13.849005699157715, 12.248618125915527, 11.99038028717041, 28.5588436126709, 9.950149536132812, 16.819738388061523, 14.68667221069336, 11.816451072692871, 14.979354858398438, 13.029280662536621, 19.825660705566406, 39.86752700805664, 11.762152671813965, 12.066899299621582, 11.969083786010742, 23.67069435119629, 12.722125053405762, 17.73657989501953, 20.851591110229492, 13.651480674743652, 24.074600219726562, 18.041582107543945, 9.880683898925781, 21.217382431030273, 15.121862411499023, 11.236750602722168, 15.864616394042969, 17.221410751342773, 17.235610961914062, 19.206748962402344, 23.795757293701172, 12.105780601501465, 14.645339012145996, 13.69166088104248, 12.85166072845459, 9.874831199645996, 13.214469909667969, 16.22136878967285, 12.482906341552734, 11.942130088806152, 11.205337524414062, 11.506915092468262, 19.443254470825195, 11.472503662109375, 16.10286521911621, 11.551004409790039, 36.98189926147461, 13.376248359680176, 9.851388931274414, 30.19251251220703, 10.9549560546875, 15.217062950134277, 31.11505126953125, 13.340439796447754, 18.423458099365234, 19.15526580810547, 11.647571563720703, 14.242490768432617, 11.723614692687988, 10.874342918395996, 19.053659439086914, 15.858617782592773, 13.27716064453125, 12.616353988647461, 18.628597259521484, 12.723589897155762, 20.167970657348633, 15.660260200500488, 16.852140426635742, 9.278507232666016, 11.025522232055664, 21.644731521606445, 25.54268455505371, 19.23078155517578, 13.775164604187012, 26.134624481201172, 12.448219299316406, 28.342819213867188, 11.311585426330566, 12.29830265045166, 19.697662353515625, 13.985623359680176, 7.957082271575928, 13.903172492980957, 16.359844207763672, 13.922112464904785, 10.294224739074707, 11.674422264099121, 15.185952186584473, 14.788717269897461, 25.2305908203125, 13.975000381469727, 12.028366088867188, 10.627518653869629, 7.7532453536987305, 26.067453384399414, 5.582931041717529, 16.32018280029297, 19.721698760986328, 12.176570892333984, 20.72994041442871, 9.49638557434082, 15.795500755310059, 11.410253524780273, 18.138900756835938, 12.201868057250977, 16.99323272705078, 15.567524909973145, 11.645097732543945, 22.779937744140625, 9.916707038879395, 11.662529945373535, 10.47500228881836, 15.973933219909668, 13.394879341125488, 16.891475677490234, 17.083589553833008, 17.404935836791992, 14.430103302001953, 9.491449356079102, 11.723999977111816, 14.591355323791504, 14.116544723510742, 14.453940391540527, 13.504727363586426, 12.505231857299805, 19.322128295898438, 16.642366409301758, 14.12732219696045, 13.211328506469727, 13.043124198913574, 14.961398124694824, 20.223190307617188, 19.92587661743164, 13.538299560546875, 15.27883529663086, 18.485849380493164, 20.427488327026367, 12.60622787475586, 15.746089935302734, 14.33657455444336, 10.703958511352539, 11.993650436401367, 25.23809814453125, 13.001238822937012, 12.181428909301758, 20.466581344604492, 10.378060340881348, 19.498767852783203, 11.978407859802246, 10.748123168945312, 20.851591110229492, 10.167122840881348, 25.572006225585938, 17.820133209228516, 10.50570297241211, 8.979247093200684, 11.415938377380371, 12.276350975036621, 18.80938148498535, 13.358002662658691, 17.012651443481445, 8.164897918701172, 18.407445907592773, 11.954216957092285, 18.123619079589844, 12.181809425354004, 14.329986572265625, 24.348920822143555, 15.17426586151123, 14.856640815734863, 14.563407897949219, 8.853067398071289, 14.781047821044922, 11.409217834472656, 13.605477333068848, 13.06391716003418, 11.950897216796875, 9.46909236907959, 11.540664672851562, 10.040918350219727, 10.415249824523926, 30.704988479614258, 12.911515235900879, 12.061474800109863, 15.737835884094238, 9.040448188781738, 11.153973579406738, 16.457212448120117, 18.3601131439209, 12.82352066040039, 15.8036527633667, 16.09308624267578, 10.852417945861816, 13.650907516479492, 14.533429145812988, 11.8894624710083, 11.007434844970703, 11.393290519714355, 8.606822967529297, 15.193376541137695, 14.252711296081543, 18.87250328063965, 26.64583969116211, 12.990153312683105, 14.474041938781738, 13.667167663574219, 14.844961166381836, 14.701231002807617, 20.846620559692383, 13.84626579284668, 20.196500778198242, 23.03261947631836, 12.818598747253418, 17.429954528808594, 13.821003913879395, 13.247176170349121, 14.365144729614258, 9.756561279296875, 10.049675941467285, 13.884480476379395, 9.68724250793457, 12.478975296020508, 12.18777084350586, 27.958463668823242, 13.239313125610352, 21.077646255493164, 13.869155883789062, 13.60576343536377, 17.237062454223633, 20.18222999572754, 14.481987953186035, 13.89824390411377, 14.849108695983887, 21.51483154296875, 30.300060272216797, 14.413506507873535, 17.825410842895508, 9.059930801391602, 11.007984161376953, 14.430116653442383, 15.93787670135498, 8.77326774597168, 11.773664474487305, 9.854087829589844, 14.764352798461914, 20.851591110229492, 11.995162963867188, 13.333054542541504, 16.304567337036133, 17.420120239257812, 13.640819549560547, 12.082488059997559, 15.180066108703613, 12.721245765686035, 14.118515968322754, 8.734570503234863, 13.363175392150879, 13.930426597595215, 10.756677627563477, 13.05015754699707, 13.233813285827637, 13.962267875671387, 12.869613647460938, 17.350324630737305, 9.043097496032715, 9.663063049316406, 9.259443283081055, 11.044922828674316, 12.703269958496094, 9.371335983276367, 16.792728424072266, 16.340702056884766, 8.838510513305664, 11.320159912109375, 11.756741523742676, 11.441150665283203, 11.824431419372559, 10.915844917297363, 11.02623462677002, 16.19971466064453, 10.541016578674316, 9.358124732971191, 15.496259689331055, 18.77690887451172, 18.094886779785156, 11.814920425415039, 11.40513801574707, 7.408548831939697, 9.03982162475586, 19.759057998657227, 18.12876319885254, 13.974946975708008, 11.15342903137207, 20.54892349243164, 10.511107444763184, 8.072453498840332, 18.170854568481445, 16.500476837158203, 15.994126319885254, 14.757332801818848, 15.022126197814941, 9.694914817810059, 22.758018493652344, 9.36380672454834, 17.620086669921875, 11.141570091247559, 8.821778297424316, 15.479569435119629, 12.024754524230957, 21.37867546081543, 16.08437728881836, 10.22970962524414, 12.071466445922852, 23.264482498168945, 12.43430233001709, 7.34879732131958, 11.704916000366211, 19.203908920288086, 11.721866607666016, 12.774165153503418, 19.181249618530273, 8.2225980758667, 21.057985305786133, 11.705004692077637, 12.749298095703125, 11.622910499572754, 11.600786209106445, 15.247391700744629, 14.170544624328613, 19.690465927124023, 12.986207962036133, 20.0983943939209, 15.853363990783691, 9.091540336608887, 13.33926010131836, 12.354740142822266, 16.77958106994629, 17.403400421142578, 14.685901641845703, 11.235657691955566, 18.517560958862305, 39.330909729003906, 10.690698623657227, 18.20144271850586, 14.016937255859375, 17.848365783691406, 10.101937294006348, 8.548297882080078, 9.79163932800293, 10.774916648864746, 12.848363876342773, 12.66482162475586, 17.477697372436523, 14.626450538635254, 13.637702941894531, 13.411125183105469, 14.889119148254395, 20.751827239990234, 12.943161964416504, 8.006525993347168, 15.572265625, 13.52409839630127, 12.940326690673828, 13.650907516479492, 10.688942909240723, 12.657594680786133, 31.952360153198242, 11.340579986572266, 17.431758880615234, 9.436152458190918, 7.754542350769043, 13.636305809020996, 15.095954895019531, 14.189067840576172, 16.93001365661621, 18.828723907470703, 22.403413772583008, 8.657659530639648, 18.041582107543945, 16.468673706054688, 19.658876419067383, 17.09836769104004, 10.073137283325195, 17.6825008392334, 12.461930274963379, 11.728240966796875, 13.510656356811523, 11.347617149353027, 12.584404945373535, 14.11131763458252, 21.32240104675293, 15.918991088867188, 65.7525405883789, 14.483403205871582, 7.641704559326172, 23.530250549316406, 12.464536666870117, 8.648858070373535, 14.703756332397461, 9.839661598205566, 13.441497802734375, 12.495000839233398, 14.90760326385498, 16.62639617919922, 12.27105712890625, 24.936187744140625, 11.869197845458984, 10.751961708068848, 10.682318687438965, 19.980789184570312, 12.86023998260498, 12.249245643615723, 14.106127738952637, 11.055438041687012, 10.381359100341797, 16.2470703125, 16.204713821411133, 15.190321922302246, 8.96541976928711, 23.503259658813477, 15.95518684387207, 13.174788475036621, 20.034414291381836, 10.452055931091309, 11.198548316955566, 17.166894912719727, 14.687883377075195, 16.81947898864746, 9.288976669311523, 11.567925453186035, 15.081583023071289, 30.286409378051758, 12.213055610656738, 8.814558982849121, 11.57248306274414, 18.81974220275879, 10.690293312072754, 14.915535926818848, 23.312105178833008, 16.07714080810547, 12.377307891845703, 7.79131555557251, 17.957826614379883, 27.958463668823242, 10.017398834228516, 10.801584243774414, 10.724987030029297, 9.940861701965332, 17.0125732421875, 8.545756340026855, 8.050257682800293, 15.397807121276855, 7.512469291687012, 12.243936538696289, 9.181468963623047, 13.84310245513916, 12.445501327514648, 17.43433952331543, 23.26447105407715, 27.957624435424805, 15.956134796142578, 12.386326789855957, 13.605477333068848, 8.896346092224121, 18.95319938659668, 11.435982704162598, 10.546728134155273, 16.740978240966797, 13.231888771057129, 10.544103622436523, 18.54581642150879, 14.134919166564941, 13.825723648071289, 10.57072639465332, 14.7959623336792, 14.897466659545898, 10.925387382507324, 13.166922569274902, 12.46841812133789, 24.23268699645996, 16.001903533935547, 14.879219055175781, 22.851421356201172, 18.44223403930664, 12.51052188873291, 16.483915328979492, 12.590031623840332, 16.167821884155273, 18.61944580078125, 11.610576629638672, 7.700942516326904, 17.778654098510742, 14.795997619628906, 13.345425605773926, 15.29505443572998, 21.53277587890625, 15.532113075256348, 10.575210571289062, 10.861103057861328, 16.688676834106445, 16.91231918334961, 9.743608474731445, 11.571003913879395, 12.755331039428711, 16.700605392456055, 14.645344734191895, 19.64018440246582, 12.0775728225708, 12.105671882629395, 19.255441665649414, 16.85618782043457, 12.806144714355469, 7.52162504196167, 12.146782875061035, 12.465439796447754, 12.22629165649414, 23.771100997924805, 24.335426330566406, 11.93539810180664, 11.494118690490723, 14.260967254638672, 17.13198471069336, 19.14101219177246, 12.348152160644531, 13.44986629486084, 12.531765937805176, 16.45022964477539, 24.453481674194336, 15.372896194458008, 11.903772354125977, 13.075474739074707, 14.576469421386719, 10.409398078918457, 18.043655395507812, 9.681198120117188, 18.75819206237793, 13.227062225341797, 11.140815734863281, 15.168622016906738, 7.9969658851623535, 14.554880142211914, 13.240283012390137, 12.521989822387695, 7.353023529052734, 11.536739349365234, 12.198147773742676, 19.980789184570312, 12.537399291992188, 11.03469467163086, 13.584794998168945, 13.650907516479492, 16.601215362548828, 13.650907516479492, 14.296822547912598, 19.13629913330078, 16.197465896606445, 9.535422325134277, 19.40839385986328, 11.736982345581055, 23.160316467285156, 14.78311538696289, 19.281471252441406, 11.914740562438965, 23.477014541625977, 29.011123657226562, 8.761177062988281, 18.90780258178711, 9.729211807250977, 15.78174877166748, 22.309377670288086, 12.078753471374512, 26.961366653442383, 20.508907318115234, 20.761737823486328, 14.933512687683105, 11.778512954711914, 16.903104782104492, 27.534032821655273, 10.77541732788086, 16.507631301879883, 12.774165153503418, 8.651240348815918, 24.335426330566406, 14.574426651000977, 11.333375930786133, 16.230878829956055, 11.314075469970703, 13.814069747924805, 16.040674209594727, 11.420977592468262, 14.049626350402832, 8.468609809875488, 14.040119171142578, 28.137893676757812, 16.28829574584961, 12.333354949951172, 18.15829086303711, 15.505739212036133, 17.106552124023438, 6.126181125640869, 46.12153625488281, 18.756027221679688, 13.467830657958984, 13.389237403869629, 11.319897651672363, 13.650907516479492, 20.902196884155273, 14.706202507019043, 12.491218566894531, 14.598583221435547, 16.586376190185547, 16.098281860351562, 14.365175247192383, 13.662440299987793, 10.810527801513672, 12.485081672668457, 19.041837692260742, 14.832670211791992, 16.499143600463867, 10.360478401184082, 16.18596649169922, 12.001070022583008, 15.571998596191406, 14.753376960754395, 15.811162948608398, 14.742863655090332, 12.479778289794922, 15.761905670166016, 13.961525917053223, 10.283769607543945, 7.789493560791016, 13.556903839111328, 10.40688419342041, 17.623342514038086, 18.3184871673584, 8.979167938232422, 9.665773391723633, 26.73509407043457, 23.019697189331055, 11.996404647827148, 9.565281867980957, 10.212610244750977, 10.930832862854004, 23.890666961669922, 14.018218040466309, 11.762017250061035, 9.660014152526855, 11.576826095581055, 13.098064422607422, 10.601237297058105, 12.405250549316406, 9.97226333618164, 27.958477020263672, 12.816720008850098, 13.975879669189453, 21.368921279907227, 9.385547637939453, 14.272287368774414, 11.231846809387207, 14.607467651367188, 16.683902740478516, 11.634243965148926, 19.386505126953125, 23.264482498168945, 12.560334205627441, 16.74966812133789, 9.912643432617188, 9.681290626525879, 12.285430908203125, 16.374544143676758, 13.230979919433594, 20.753494262695312, 17.109905242919922, 8.01755142211914, 13.772601127624512, 18.52873420715332, 17.051862716674805, 13.298123359680176, 9.0855073928833, 12.588879585266113, 14.993725776672363, 23.264482498168945, 16.166114807128906, 14.700667381286621, 17.185928344726562, 14.02739143371582, 22.366859436035156, 18.829824447631836, 20.73155975341797, 13.915562629699707, 23.706371307373047, 13.176629066467285, 9.430665016174316, 12.965934753417969, 18.345613479614258, 21.27525520324707, 11.77374267578125, 16.030271530151367, 13.885374069213867, 10.2381591796875, 12.248618125915527, 14.950472831726074, 13.691514015197754, 13.538222312927246, 11.778589248657227, 10.55443286895752, 18.18463134765625, 11.933094024658203, 12.449382781982422, 10.894646644592285, 13.212576866149902, 13.045120239257812, 11.751825332641602, 8.990612983703613, 19.999792098999023, 10.615889549255371, 10.340702056884766, 13.577791213989258, 10.802621841430664, 12.456473350524902, 36.36708068847656, 13.982305526733398, 17.551408767700195, 11.695985794067383, 16.07136344909668, 16.584781646728516, 11.924288749694824, 9.447707176208496, 9.751593589782715, 19.711742401123047, 17.738374710083008, 23.497713088989258, 12.420257568359375, 20.10621452331543, 18.64640235900879, 12.815841674804688, 11.395084381103516, 12.945189476013184, 19.171329498291016, 28.584287643432617, 18.50084114074707, 22.807870864868164, 13.290614128112793, 17.14483642578125, 9.801304817199707, 10.35527515411377, 21.26596450805664, 10.437897682189941, 18.366182327270508, 12.66592025756836, 25.953956604003906, 16.526866912841797, 11.620441436767578, 14.6149263381958, 12.040546417236328, 10.560410499572754, 13.769989967346191, 13.157674789428711, 12.22691822052002, 12.468415260314941, 18.869712829589844, 8.430920600891113, 12.827445983886719, 8.309517860412598, 17.70642852783203, 26.53137969970703, 14.439199447631836, 13.063434600830078, 9.884559631347656, 14.930325508117676, 12.270659446716309, 10.416481018066406, 8.648794174194336, 19.460660934448242, 14.097655296325684, 14.042716979980469, 15.150540351867676, 10.88418960571289, 13.863970756530762, 13.76042652130127, 9.992340087890625, 25.905651092529297, 11.115933418273926, 11.910346031188965, 10.201655387878418, 13.10219669342041, 10.563825607299805, 13.957501411437988, 11.396536827087402, 14.202201843261719, 14.661864280700684, 14.846068382263184, 17.059066772460938, 12.924459457397461, 12.449583053588867, 10.748334884643555, 10.487214088439941, 16.95901107788086, 17.02492904663086, 11.35561466217041, 19.9915714263916, 14.773831367492676, 12.290578842163086, 10.47178840637207, 12.594513893127441, 9.862438201904297, 12.153923034667969, 12.219888687133789, 13.122310638427734, 15.073763847351074, 9.614458084106445, 9.572427749633789, 12.211690902709961, 11.35496997833252, 14.531689643859863, 10.17735481262207, 13.623434066772461, 17.59918212890625, 8.042065620422363, 15.252062797546387, 14.429567337036133, 10.772944450378418, 11.852640151977539, 16.28624725341797, 11.977556228637695, 27.052265167236328, 13.187939643859863, 9.53515338897705, 12.123367309570312, 19.322280883789062, 13.05409049987793, 11.416752815246582, 16.462488174438477, 12.986204147338867, 14.85919189453125, 13.206878662109375, 16.835325241088867, 21.389829635620117, 20.69187355041504, 12.83608341217041, 8.737998962402344, 19.370019912719727, 11.807790756225586, 13.360881805419922, 18.296728134155273, 16.27473258972168, 11.805083274841309, 9.218738555908203, 15.759635925292969, 16.814205169677734, 12.054244995117188, 11.405458450317383, 9.578596115112305, 19.386842727661133, 22.468957901000977, 15.988746643066406, 16.37352180480957, 11.901047706604004, 15.671793937683105, 10.072137832641602, 10.926817893981934, 14.670284271240234, 10.513355255126953, 13.151082038879395, 6.441318511962891, 14.521005630493164, 14.987327575683594, 11.595002174377441, 20.323184967041016, 16.019309997558594, 20.85439109802246, 25.390073776245117, 11.36102294921875, 12.372075080871582, 74.89151000976562, 14.63618278503418, 11.006731986999512, 12.282083511352539, 15.066977500915527, 8.322403907775879, 17.969398498535156, 13.936368942260742, 18.59575080871582, 16.128252029418945, 15.190543174743652, 16.607406616210938, 22.086027145385742, 14.561089515686035, 12.692585945129395, 10.09635066986084, 11.425468444824219, 13.260007858276367, 14.33712100982666, 17.76803970336914, 11.934294700622559, 9.4889554977417, 12.732775688171387, 12.094350814819336, 10.237515449523926, 14.332052230834961, 47.725955963134766, 12.418073654174805, 13.760594367980957, 13.53254222869873, 15.745552062988281, 19.505081176757812, 12.714954376220703, 12.220897674560547, 13.494121551513672, 11.148444175720215, 19.669126510620117, 16.402801513671875, 9.67754077911377, 19.59979248046875, 16.84613800048828, 18.80928611755371, 14.534735679626465, 16.556079864501953, 16.668865203857422, 13.60157585144043, 12.807329177856445, 9.196756362915039, 18.130746841430664, 13.569613456726074, 20.834321975708008, 14.927342414855957, 12.23405933380127, 13.24101448059082, 17.802003860473633, 14.990151405334473, 8.596999168395996, 12.315962791442871, 18.151737213134766, 8.323647499084473, 13.078289985656738, 10.808612823486328, 12.226716995239258, 12.07728385925293, 17.00692367553711, 12.079188346862793, 14.505078315734863, 23.375524520874023, 30.64937400817871, 14.817781448364258, 9.340263366699219, 12.60346794128418, 22.015668869018555, 21.280643463134766, 12.12427806854248, 14.811141967773438, 18.528039932250977, 23.860475540161133, 15.711843490600586, 20.561542510986328, 16.420621871948242, 13.650907516479492, 18.898473739624023, 13.444130897521973, 14.680973052978516, 24.559663772583008, 13.602814674377441, 10.696351051330566, 12.328248977661133, 9.928519248962402, 8.896987915039062, 12.702470779418945, 13.97084903717041, 12.223691940307617, 12.443866729736328, 20.141582489013672, 11.956517219543457, 23.89417266845703, 12.367901802062988, 19.707319259643555, 21.452404022216797, 14.349787712097168, 11.910258293151855, 15.733806610107422, 17.67353630065918, 14.224860191345215, 22.208139419555664, 16.436155319213867, 16.14921760559082, 17.808300018310547, 17.39813232421875, 16.284584045410156, 9.36441421508789, 13.082849502563477, 18.047407150268555, 16.12472915649414, 12.77591323852539, 12.505631446838379, 6.462549686431885, 13.182558059692383, 10.369743347167969, 12.52119255065918, 11.63642406463623, 14.665055274963379, 16.376001358032227, 10.411910057067871, 15.87735366821289, 16.408905029296875, 15.609489440917969, 6.2260847091674805, 11.881099700927734, 15.667363166809082, 10.906657218933105, 12.08241081237793, 13.940929412841797, 15.649249076843262, 20.039737701416016, 14.073234558105469, 23.45648765563965, 10.253754615783691, 13.971628189086914, 13.184686660766602, 9.13357925415039, 14.647576332092285, 17.11088752746582, 10.890949249267578, 19.596773147583008, 11.9921236038208, 13.511199951171875, 16.9342041015625, 16.556074142456055, 26.378969192504883, 15.075441360473633, 22.11991310119629, 16.891674041748047, 16.106124877929688, 7.967942714691162, 11.096733093261719, 21.3892879486084, 12.299891471862793, 16.181428909301758, 12.456912994384766, 13.764455795288086, 12.523676872253418, 10.021891593933105, 17.90935516357422, 15.786964416503906, 12.189702033996582, 19.05666160583496, 21.921171188354492, 12.580501556396484, 13.71164321899414, 16.502620697021484, 8.274513244628906, 14.476554870605469, 14.480359077453613, 11.74667739868164, 15.496001243591309, 15.076254844665527, 18.052230834960938, 9.794334411621094, 15.313196182250977, 18.02964973449707, 18.090503692626953, 16.437978744506836, 10.92265796661377, 16.279203414916992, 20.86461639404297, 18.71922492980957, 9.277685165405273, 13.98655891418457, 11.144035339355469, 10.953276634216309, 14.667691230773926, 12.11367130279541, 12.018729209899902, 11.428617477416992, 20.212276458740234, 14.800633430480957, 23.830337524414062, 17.848037719726562, 13.959797859191895, 14.316309928894043, 11.431525230407715, 9.538614273071289, 13.119964599609375, 11.235065460205078, 11.222758293151855, 26.014631271362305, 13.017317771911621, 17.56191062927246, 13.275483131408691, 11.620848655700684, 10.274791717529297, 22.076662063598633, 8.843672752380371, 12.472940444946289, 13.288057327270508, 15.521270751953125, 14.491437911987305, 9.739103317260742, 14.964783668518066, 20.148391723632812, 22.428741455078125, 24.335426330566406, 27.397703170776367, 11.220232963562012, 12.149998664855957, 13.74194622039795, 14.001636505126953, 21.014596939086914, 9.073501586914062, 26.605695724487305, 15.10354995727539, 12.75129222869873, 22.41531753540039, 14.487704277038574, 25.038564682006836, 11.389822959899902, 15.59813117980957, 11.965422630310059, 12.784619331359863, 10.876401901245117, 20.545856475830078, 12.205546379089355, 17.716922760009766, 10.791764259338379, 11.83300495147705, 12.609413146972656, 13.384124755859375, 14.693389892578125, 11.869418144226074, 13.548386573791504, 9.145023345947266, 10.77375316619873, 26.719697952270508, 16.19713020324707, 13.246195793151855, 16.02893829345703, 11.53722095489502, 15.181595802307129, 12.38654613494873, 14.119206428527832, 14.431888580322266, 20.50267791748047, 12.139090538024902, 11.870943069458008, 31.93265151977539, 11.109606742858887, 17.05844497680664, 16.721542358398438, 20.79812240600586, 10.43017864227295, 13.228178977966309, 12.355985641479492, 10.186074256896973, 11.74044132232666, 21.230205535888672, 14.550230979919434, 11.610576629638672, 10.952213287353516, 17.28125762939453, 14.697881698608398, 11.700992584228516, 10.989997863769531, 19.01215171813965, 14.750598907470703, 12.848366737365723, 9.299182891845703, 15.808757781982422, 10.862710952758789, 12.300750732421875, 18.37425422668457, 24.52837371826172, 13.057255744934082, 7.624997138977051, 20.702388763427734, 9.840024948120117, 15.535723686218262, 14.358755111694336, 17.131301879882812, 21.574365615844727, 17.850162506103516, 16.188318252563477, 14.848135948181152, 6.223945617675781, 11.396512985229492, 17.076854705810547, 24.533409118652344, 13.168055534362793, 10.89447021484375, 11.581588745117188, 13.401060104370117, 16.764570236206055, 15.524992942810059, 24.438566207885742, 21.427289962768555, 11.599676132202148, 12.77700138092041, 16.002208709716797, 13.035249710083008, 11.675037384033203, 9.513978004455566, 17.17302703857422, 13.011394500732422, 20.90543556213379, 22.664628982543945, 34.36488342285156, 16.733741760253906, 14.48235034942627, 9.609477996826172, 17.9597225189209, 11.115962982177734, 23.788820266723633, 14.190590858459473, 17.510251998901367, 12.392178535461426, 10.733154296875, 9.14095401763916, 23.18358612060547, 17.64493179321289, 15.794321060180664, 19.713726043701172, 13.568364143371582, 17.409244537353516, 13.673614501953125, 15.751446723937988, 16.389522552490234, 8.353386878967285, 20.693437576293945, 17.574920654296875, 27.662677764892578, 19.219423294067383, 22.529739379882812, 37.135841369628906, 13.103403091430664, 13.30551528930664, 12.994850158691406, 9.938210487365723, 10.578874588012695, 11.61263370513916, 18.749710083007812, 14.161365509033203, 10.30836009979248, 19.204486846923828, 11.485486030578613, 18.58993911743164, 21.294986724853516, 20.163663864135742, 13.430259704589844, 17.18404769897461, 16.421165466308594, 11.2611722946167, 18.266332626342773, 13.685022354125977, 8.066527366638184, 9.29904556274414, 15.108607292175293, 17.050132751464844, 15.072368621826172, 29.913002014160156, 18.474178314208984, 18.562746047973633, 15.696192741394043, 15.178336143493652, 21.794973373413086, 21.476337432861328, 16.861026763916016, 37.45634460449219, 17.440780639648438, 15.148480415344238, 12.842903137207031, 24.711889266967773, 16.119766235351562, 12.746781349182129, 12.168292999267578, 14.126937866210938, 10.403922080993652, 12.943934440612793, 15.443838119506836, 13.00003719329834, 13.307785987854004, 8.990354537963867, 12.274820327758789, 9.90578556060791, 13.108345985412598, 14.787713050842285, 20.289562225341797, 11.132383346557617, 16.95769691467285, 15.954620361328125, 9.58094596862793, 13.154327392578125, 16.631942749023438, 15.649361610412598, 16.990148544311523, 14.22722053527832, 13.00114631652832, 15.052434921264648, 17.435274124145508, 16.611326217651367, 14.446691513061523, 15.854543685913086, 10.775973320007324, 23.14839744567871, 12.10958480834961, 33.01619338989258, 9.054781913757324, 12.41978645324707, 15.216011047363281, 17.41524314880371, 18.807838439941406, 15.45706558227539, 13.723734855651855, 23.401180267333984, 17.959911346435547, 10.719063758850098, 12.127348899841309, 9.812731742858887, 24.794872283935547, 15.786896705627441, 12.845916748046875, 14.21986198425293, 13.757203102111816, 21.167133331298828, 22.515382766723633, 21.0328369140625, 10.622084617614746, 19.17656707763672, 23.9706974029541, 13.878155708312988, 16.339765548706055, 23.6299991607666, 18.544052124023438, 12.665204048156738, 12.237975120544434, 13.692209243774414, 16.912261962890625, 12.33922004699707, 17.937170028686523, 9.864982604980469, 15.74023723602295, 9.769881248474121, 13.372701644897461, 18.466115951538086, 10.175168991088867, 17.169084548950195, 11.156157493591309, 12.87899398803711, 10.578168869018555, 13.31775951385498, 22.044952392578125, 10.934720039367676, 17.158079147338867, 18.68427276611328, 16.063756942749023, 13.76899242401123, 15.767505645751953, 14.829021453857422, 15.076549530029297, 28.203062057495117, 22.70130157470703, 14.963277816772461, 17.737653732299805, 6.1543989181518555, 14.204533576965332, 12.265663146972656, 16.855480194091797, 19.124963760375977, 10.345561981201172, 18.886659622192383, 12.864198684692383, 11.805217742919922, 12.858826637268066, 19.50767707824707, 14.378486633300781, 15.03975772857666, 15.152649879455566, 16.347139358520508, 17.541414260864258, 13.833056449890137, 12.152654647827148, 10.808612823486328, 25.0759220123291, 15.01943302154541, 12.358054161071777, 17.584514617919922, 15.719671249389648, 12.464634895324707, 12.171716690063477, 15.202851295471191, 14.865395545959473, 26.026140213012695, 8.634176254272461, 17.109365463256836, 14.772358894348145, 15.307793617248535, 66.41040802001953, 11.528968811035156, 15.784552574157715, 10.215091705322266, 19.140029907226562, 19.746959686279297, 14.570698738098145, 19.068361282348633, 14.52755355834961, 19.495378494262695, 12.987004280090332, 16.155609130859375, 10.785462379455566, 17.64958953857422, 10.041916847229004, 12.214154243469238, 10.29016399383545, 20.570682525634766, 11.419185638427734, 15.331443786621094, 8.338035583496094, 15.906903266906738, 13.128043174743652, 14.154651641845703, 19.911584854125977, 14.072375297546387, 23.106630325317383, 14.140416145324707, 10.257204055786133, 14.162330627441406, 16.023366928100586, 13.271454811096191, 16.43985939025879, 19.228979110717773, 15.47331428527832, 15.87859058380127, 19.04753303527832, 18.022811889648438, 8.788193702697754, 9.495862007141113, 11.311914443969727, 22.373558044433594, 15.157082557678223, 17.7529354095459, 17.747333526611328, 12.593883514404297, 13.838506698608398, 17.240066528320312, 47.19987106323242, 11.71384048461914, 14.063973426818848, 11.923885345458984, 20.240686416625977, 11.81527328491211, 23.507164001464844, 16.12372589111328, 12.91814136505127, 13.745469093322754, 14.79764461517334, 10.737524032592773, 15.648294448852539, 19.97178077697754, 18.450315475463867, 18.335296630859375, 16.664724349975586, 11.229724884033203, 21.480422973632812, 13.562251091003418, 6.91522741317749, 18.309497833251953, 22.142866134643555, 13.450004577636719, 9.39551067352295, 13.76612663269043, 14.911798477172852, 8.11108684539795, 10.405982971191406, 13.877338409423828, 12.632179260253906, 21.128376007080078, 11.620851516723633, 24.88880157470703, 20.032470703125, 13.417793273925781, 14.762325286865234, 20.717193603515625, 19.137197494506836, 11.269775390625, 11.376269340515137, 18.609983444213867, 11.576393127441406, 19.21973419189453, 20.68182373046875, 7.652851581573486, 18.4699649810791, 11.36363697052002, 14.911264419555664, 11.620848655700684, 11.767204284667969, 15.542078018188477, 17.011783599853516, 14.656844139099121, 10.5931978225708, 16.07316780090332, 9.67492961883545, 17.158079147338867, 15.215335845947266, 20.20406723022461, 30.294723510742188, 21.436487197875977, 13.441974639892578, 12.025622367858887, 15.722860336303711, 15.872198104858398, 14.733000755310059, 10.934944152832031, 13.427291870117188, 16.52940559387207, 15.896428108215332, 37.362754821777344, 10.204390525817871, 13.23279094696045, 19.06639289855957, 5.7257399559021, 17.9913387298584, 10.319055557250977, 19.90329360961914, 19.403400421142578, 9.414568901062012, 14.62214469909668, 11.699974060058594, 17.676490783691406, 11.522939682006836, 13.259992599487305, 16.1033992767334, 14.631148338317871, 19.319683074951172, 14.480770111083984, 14.483856201171875, 9.213040351867676, 12.381131172180176, 17.918697357177734, 16.547670364379883, 11.430291175842285, 8.226619720458984, 13.42503547668457, 15.546977043151855, 11.054581642150879, 16.176803588867188, 17.346843719482422, 20.72881317138672, 13.317676544189453, 12.188736915588379, 15.464485168457031, 13.831576347351074, 12.003986358642578, 8.124284744262695, 18.252092361450195, 39.182865142822266, 11.05224895477295, 10.257204055786133, 15.891660690307617, 15.231338500976562, 15.884963989257812, 11.285855293273926, 21.892513275146484, 19.639328002929688, 37.77336120605469, 9.018369674682617, 10.364203453063965, 13.854822158813477, 13.220104217529297, 9.455564498901367, 19.72255516052246, 9.573884010314941, 13.339040756225586, 23.989635467529297, 14.165088653564453, 12.97858715057373, 17.463302612304688, 11.402046203613281, 18.31199836730957, 12.611106872558594, 10.945676803588867, 16.074268341064453, 20.091920852661133, 14.941760063171387, 8.581202507019043, 13.042972564697266, 30.14249610900879, 19.59549903869629, 16.92603874206543, 17.550504684448242, 14.08469009399414, 34.078269958496094, 15.294569969177246, 12.178030967712402, 19.970172882080078, 11.947510719299316, 14.45273208618164, 12.162196159362793, 15.455050468444824, 13.335247993469238, 12.646777153015137, 12.122312545776367, 20.88421058654785, 17.858110427856445, 14.391721725463867, 14.154972076416016, 14.742283821105957, 19.89459800720215, 23.293325424194336, 15.19914722442627, 14.651006698608398, 22.048542022705078, 11.789410591125488, 13.569544792175293, 11.930573463439941, 12.771512985229492, 14.908493041992188, 10.733881950378418, 16.014251708984375, 19.97178077697754, 12.550946235656738, 16.303403854370117, 16.382160186767578, 12.302803993225098, 14.827217102050781, 12.033286094665527, 20.869293212890625, 10.89168643951416, 18.637788772583008, 10.346410751342773, 11.517561912536621, 8.762956619262695, 11.7296724319458, 9.51923942565918, 13.564608573913574, 12.571173667907715, 16.551115036010742, 17.386558532714844, 14.709376335144043, 15.369869232177734, 13.978938102722168, 15.531067848205566, 15.19958209991455, 14.060137748718262, 14.907983779907227, 14.101634979248047, 11.639636993408203, 35.864131927490234, 28.155717849731445, 14.137932777404785, 22.777664184570312, 32.51365280151367, 12.867029190063477, 16.987285614013672, 12.507381439208984, 15.862661361694336, 14.695233345031738, 13.777809143066406, 19.377296447753906, 18.138511657714844, 12.408679962158203, 14.6818265914917, 12.956904411315918, 18.51679801940918, 11.366069793701172, 17.13359832763672, 16.606712341308594, 13.520771026611328, 14.604037284851074, 19.449722290039062, 10.786761283874512, 18.240341186523438, 13.1308012008667, 15.750432968139648, 16.328950881958008, 13.428731918334961, 16.55508804321289, 12.300041198730469, 16.617605209350586, 14.31186580657959, 7.279964923858643, 13.016914367675781, 8.796931266784668, 14.022794723510742, 17.457578659057617, 17.088333129882812, 11.284910202026367, 15.225373268127441, 17.442771911621094, 26.774587631225586, 16.110719680786133, 26.33841323852539, 21.30832290649414, 12.147069931030273, 20.439708709716797, 11.075641632080078, 18.36369514465332, 15.362625122070312, 15.555623054504395, 13.111018180847168, 13.997241020202637, 19.646728515625, 12.387301445007324, 17.875839233398438, 20.965198516845703, 16.37576675415039, 19.219785690307617, 8.095966339111328, 13.933758735656738, 16.55293083190918, 18.91182518005371, 11.898210525512695, 12.371623039245605, 13.717022895812988, 19.550148010253906, 15.788433074951172, 13.523326873779297, 18.645570755004883, 11.117998123168945, 11.181731224060059, 21.237232208251953, 13.363130569458008, 17.28272819519043, 12.257814407348633, 22.747129440307617, 15.858445167541504, 13.375198364257812, 22.153331756591797, 10.063009262084961, 15.916922569274902, 12.27428150177002, 18.43228530883789, 10.759639739990234, 20.936351776123047, 14.656631469726562, 16.124717712402344, 12.287117958068848, 13.509815216064453, 18.289093017578125, 8.65670394897461, 20.245647430419922, 18.10106086730957, 21.750383377075195, 9.217460632324219, 13.21784782409668, 13.013876914978027, 15.874442100524902, 18.289093017578125, 31.903709411621094, 15.923913955688477, 13.712908744812012, 13.27486515045166, 15.866045951843262, 16.69710922241211, 24.252309799194336, 21.81731414794922, 17.08477783203125, 11.2042875289917, 36.753082275390625, 20.325244903564453, 13.41646957397461, 11.628006935119629, 18.726577758789062, 15.172481536865234, 12.54924488067627, 15.977383613586426, 16.88239860534668, 10.395694732666016, 10.277710914611816, 10.306381225585938, 14.754203796386719, 18.51225471496582, 16.702301025390625, 13.417502403259277, 29.026622772216797, 13.405112266540527, 17.157007217407227, 20.581897735595703, 13.337295532226562, 16.075124740600586, 11.795992851257324, 77.81549835205078, 15.393393516540527, 10.24215316772461, 18.363384246826172, 10.337132453918457, 21.25271987915039, 11.844507217407227, 15.680768013000488, 23.201534271240234, 9.787531852722168, 12.572813987731934, 20.831157684326172, 27.664087295532227, 11.681174278259277, 18.479887008666992, 13.976662635803223, 12.486959457397461, 16.2901554107666, 8.86841869354248, 20.196491241455078, 16.774553298950195, 29.685482025146484, 12.5685453414917, 26.966787338256836, 16.256195068359375, 56.49830627441406, 17.445720672607422, 11.363476753234863, 12.866630554199219, 17.16779327392578, 12.29970645904541, 14.693967819213867, 7.315810680389404, 16.44495964050293, 13.347047805786133, 13.07811164855957, 13.730820655822754, 23.729103088378906, 11.268945693969727, 12.361625671386719, 24.476037979125977, 11.959678649902344, 13.62404727935791, 12.72149658203125, 10.358616828918457, 21.058839797973633, 6.453762054443359, 12.997742652893066, 14.503311157226562, 17.911815643310547, 26.878211975097656, 14.851881980895996, 17.3697566986084, 12.599763870239258, 13.96143627166748, 10.03368091583252, 12.590910911560059, 13.630376815795898, 15.989402770996094, 18.401859283447266, 13.661667823791504, 8.59489917755127, 17.96049690246582, 28.60297393798828, 12.852923393249512, 23.309965133666992, 21.366567611694336, 15.865062713623047, 7.6712493896484375, 13.585027694702148, 10.93224811553955, 10.541622161865234, 22.9061336517334, 14.181502342224121, 11.940778732299805, 18.326168060302734, 11.6345853805542, 16.2242431640625, 30.497791290283203, 17.281890869140625, 14.96668529510498, 16.911346435546875, 13.266806602478027, 15.650850296020508, 12.899056434631348, 29.151592254638672, 13.909150123596191, 20.016979217529297, 11.746657371520996, 10.806532859802246, 11.817975044250488, 17.357805252075195, 10.906789779663086, 17.84906005859375, 24.76970672607422, 16.161609649658203, 12.122841835021973, 9.373503684997559, 13.5827054977417, 12.149114608764648, 12.669523239135742, 10.683622360229492, 13.433740615844727, 24.14996910095215, 12.650471687316895, 25.405284881591797, 21.565839767456055, 33.212120056152344, 13.402235984802246, 11.430562973022461, 17.158079147338867, 19.14203453063965, 15.077210426330566, 22.721981048583984, 21.83022689819336, 12.832634925842285, 28.502853393554688, 10.996376991271973, 10.364055633544922, 14.613383293151855, 25.183462142944336, 12.739623069763184, 13.701966285705566, 17.778705596923828, 10.993621826171875, 13.081623077392578, 15.444964408874512, 19.13860321044922, 19.962608337402344, 14.350635528564453, 13.043784141540527, 14.234197616577148, 10.972283363342285, 9.182366371154785, 22.638107299804688, 20.905441284179688, 14.814699172973633, 15.119623184204102, 13.304424285888672, 22.431386947631836, 22.87175750732422, 14.273580551147461, 14.156196594238281, 18.020654678344727, 17.046829223632812, 17.961294174194336, 16.423843383789062, 11.2989501953125, 8.673545837402344, 16.663345336914062, 17.158079147338867, 24.06222152709961, 11.309301376342773, 16.910633087158203, 11.795700073242188, 12.3189115524292, 23.74976348876953, 12.209297180175781, 18.7110652923584, 16.23679542541504, 17.19955062866211, 11.246601104736328, 10.015168190002441, 8.600642204284668, 22.724456787109375, 17.220409393310547, 10.993176460266113, 12.830031394958496, 19.985572814941406, 13.668350219726562, 10.277634620666504, 15.740574836730957, 19.37079620361328, 15.54598331451416, 10.59231948852539, 11.740960121154785, 21.694076538085938, 12.679468154907227, 15.899524688720703, 10.974771499633789, 9.75067138671875, 15.650230407714844, 15.353750228881836, 14.21641731262207, 19.78179168701172, 24.225906372070312, 20.325956344604492, 6.472750186920166, 20.85079574584961, 14.053797721862793, 16.494199752807617, 14.060137748718262, 10.119583129882812, 12.69429874420166, 14.603971481323242, 14.241728782653809, 97.54196166992188, 15.98867416381836, 10.523298263549805, 12.430816650390625, 16.071107864379883, 8.991194725036621, 8.901988983154297, 14.951327323913574, 14.342930793762207, 11.533474922180176, 10.263654708862305, 13.863462448120117, 11.755875587463379, 10.135492324829102, 14.687134742736816, 13.173497200012207, 17.461849212646484, 13.828133583068848, 15.244285583496094, 10.585366249084473, 12.309572219848633, 12.70595645904541, 11.9567289352417, 9.543295860290527, 9.090137481689453, 10.27493953704834, 9.993803024291992, 13.432581901550293, 11.502449989318848, 8.93713092803955, 7.492813587188721, 22.6641788482666, 17.211368560791016, 15.449782371520996, 15.479640007019043, 13.205384254455566, 16.192293167114258, 9.74707317352295, 12.45208740234375, 12.24706745147705, 18.598134994506836, 16.18782615661621, 13.231980323791504, 13.847166061401367, 15.474753379821777, 8.018465042114258, 9.861268043518066, 12.119247436523438, 17.23604393005371, 8.455167770385742, 15.736893653869629, 13.156315803527832, 13.904783248901367, 9.815052032470703, 11.168047904968262, 12.428430557250977, 11.975469589233398, 12.538818359375, 12.579160690307617, 11.861587524414062, 13.350886344909668, 12.315325736999512, 12.21474838256836, 15.912027359008789, 13.809081077575684, 13.121591567993164, 14.383252143859863, 15.655881881713867, 10.357515335083008, 10.314136505126953, 11.902029037475586, 9.3989896774292, 12.03329086303711, 7.40435266494751, 10.97661304473877, 13.66730785369873, 8.507205963134766, 10.291709899902344, 10.36816120147705, 11.653162956237793, 10.935783386230469, 13.59505558013916, 7.228919982910156, 16.34457778930664, 8.852556228637695, 12.996552467346191, 12.268255233764648, 7.999895095825195, 9.922733306884766, 11.496925354003906, 11.251473426818848, 11.712983131408691, 9.147714614868164, 9.948553085327148, 13.327933311462402, 15.301032066345215, 24.713308334350586, 14.00662899017334, 15.1899995803833, 8.069765090942383, 18.1730899810791, 11.084848403930664, 12.486466407775879, 7.766254901885986, 10.186941146850586, 11.281838417053223, 9.504777908325195, 12.148651123046875, 10.21170425415039, 15.03337287902832, 12.181231498718262, 9.83718490600586, 8.774421691894531, 12.471800804138184, 8.23961353302002, 22.067258834838867, 14.697446823120117, 17.718612670898438, 7.703950881958008, 9.753856658935547, 10.11284351348877, 10.987215042114258, 10.801653861999512, 13.048772811889648, 16.85824966430664, 11.313557624816895, 10.857129096984863, 13.942365646362305, 15.433961868286133, 12.748988151550293, 10.503205299377441, 12.37485408782959, 28.226625442504883, 13.442195892333984, 10.773008346557617, 14.217089653015137, 11.929110527038574, 14.196244239807129, 15.273331642150879, 10.563385009765625, 7.738937854766846, 25.40114402770996, 11.511250495910645, 16.11285400390625, 10.020238876342773, 15.638724327087402, 7.744057655334473, 16.740468978881836, 13.808099746704102, 11.038507461547852, 10.691783905029297, 9.313681602478027, 15.208083152770996, 9.174692153930664, 11.904592514038086, 11.273408889770508, 11.305541038513184, 9.268362045288086, 13.336919784545898, 10.887126922607422, 18.994853973388672, 12.589262962341309, 12.569828033447266, 11.088690757751465, 19.793336868286133, 11.385649681091309, 13.365775108337402, 13.032676696777344, 7.6118574142456055, 14.420549392700195, 8.82219123840332, 12.33253288269043, 7.500402450561523, 10.941572189331055, 12.788420677185059, 13.094598770141602, 11.051015853881836, 15.209227561950684, 7.216691493988037, 12.10920238494873, 9.307743072509766, 16.43240737915039, 10.735876083374023, 11.688261032104492, 13.13083553314209, 12.614510536193848, 8.5620756149292, 8.660289764404297, 17.587188720703125, 11.038700103759766, 7.545546531677246, 20.393478393554688, 13.22626781463623, 10.835177421569824, 8.94559383392334, 13.668933868408203, 8.263909339904785, 19.025287628173828, 19.350370407104492, 13.770345687866211, 15.001643180847168, 10.238655090332031, 14.93912410736084, 11.317431449890137, 9.83387279510498, 13.783361434936523, 11.65412712097168, 8.51764965057373, 10.141874313354492, 9.09449291229248, 9.238126754760742, 10.084163665771484, 12.261310577392578, 18.05290412902832, 11.44957160949707, 9.078755378723145, 16.962303161621094, 8.074090957641602, 11.648382186889648, 11.28735637664795, 9.143150329589844, 9.812158584594727, 9.983907699584961, 12.867291450500488, 8.203487396240234, 8.085076332092285, 10.023189544677734, 12.048561096191406, 12.751276969909668, 14.305319786071777, 14.100360870361328, 13.752569198608398, 14.791820526123047, 16.698749542236328, 14.083686828613281, 9.771835327148438, 13.073034286499023, 13.102259635925293, 11.516822814941406, 7.322155952453613, 10.013723373413086, 13.000121116638184, 10.623750686645508, 13.326742172241211, 1.8151246309280396, 9.293928146362305, 12.458335876464844, 11.757391929626465, 9.807923316955566, 5.747344017028809, 8.396536827087402, 12.612732887268066, 9.821392059326172, 12.1996488571167, 11.767804145812988, 9.086016654968262, 11.157503128051758, 10.1100492477417, 13.447356224060059, 15.248754501342773, 10.105189323425293, 11.024007797241211, 10.5706787109375, 13.930065155029297, 17.274747848510742, 9.482534408569336, 18.777528762817383, 10.44583511352539, 15.274413108825684, 11.164595603942871, 11.617959022521973, 18.57018280029297, 11.201247215270996, 15.232216835021973, 11.226277351379395, 16.721410751342773, 18.361650466918945, 10.220699310302734, 9.737716674804688, 10.334057807922363, 30.64371681213379, 15.472443580627441, 12.249178886413574, 12.409835815429688, 13.22518539428711, 8.876021385192871, 9.316981315612793, 9.191534996032715, 12.30777359008789, 11.801739692687988, 11.079822540283203, 12.468334197998047, 18.333093643188477, 14.76022720336914, 18.940265655517578, 17.96654510498047, 15.760943412780762, 10.50183391571045, 11.795334815979004, 13.469959259033203, 19.095476150512695, 9.08328914642334, 12.796198844909668, 9.832755088806152, 10.85779857635498, 17.185800552368164, 13.173044204711914, 9.886513710021973, 13.300506591796875, 12.09904670715332, 15.457635879516602, 10.053873062133789, 12.142477035522461, 13.515165328979492, 14.164904594421387, 18.39295196533203, 27.36493682861328, 12.83188533782959, 13.731809616088867, 13.342151641845703, 11.108168601989746, 13.424299240112305, 12.046366691589355, 9.680749893188477, 11.295578002929688, 7.167301177978516, 12.017141342163086, 11.32876968383789, 16.620407104492188, 13.221147537231445, 12.941052436828613, 8.657269477844238, 7.588557720184326, 10.960365295410156, 13.065605163574219, 20.139728546142578, 8.285735130310059, 8.62777328491211, 11.54037857055664, 13.170199394226074, 10.79784107208252, 17.025545120239258, 12.038118362426758, 15.052277565002441, 13.8623685836792, 14.120933532714844, 10.42188835144043, 22.371686935424805, 19.77144432067871, 13.529367446899414, 13.235602378845215, 13.02684211730957, 11.02326488494873, 9.860438346862793, 12.858796119689941, 15.247888565063477, 10.707357406616211, 17.568572998046875, 13.001127243041992, 11.041979789733887, 7.412741184234619, 15.721964836120605, 13.29715633392334, 16.30394172668457, 11.076024055480957, 10.429383277893066, 11.081512451171875, 6.617974758148193, 13.041976928710938, 19.32495880126953, 9.348443984985352, 16.812225341796875, 21.413583755493164, 15.868103981018066, 11.079056739807129, 7.267986297607422, 11.227859497070312, 12.127022743225098, 16.184099197387695, 8.501522064208984, 12.421294212341309, 16.21967315673828, 16.7296085357666, 12.416542053222656, 39.4306755065918, 13.279047012329102, 9.237223625183105, 20.609376907348633, 9.316173553466797, 14.643669128417969, 11.133172988891602, 9.772706985473633, 15.144671440124512, 15.454283714294434, 12.334137916564941, 12.271785736083984, 10.309733390808105, 12.870131492614746, 11.147335052490234, 11.947145462036133, 9.13890552520752, 8.43545913696289, 9.949023246765137, 8.554614067077637, 16.611175537109375, 13.441028594970703, 10.314066886901855, 16.8974666595459, 11.932394027709961, 14.936304092407227, 8.810482025146484, 21.879148483276367, 8.280647277832031, 10.318558692932129, 9.201053619384766, 10.635869979858398, 10.488021850585938, 21.784223556518555, 12.235383987426758, 16.648422241210938, 12.795042037963867, 9.653454780578613, 5.720671653747559, 10.057843208312988, 14.989933013916016, 18.66364097595215, 12.126608848571777, 14.28650188446045, 15.698131561279297, 13.318658828735352, 7.291947841644287, 11.80948257446289, 13.937040328979492, 8.892282485961914, 12.83040714263916, 24.428050994873047, 9.304671287536621, 12.49061393737793, 9.974842071533203, 11.808823585510254, 11.756607055664062, 11.820584297180176, 11.796689987182617, 13.418866157531738, 10.7144775390625, 18.15272331237793, 7.407027721405029, 7.688323020935059, 11.10610580444336, 8.294968605041504, 7.606372833251953, 9.858837127685547, 10.607413291931152, 10.188838958740234, 8.166694641113281, 11.677178382873535, 11.000171661376953, 9.093219757080078, 10.71412467956543, 11.623785018920898, 14.277862548828125, 12.06501579284668, 9.079253196716309, 12.245142936706543, 8.527690887451172, 13.426770210266113, 12.125709533691406, 9.476259231567383, 11.124448776245117, 19.21217155456543, 9.684725761413574, 11.59068489074707, 11.146636009216309, 12.715489387512207, 9.996601104736328, 14.727683067321777, 7.067017078399658, 8.95122241973877, 8.669118881225586, 9.159734725952148, 10.668049812316895, 11.316567420959473, 9.323885917663574, 14.488577842712402, 11.289387702941895, 9.640563011169434, 8.949514389038086, 18.888442993164062, 10.646993637084961, 11.433351516723633, 17.001401901245117, 9.468008041381836, 16.178030014038086, 11.27690601348877, 9.88183307647705, 8.671539306640625, 12.61577320098877, 9.960615158081055, 14.870972633361816, 8.805843353271484, 17.496273040771484, 15.529683113098145, 15.331740379333496, 9.131101608276367, 21.87528419494629, 14.716959953308105, 8.987870216369629, 16.232837677001953, 10.24264144897461, 12.109343528747559, 13.578868865966797, 14.150033950805664, 13.198814392089844, 18.464059829711914, 12.749340057373047, 12.696647644042969, 9.939565658569336, 16.865854263305664, 8.594320297241211, 8.589353561401367, 7.645514965057373, 10.689075469970703, 12.994109153747559, 10.278220176696777, 14.270788192749023, 13.342227935791016, 12.618385314941406, 11.943770408630371, 23.184690475463867, 10.010090827941895, 13.406691551208496, 15.894366264343262, 13.118197441101074, 14.543412208557129, 13.27196979522705, 8.916524887084961, 24.221174240112305, 21.696884155273438, 9.884559631347656, 15.488096237182617, 10.387994766235352, 10.518503189086914, 10.495107650756836, 9.025547981262207, 22.506446838378906, 11.87381362915039, 14.55770492553711, 14.615267753601074, 11.87131118774414, 13.670931816101074, 15.264248847961426, 12.989205360412598, 14.709320068359375, 13.237092018127441, 10.09399700164795, 10.8331880569458, 17.92947769165039, 9.980754852294922, 9.447061538696289, 14.103569030761719, 11.030189514160156, 12.510504722595215, 8.253121376037598, 10.041630744934082, 12.86746883392334, 13.598359107971191, 15.174460411071777, 7.0937581062316895, 16.323692321777344, 16.16829490661621, 11.569916725158691, 14.049692153930664, 10.70328140258789, 25.88033676147461, 5.601286888122559, 11.306923866271973, 8.863510131835938, 12.209338188171387, 11.031493186950684, 15.523408889770508, 15.821317672729492, 11.037162780761719, 15.499068260192871, 14.008468627929688, 8.95793628692627, 16.45513343811035, 12.052735328674316, 11.010251998901367, 14.598433494567871, 15.02244758605957, 11.363837242126465, 9.898188591003418, 12.716426849365234, 9.751782417297363, 16.552263259887695, 10.967621803283691, 14.344325065612793, 14.136553764343262, 14.007997512817383, 8.180127143859863, 13.043037414550781, 12.231510162353516, 12.170507431030273, 11.820218086242676, 18.512353897094727, 11.288056373596191, 10.409914016723633, 7.123469829559326, 14.05325698852539, 8.845539093017578, 14.89925765991211, 9.858315467834473, 15.746280670166016, 10.872023582458496, 12.559772491455078, 14.397655487060547, 7.258940696716309, 17.224348068237305, 13.889843940734863, 11.41765308380127, 10.49241828918457, 6.799076080322266, 11.009735107421875, 11.508816719055176, 6.429995059967041, 11.167795181274414, 7.95937967300415, 16.657447814941406, 13.118563652038574, 10.780688285827637, 10.824660301208496, 7.6964898109436035, 14.193516731262207, 9.595706939697266, 12.326543807983398, 13.082566261291504, 10.370810508728027, 10.488856315612793, 9.957867622375488, 9.460354804992676, 13.299416542053223, 14.877043724060059, 9.630650520324707, 7.167330741882324, 9.26987361907959, 10.967426300048828, 12.76236343383789, 10.543739318847656, 31.697219848632812, 15.983582496643066, 14.857427597045898, 17.405715942382812, 12.24925422668457, 13.975666046142578, 18.593393325805664, 8.740447044372559, 17.584938049316406, 13.71030330657959, 14.38309097290039, 17.76953125, 15.5175142288208, 13.026961326599121, 17.01165008544922, 12.766651153564453, 11.246077537536621, 13.576437950134277, 15.345006942749023, 10.367644309997559, 13.847698211669922, 9.331783294677734, 9.56601619720459, 10.588171005249023, 11.422189712524414, 9.315020561218262, 8.214077949523926, 12.880010604858398, 6.988333702087402, 14.27130126953125, 10.765158653259277, 13.617650032043457, 18.51479721069336, 21.452699661254883, 12.719359397888184, 9.539525985717773, 9.33770751953125, 10.338909149169922, 10.851049423217773, 12.138911247253418, 13.663313865661621, 11.096468925476074, 13.720803260803223, 16.328771591186523, 14.40652847290039, 10.754195213317871, 8.982381820678711, 7.768641471862793, 10.105122566223145, 11.480569839477539, 7.5798444747924805, 11.462835311889648, 9.17578125, 8.28024673461914, 14.13786792755127, 13.775907516479492, 12.29116439819336, 14.046749114990234, 21.004056930541992, 13.120129585266113, 13.34941577911377, 9.625839233398438, 17.42070770263672, 11.006381034851074, 17.250024795532227, 8.211687088012695, 16.668821334838867, 10.538397789001465, 8.111051559448242, 12.382944107055664, 10.646393775939941, 11.461810111999512, 7.733184814453125, 9.157780647277832, 16.85793113708496, 10.914684295654297, 15.571793556213379, 7.912199974060059, 9.644634246826172, 10.679601669311523, 14.144104957580566, 15.925281524658203, 8.9700345993042, 12.889996528625488, 9.399942398071289, 12.667366981506348, 8.251383781433105, 12.6757230758667, 10.425942420959473, 8.784563064575195, 16.45399284362793, 14.838112831115723, 12.050615310668945, 12.882709503173828, 7.0422139167785645, 8.728816032409668, 20.322134017944336, 11.800822257995605, 8.040576934814453, 11.851515769958496, 17.420915603637695, 12.251319885253906, 10.922054290771484, 9.395465850830078, 14.09752082824707, 11.433302879333496, 8.250913619995117, 12.470650672912598, 17.63479995727539, 9.165165901184082, 12.59793472290039, 6.344418048858643, 16.970102310180664, 17.24687957763672, 22.328407287597656, 9.371051788330078, 9.682889938354492, 15.530945777893066, 11.58653450012207, 11.537699699401855, 7.474252223968506, 10.022730827331543, 13.719282150268555, 12.672785758972168, 14.614964485168457, 25.63309669494629, 11.05773639678955, 12.141342163085938, 10.21226692199707, 11.945076942443848, 9.895219802856445, 11.184709548950195, 9.192461967468262, 9.587632179260254, 8.588277816772461, 9.097938537597656, 11.320262908935547, 9.77492904663086, 9.313217163085938, 10.852689743041992, 9.928747177124023, 8.089395523071289, 6.698662281036377, 9.919957160949707, 10.420361518859863, 10.574897766113281, 10.632369041442871, 5.25083065032959, 10.20490550994873, 10.08183479309082, 10.762349128723145, 14.725383758544922, 10.853440284729004, 11.8348388671875, 11.594367027282715, 16.56571388244629, 16.395374298095703, 15.56744384765625, 14.350608825683594, 12.600434303283691, 13.393409729003906, 14.069828987121582, 12.982431411743164, 10.00195598602295, 10.577412605285645, 14.102526664733887, 10.652167320251465, 11.29146671295166, 11.409733772277832, 10.986007690429688, 9.482229232788086, 8.357023239135742, 10.112098693847656, 19.861461639404297, 12.678685188293457, 16.98465347290039, 16.449350357055664, 14.93956184387207, 22.165138244628906, 7.54867696762085, 15.565650939941406, 16.071731567382812, 11.615640640258789, 11.345852851867676, 9.549776077270508, 11.223722457885742, 9.495817184448242, 6.806950092315674, 13.245132446289062, 10.99222183227539, 8.715420722961426, 13.610356330871582, 13.532623291015625, 11.438873291015625, 11.279764175415039, 13.468709945678711, 7.272854804992676, 16.631664276123047, 10.35118293762207, 9.247342109680176, 12.784323692321777, 12.466672897338867, 13.616621017456055, 9.271672248840332, 13.025203704833984, 9.751873016357422, 14.273985862731934, 9.679855346679688, 9.785381317138672, 11.81783390045166, 12.123417854309082, 110.55266571044922, 15.013007164001465, 8.122314453125, 10.856901168823242, 10.276583671569824, 17.750459671020508, 9.134744644165039, 9.936020851135254, 10.39881420135498, 9.550142288208008, 13.529671669006348, 10.323719024658203, 13.736699104309082, 12.52099609375, 15.91711711883545, 16.244768142700195, 13.256429672241211, 15.732707023620605, 6.463993549346924, 11.802618026733398, 11.273401260375977, 11.486719131469727, 18.49184799194336, 12.169439315795898, 11.777473449707031, 13.381967544555664, 10.562909126281738, 14.175872802734375, 14.378182411193848, 19.95510482788086, 14.762106895446777, 12.616246223449707, 11.184917449951172, 13.673683166503906, 12.721151351928711, 17.823928833007812, 9.500475883483887, 13.068406105041504, 16.6551513671875, 15.978629112243652, 8.640700340270996, 10.143180847167969, 10.655546188354492, 9.791791915893555, 14.313755989074707, 12.712613105773926, 7.499622821807861, 9.440052032470703, 10.173686981201172, 8.765305519104004, 7.911235809326172, 14.46331787109375, 10.090691566467285, 9.91429615020752, 7.998987674713135, 12.023560523986816, 10.908204078674316, 11.263583183288574, 12.136000633239746, 11.060032844543457, 11.880123138427734, 8.931467056274414, 10.406743049621582, 18.83513069152832, 12.140899658203125, 25.94968032836914, 14.32112979888916, 11.389752388000488, 12.245440483093262, 11.047085762023926, 9.620394706726074, 12.186201095581055, 13.890853881835938, 8.668335914611816, 9.57625961303711, 12.085899353027344, 7.613696098327637, 9.052990913391113, 14.835208892822266, 9.642082214355469, 10.801115989685059, 14.07374382019043, 10.67098617553711, 15.654092788696289, 9.818074226379395, 12.046265602111816, 18.662017822265625, 7.904789924621582, 11.618582725524902, 15.846924781799316, 18.232833862304688, 12.177078247070312, 13.600790977478027, 9.078536987304688, 10.46640396118164, 15.003520011901855, 9.50238037109375, 12.436796188354492, 3.4202096462249756, 9.772676467895508, 10.128240585327148, 12.340685844421387, 13.348175048828125, 14.148588180541992, 11.608929634094238, 14.433892250061035, 10.980579376220703, 12.106407165527344, 12.232306480407715, 9.13885498046875, 33.273101806640625, 10.654436111450195, 15.991068840026855, 14.689196586608887, 12.89804458618164, 10.130621910095215, 31.09038734436035, 8.233474731445312, 10.21967601776123, 12.048501014709473, 10.320634841918945, 16.843914031982422, 9.309096336364746, 10.753079414367676, 14.106739044189453, 13.560799598693848, 13.099456787109375, 10.936225891113281, 12.782398223876953, 11.77905559539795, 13.278116226196289, 8.304187774658203, 11.572932243347168, 14.375089645385742, 13.695963859558105, 11.630943298339844, 11.088656425476074, 9.360466003417969, 12.384198188781738, 11.007259368896484, 10.02291488647461, 11.206629753112793, 12.811199188232422, 10.518580436706543, 12.592178344726562, 11.097793579101562, 9.651824951171875, 8.928105354309082, 14.77670669555664, 9.723143577575684, 10.02608871459961, 20.480321884155273, 14.375402450561523, 11.024212837219238, 11.624398231506348, 7.770725727081299, 11.092057228088379, 11.929131507873535, 10.766003608703613, 19.3082218170166, 13.333388328552246, 18.987808227539062, 18.68364906311035, 12.98167610168457, 15.409929275512695, 14.392367362976074, 9.515311241149902, 10.71541976928711, 32.86467361450195, 13.320605278015137, 9.511117935180664, 11.613550186157227, 11.065180778503418, 11.309042930603027, 7.434610843658447, 12.87979507446289, 11.124117851257324, 11.905542373657227, 13.587593078613281, 11.960052490234375, 7.109106540679932, 11.046236991882324, 9.728520393371582, 11.430885314941406, 13.433331489562988, 28.619037628173828, 20.128576278686523, 13.490965843200684, 17.654909133911133, 9.744017601013184, 10.530330657958984, 9.713569641113281, 25.371891021728516, 16.221534729003906, 14.602147102355957, 8.888450622558594, 17.185293197631836, 8.372051239013672, 9.511053085327148, 12.160672187805176, 23.043472290039062, 9.622149467468262, 11.308403968811035, 11.923242568969727, 10.608357429504395, 9.525142669677734, 9.948831558227539, 10.634637832641602, 8.590598106384277, 10.905136108398438, 10.763042449951172, 10.431489944458008, 17.71869659423828, 14.257963180541992, 9.39401912689209, 14.246521949768066, 14.317459106445312, 11.777470588684082, 14.989336013793945, 11.397162437438965, 13.973299980163574, 11.646549224853516, 10.646841049194336, 16.643672943115234, 11.233147621154785, 19.252182006835938, 16.37864112854004, 11.147172927856445, 13.015008926391602, 13.666616439819336, 8.772926330566406, 9.769421577453613, 14.15868091583252, 11.236547470092773, 13.241034507751465, 11.623566627502441, 11.305754661560059, 9.803703308105469, 10.91032886505127, 10.750091552734375, 10.08889102935791, 12.448243141174316, 8.494074821472168, 12.6580228805542, 13.86835765838623, 13.678387641906738, 11.455463409423828, 15.037903785705566, 17.51305389404297, 10.856954574584961, 7.852729320526123, 8.844442367553711, 12.220783233642578, 16.6938419342041, 8.294425010681152, 12.578493118286133, 8.674405097961426, 7.505674839019775, 10.841292381286621, 10.201770782470703, 13.01583194732666, 11.938011169433594, 11.439743041992188, 11.537710189819336, 7.7312774658203125, 9.89923095703125, 12.648417472839355, 11.813613891601562, 13.115633010864258, 11.48803424835205, 9.543452262878418, 8.409212112426758, 9.13759994506836, 9.88048267364502, 13.602561950683594, 17.848825454711914, 12.434738159179688, 12.108471870422363, 11.596158027648926, 9.50481128692627, 13.932841300964355, 7.91715145111084, 15.433520317077637, 11.816461563110352, 10.54207992553711, 13.423249244689941, 8.762764930725098, 8.679634094238281, 20.960474014282227, 11.89803409576416, 12.290912628173828, 12.371879577636719, 18.6263370513916, 13.098224639892578, 12.287618637084961, 9.467381477355957, 10.340970039367676, 12.092228889465332, 12.27947998046875, 20.82497215270996, 10.758072853088379, 9.079896926879883, 10.23270320892334, 13.74830436706543, 12.129188537597656, 9.323234558105469, 13.026153564453125, 14.465517044067383, 28.429271697998047, 9.159400939941406, 18.366291046142578, 13.342879295349121, 11.296205520629883, 10.883895874023438, 8.48636245727539, 11.710774421691895, 11.772917747497559, 10.366296768188477, 15.369531631469727, 10.310163497924805, 26.367511749267578, 18.963422775268555, 10.982901573181152, 16.7943115234375, 15.391592979431152, 14.309613227844238, 10.450047492980957, 14.929207801818848, 15.26550579071045, 14.80432415008545, 15.842353820800781, 17.409263610839844, 19.984052658081055, 9.13120174407959, 14.296120643615723, 9.776021003723145, 19.489219665527344, 11.298462867736816, 13.508545875549316, 10.820730209350586, 18.55786895751953, 24.12066078186035, 12.466803550720215, 16.313371658325195, 14.404566764831543, 14.823990821838379, 11.821381568908691, 14.699995040893555, 11.551689147949219, 10.25838851928711, 9.53617000579834, 12.126047134399414, 11.088656425476074, 19.880889892578125, 16.280471801757812, 14.79220199584961, 12.758997917175293, 18.353164672851562, 17.387332916259766, 10.897970199584961, 16.158653259277344, 7.228039741516113, 12.488046646118164, 7.25739860534668, 18.39466094970703, 13.524514198303223, 48.50650405883789, 11.816112518310547, 21.984050750732422, 11.768624305725098, 16.903579711914062, 11.4776029586792, 13.08994197845459, 24.244752883911133, 7.387139797210693, 12.270615577697754, 26.540302276611328, 34.66544723510742, 22.10329246520996, 11.999602317810059, 10.020943641662598, 26.507125854492188, 12.729592323303223, 14.732393264770508, 16.978208541870117, 10.637531280517578, 13.159042358398438, 7.864626884460449, 14.43576431274414, 15.044764518737793, 17.325580596923828, 19.377901077270508, 10.66450309753418, 17.02005958557129, 13.725750923156738, 16.679582595825195, 10.083252906799316, 10.575700759887695, 14.650691986083984, 13.723398208618164, 12.892013549804688, 9.504544258117676, 12.190534591674805, 11.748883247375488, 12.96347427368164, 10.139768600463867, 16.2199649810791, 10.503148078918457, 9.1277494430542, 17.560516357421875, 25.613826751708984, 9.976495742797852, 15.467635154724121, 12.996240615844727, 12.778533935546875, 11.206445693969727, 29.39543914794922, 15.060508728027344, 11.245426177978516, 10.44919490814209, 11.438624382019043, 14.345207214355469, 18.838857650756836, 9.555642127990723, 13.913280487060547, 12.656715393066406, 12.484676361083984, 11.321205139160156, 10.650615692138672, 13.57632827758789, 16.385866165161133, 16.952341079711914, 8.367947578430176, 7.291660785675049, 11.055453300476074, 14.083992004394531, 11.751276969909668, 12.122037887573242, 9.317748069763184, 10.190184593200684, 6.59122896194458, 11.809809684753418, 12.662779808044434, 20.253324508666992, 16.62982177734375, 14.915990829467773, 8.812541007995605, 12.448719024658203, 8.168891906738281, 20.16021156311035, 9.793962478637695, 13.955013275146484, 13.157846450805664, 12.516080856323242, 16.18061637878418, 9.966142654418945, 14.219449043273926, 14.902568817138672, 13.106630325317383, 13.059005737304688, 17.06604766845703, 12.390589714050293, 10.081338882446289, 14.28099536895752, 10.684475898742676, 7.762735843658447, 16.32530403137207, 14.58342170715332, 13.408609390258789, 11.043777465820312, 12.638653755187988, 12.088407516479492, 13.862117767333984, 9.916827201843262, 15.107015609741211, 10.967402458190918, 15.395912170410156, 14.1593656539917, 11.626225471496582, 12.103414535522461, 13.718520164489746, 16.48792839050293, 19.32886505126953, 9.335296630859375, 10.1380033493042, 9.160482406616211, 7.907630920410156, 10.965324401855469, 9.662697792053223, 7.068416118621826, 10.518585205078125, 11.507425308227539, 14.110695838928223, 18.976486206054688, 11.159985542297363, 7.012381076812744, 11.825796127319336, 7.480356693267822, 12.731115341186523, 18.975339889526367, 11.345130920410156, 15.66794204711914, 14.231035232543945, 16.262285232543945, 9.63071060180664, 9.930548667907715, 15.120393753051758, 11.57520866394043, 14.187071800231934, 11.955621719360352, 7.477444648742676, 9.857410430908203, 12.225358963012695, 9.117822647094727, 14.099177360534668, 10.314857482910156, 9.185937881469727, 12.487150192260742, 8.555837631225586, 11.110748291015625, 9.89544677734375, 9.76573371887207, 10.207777976989746, 12.268050193786621, 11.033989906311035, 10.32351016998291, 14.82367992401123, 8.59963607788086, 7.792181968688965, 10.363687515258789, 12.186605453491211, 11.918405532836914, 11.628290176391602, 11.292128562927246, 11.663625717163086, 14.17026138305664, 10.781379699707031, 10.589950561523438, 8.288113594055176, 10.20740032196045, 11.616684913635254, 10.945418357849121, 17.106287002563477, 8.340036392211914, 6.519288063049316, 9.858301162719727, 8.428915977478027, 21.18548583984375, 14.076348304748535, 9.369088172912598, 11.376847267150879, 12.842714309692383, 12.075790405273438, 17.38773536682129, 14.605531692504883, 10.246718406677246, 10.530519485473633, 15.446721076965332, 16.137983322143555, 11.50750732421875, 10.201118469238281, 15.572488784790039, 8.805803298950195, 11.624348640441895, 9.402795791625977, 9.427701950073242, 13.9552583694458, 9.284666061401367, 13.335829734802246, 17.05807876586914, 9.26823616027832, 11.304469108581543, 13.146476745605469, 14.480338096618652, 13.075948715209961, 10.442145347595215, 15.070009231567383, 9.576532363891602, 18.401611328125, 15.302937507629395, 16.390695571899414, 18.2305850982666, 14.599035263061523, 13.43917465209961, 13.47499942779541, 11.400456428527832, 15.396140098571777, 10.860301971435547, 9.939163208007812, 9.897074699401855, 9.802645683288574, 19.297134399414062, 14.095574378967285, 11.70726490020752, 8.469944953918457, 10.866363525390625, 17.381677627563477, 10.016228675842285, 18.959043502807617, 22.129276275634766, 8.566720962524414, 10.253520011901855, 12.597588539123535, 10.61884593963623, 13.947734832763672, 10.305960655212402, 12.518240928649902, 17.414276123046875, 14.54877758026123, 8.918911933898926, 14.60609245300293, 10.799477577209473, 40.07363510131836, 10.417057037353516, 11.773218154907227, 9.715943336486816, 9.454000473022461, 9.26942253112793, 13.034799575805664, 9.403578758239746, 13.80374813079834, 13.820862770080566, 8.94542121887207, 13.302990913391113, 11.377243041992188, 9.921735763549805, 13.792309761047363, 14.747735977172852, 13.814330101013184, 10.081574440002441, 14.05077838897705, 9.891782760620117, 18.65595817565918, 12.420267105102539, 11.182123184204102, 8.038899421691895, 16.381105422973633, 13.830817222595215, 13.482421875, 10.831093788146973, 15.362168312072754, 11.821931838989258, 12.127704620361328, 9.788132667541504, 13.947382926940918, 8.101446151733398, 14.617452621459961, 13.624079704284668, 12.66677188873291, 13.1497802734375, 10.777632713317871, 13.786457061767578, 19.68654441833496, 14.088562965393066, 14.74842643737793, 12.373364448547363, 19.88631248474121, 12.974104881286621, 10.238962173461914, 17.261886596679688, 14.063544273376465, 10.717052459716797, 13.20345687866211, 11.292325019836426, 12.752758026123047, 10.376724243164062, 11.746898651123047, 9.588153839111328, 10.124942779541016, 13.452275276184082, 8.795427322387695, 9.053953170776367, 11.679352760314941, 11.091062545776367, 6.3022990226745605, 14.901453018188477, 11.288901329040527, 12.113039016723633, 11.517894744873047, 12.2390718460083, 12.626492500305176, 5.948327541351318, 13.168102264404297, 10.965983390808105, 13.80826473236084, 13.065804481506348, 17.478839874267578, 13.701183319091797, 9.898159980773926, 7.184256553649902, 11.772260665893555, 7.60944938659668, 16.89946937561035, 13.022856712341309, 19.092945098876953, 14.439413070678711, 9.620257377624512, 12.111679077148438, 50.64579772949219, 8.774486541748047, 12.96233081817627, 12.698100090026855, 118.65921783447266, 10.216306686401367, 9.22614860534668, 15.346097946166992, 11.210932731628418, 8.627881050109863, 11.08485221862793, 25.13522720336914, 9.628634452819824, 10.100492477416992, 10.344674110412598, 10.678287506103516, 8.357166290283203, 13.123380661010742, 15.25063705444336, 12.519404411315918, 9.149614334106445, 14.6746187210083, 10.3259859085083, 12.408815383911133, 11.943782806396484, 9.754940032958984, 9.700085639953613, 11.138335227966309, 7.8215436935424805, 9.573904037475586, 15.593636512756348, 15.628890991210938, 9.400991439819336, 13.844198226928711, 12.193995475769043, 9.730582237243652, 17.20857048034668, 12.87952995300293, 14.741711616516113, 14.498709678649902, 11.421083450317383, 12.639681816101074, 16.014419555664062, 8.228198051452637, 13.524426460266113, 12.508026123046875, 12.90610122680664, 9.707695007324219, 13.234380722045898, 13.272963523864746, 9.013936042785645, 10.259737968444824, 13.0479736328125, 15.606660842895508, 11.91027545928955, 11.796965599060059, 8.59756851196289, 13.332090377807617, 10.403247833251953, 9.916260719299316, 14.204512596130371, 13.584403038024902, 10.738826751708984, 9.400581359863281, 11.21484088897705, 12.173893928527832, 14.924581527709961, 19.867477416992188, 15.09013557434082, 14.22282600402832, 12.886312484741211, 16.25279998779297, 16.10772705078125, 13.403558731079102, 14.061005592346191, 13.568202018737793, 10.708028793334961, 11.793096542358398, 11.514613151550293, 7.853905200958252, 11.560514450073242, 10.512969970703125, 9.497241020202637, 9.523364067077637, 11.971110343933105, 17.733963012695312, 10.765066146850586, 15.889615058898926, 10.2506103515625, 10.57784366607666, 10.124279022216797, 11.728221893310547, 5.936269283294678, 17.113849639892578, 11.77910041809082, 14.103961944580078, 10.50568962097168, 8.859073638916016, 10.252263069152832, 30.415983200073242, 14.042757987976074, 7.150146484375, 14.603163719177246, 13.552990913391113, 15.026897430419922, 13.397979736328125, 10.990031242370605, 10.350173950195312, 8.868741035461426, 10.348542213439941, 14.919170379638672, 8.271799087524414, 9.074182510375977, 9.293855667114258, 16.462949752807617, 9.184168815612793, 10.03007698059082, 5.667901515960693, 9.230295181274414, 7.853588104248047, 7.936373233795166, 9.095043182373047, 13.463733673095703, 11.974109649658203, 13.705198287963867, 11.539412498474121, 14.215174674987793, 15.760038375854492, 7.662100315093994, 15.539031982421875, 13.892777442932129, 8.305473327636719, 9.991361618041992, 13.683101654052734, 14.330798149108887, 13.174775123596191, 10.396027565002441, 11.163846969604492, 11.294339179992676, 5.58054256439209, 11.067302703857422, 11.038755416870117, 9.730253219604492, 10.978055000305176, 11.143575668334961, 10.05090618133545, 15.390278816223145, 13.214694023132324, 8.78699779510498, 10.837333679199219, 11.770606994628906, 14.646952629089355, 11.968724250793457, 12.891813278198242, 12.849705696105957, 10.932461738586426, 11.271098136901855, 10.823813438415527, 13.550582885742188, 10.636286735534668, 11.135369300842285, 8.963746070861816, 10.864593505859375, 11.66118049621582, 9.801286697387695, 15.95765209197998, 18.16799545288086, 8.777318000793457, 15.733262062072754, 10.13267993927002, 15.547647476196289, 14.671905517578125, 12.564342498779297, 14.981164932250977, 12.49657917022705, 15.281917572021484, 13.348063468933105, 18.061616897583008, 7.82993221282959, 15.863008499145508, 12.875932693481445, 12.465828895568848, 10.523430824279785, 8.832941055297852, 21.875822067260742, 12.026982307434082, 9.722503662109375, 19.45135498046875, 12.708361625671387, 12.577508926391602, 8.718304634094238, 7.047701358795166, 11.69411849975586, 14.230783462524414, 8.477856636047363, 14.408321380615234, 18.00079917907715, 8.803772926330566, 9.461359024047852, 14.175822257995605, 9.665534019470215, 12.953031539916992, 12.07198429107666, 13.022759437561035, 10.403188705444336, 26.196229934692383, 15.873942375183105, 14.180423736572266, 13.3848237991333, 18.01573944091797, 10.4954833984375, 14.145255088806152, 14.797856330871582, 13.82361125946045, 11.63193416595459, 8.908271789550781, 16.302600860595703, 15.72342300415039, 12.488615989685059, 15.74104118347168, 10.503185272216797, 14.69327449798584, 14.424386024475098, 9.870311737060547, 12.445297241210938, 13.421937942504883, 12.007235527038574, 10.287945747375488, 13.576793670654297, 5.972343444824219, 11.240056991577148, 14.409653663635254, 15.145237922668457, 12.664984703063965, 12.02493953704834, 8.311563491821289, 9.353395462036133, 9.32032299041748, 15.033204078674316, 17.77715492248535, 11.124372482299805, 11.132650375366211, 17.957496643066406, 11.747360229492188, 16.150314331054688, 14.612629890441895, 10.104702949523926, 11.410523414611816, 9.255722045898438, 7.449133396148682, 13.236470222473145, 11.462797164916992, 7.893326282501221, 8.177058219909668, 12.10312271118164, 12.635568618774414, 12.855521202087402, 13.584918022155762, 17.456218719482422, 14.57828140258789, 10.32022476196289, 13.219615936279297, 5.788067817687988, 15.10173225402832, 11.34353256225586, 11.980910301208496, 6.400408744812012, 11.010627746582031, 16.640628814697266, 9.40999984741211, 14.131525993347168, 10.797289848327637, 14.176883697509766, 9.751212120056152, 17.005477905273438, 11.264985084533691, 9.735559463500977, 11.556601524353027, 7.7236456871032715, 11.510045051574707, 13.446001052856445, 21.37272834777832, 8.273737907409668, 12.06892204284668, 8.905720710754395, 10.415699005126953, 9.907898902893066, 8.098255157470703, 7.121428489685059, 13.425742149353027, 15.76733684539795, 8.828300476074219, 19.592182159423828, 8.376770973205566, 11.933685302734375, 11.752448081970215, 9.840126037597656, 10.065350532531738, 14.272744178771973, 11.541515350341797, 9.355293273925781, 20.52660369873047, 16.601219177246094, 18.7083740234375, 13.662034034729004, 11.795509338378906, 8.0054931640625, 10.089445114135742, 10.203592300415039, 12.832493782043457, 13.850451469421387, 11.576390266418457, 16.00975799560547, 8.99478816986084, 9.917555809020996, 10.321413040161133, 11.201608657836914, 9.088492393493652, 10.74194622039795, 11.977824211120605, 8.273933410644531, 11.974096298217773, 16.43681526184082, 12.945008277893066, 10.296977043151855, 4.943434715270996, 12.513789176940918, 11.138823509216309, 12.90249252319336, 9.287553787231445, 10.457462310791016, 11.145642280578613, 10.989198684692383, 24.2871036529541, 10.975912094116211, 16.993505477905273, 13.106376647949219, 14.4000825881958, 15.759008407592773, 8.612738609313965, 15.350488662719727, 18.2965145111084, 10.894442558288574, 20.658836364746094, 14.151866912841797, 8.122529983520508, 11.0471830368042, 13.723810195922852, 11.364487648010254, 12.651541709899902, 17.77089500427246, 15.120357513427734, 8.882031440734863, 9.5446195602417, 13.902042388916016, 11.708398818969727, 9.77115249633789, 14.955428123474121, 9.7164945602417, 17.0386905670166, 10.856300354003906, 12.47945499420166, 9.674509048461914, 7.641002655029297, 8.739669799804688, 9.16733455657959, 14.946744918823242, 12.470029830932617, 11.104548454284668, 10.199581146240234, 12.04214859008789, 11.866902351379395, 14.545148849487305, 16.985939025878906, 11.510849952697754, 11.300081253051758, 12.210875511169434, 13.492809295654297, 13.626130104064941, 8.187463760375977, 9.368391036987305, 7.454122066497803, 11.411110877990723, 9.526005744934082, 21.159873962402344, 16.11223030090332, 12.383782386779785, 11.169358253479004, 12.071486473083496, 7.943657875061035, 8.841278076171875, 6.3079915046691895, 13.530813217163086, 19.204166412353516, 11.148970603942871, 12.206034660339355, 11.340960502624512, 10.075927734375, 7.085467338562012, 10.40746784210205, 17.158292770385742, 12.659543991088867, 10.484971046447754, 19.255382537841797, 11.386061668395996, 19.36003875732422, 10.133153915405273, 10.919382095336914, 13.433785438537598, 11.566094398498535, 10.413322448730469, 9.86422061920166, 12.297489166259766, 8.95081615447998, 10.724798202514648, 11.348980903625488, 19.434946060180664, 11.316689491271973, 11.841519355773926, 11.291692733764648, 18.35444450378418, 12.686151504516602, 10.83065414428711, 13.20710563659668, 15.391037940979004, 11.070440292358398, 20.583099365234375, 9.61587905883789, 9.969538688659668, 14.12769889831543, 10.357231140136719, 8.397662162780762, 22.09369659423828, 10.225081443786621, 12.087089538574219, 14.788958549499512, 21.583620071411133, 14.096945762634277, 16.49958038330078, 12.535225868225098, 12.759387969970703, 10.901634216308594, 11.764225006103516, 10.58458137512207, 11.465866088867188, 9.343361854553223, 18.790220260620117, 17.768421173095703, 11.687199592590332, 13.779609680175781, 10.861848831176758, 10.61034107208252, 10.514349937438965, 19.132904052734375, 13.263296127319336, 15.925167083740234, 17.639354705810547, 8.808770179748535, 7.496419429779053, 17.592309951782227, 11.971570014953613, 12.875920295715332, 11.350850105285645, 9.63271713256836, 13.762362480163574, 10.949020385742188, 12.506880760192871, 14.17016315460205, 12.714077949523926, 9.009313583374023, 12.862741470336914, 11.622419357299805, 13.061036109924316, 11.041559219360352, 11.453121185302734, 12.016692161560059, 8.874120712280273, 9.213995933532715, 10.259593963623047, 6.758691310882568, 10.402676582336426, 17.325288772583008, 13.505135536193848, 10.590485572814941, 7.732091903686523, 12.40412425994873, 7.954538822174072, 10.891694068908691, 12.421646118164062, 9.569367408752441, 11.51584529876709, 10.23354434967041, 8.378533363342285, 14.621774673461914, 12.368650436401367, 9.140169143676758, 14.825119018554688, 15.80985164642334, 8.529509544372559, 11.110658645629883, 18.24503517150879, 10.655993461608887, 13.783401489257812, 11.435745239257812, 8.431868553161621, 18.028953552246094, 10.526025772094727, 13.041367530822754, 6.888289928436279, 11.313600540161133, 14.196962356567383, 11.346405029296875, 9.236403465270996, 14.459762573242188, 12.524088859558105, 9.494207382202148, 9.60741138458252, 12.809540748596191, 10.144612312316895, 12.349860191345215, 11.11284351348877, 11.002424240112305, 8.226042747497559, 9.334640502929688, 9.213802337646484, 17.08600425720215, 8.477797508239746, 11.526278495788574, 20.946338653564453, 9.446585655212402, 14.38082504272461, 9.764050483703613, 11.65872859954834, 17.371543884277344, 10.301475524902344, 15.584075927734375, 13.652288436889648, 11.635184288024902, 12.919025421142578, 9.404678344726562, 12.055954933166504, 10.783719062805176, 10.393660545349121, 8.529814720153809, 9.488617897033691, 6.036489486694336, 10.227402687072754, 13.999590873718262, 34.13090133666992, 10.883048057556152, 18.645305633544922, 8.69498062133789, 9.083622932434082, 12.196993827819824, 8.121418952941895, 8.43620777130127, 9.852649688720703, 11.289554595947266, 14.875412940979004, 12.838424682617188, 18.9853515625, 9.780736923217773, 8.691751480102539, 11.200104713439941, 7.967386722564697, 14.728361129760742, 11.587010383605957, 11.328387260437012, 13.404031753540039, 9.880881309509277, 23.440811157226562, 10.616927146911621, 8.754648208618164, 8.731283187866211, 9.61893081665039, 34.43304443359375, 16.236215591430664, 11.129829406738281, 10.616137504577637, 15.038785934448242, 9.93903923034668, 9.568018913269043, 15.686233520507812, 15.953311920166016, 8.284260749816895, 15.077767372131348, 12.724716186523438, 12.91948127746582, 13.230828285217285, 12.692837715148926, 11.611196517944336, 31.684480667114258, 12.848995208740234, 11.86772346496582, 12.17961597442627, 7.445913791656494, 16.223350524902344, 13.942934036254883, 10.19432258605957, 12.998077392578125, 11.396637916564941, 10.566203117370605, 11.972448348999023, 11.571795463562012, 11.527833938598633, 13.802860260009766, 15.700033187866211, 10.647483825683594, 14.554574012756348, 12.719820022583008, 10.034080505371094, 12.955879211425781, 12.582712173461914, 11.722090721130371, 15.564544677734375, 11.15445327758789, 7.450714111328125, 4.1776442527771, 13.063830375671387, 11.206165313720703, 10.681882858276367, 14.030909538269043, 15.395838737487793, 6.950295448303223, 10.099589347839355, 8.179850578308105, 12.560358047485352, 15.547540664672852, 11.573636054992676, 13.732978820800781, 12.621826171875, 14.382566452026367, 7.509431838989258, 12.6635160446167, 14.602066993713379, 9.888481140136719, 14.464076042175293, 10.89267349243164, 8.812397956848145, 11.579360961914062, 9.6161470413208, 13.939041137695312, 13.219514846801758, 22.388648986816406, 8.52589225769043, 9.583486557006836, 16.1181640625, 12.897971153259277, 17.531354904174805, 16.77499771118164, 12.375886917114258, 16.8944091796875, 12.645030975341797, 19.06894302368164, 9.835709571838379, 12.928614616394043, 14.007406234741211, 17.464956283569336, 12.268675804138184, 15.668588638305664, 9.661259651184082, 14.015905380249023, 13.205071449279785, 11.57387924194336, 13.477115631103516, 15.341103553771973, 9.966472625732422, 12.427927017211914, 22.195568084716797, 9.824646949768066, 11.112520217895508, 9.790176391601562, 7.964319229125977, 44.8973388671875, 17.387571334838867, 11.841582298278809, 11.545849800109863, 9.726662635803223, 12.628867149353027, 14.283133506774902, 9.082515716552734, 15.089240074157715, 9.240527153015137, 13.803850173950195, 10.603459358215332, 13.084029197692871, 10.229787826538086, 16.482858657836914, 9.752809524536133, 8.817551612854004, 11.212102890014648, 10.919443130493164, 17.528627395629883, 15.612679481506348, 10.28414249420166, 13.177536964416504, 15.847472190856934, 12.521133422851562, 16.002456665039062, 12.977458000183105, 13.421121597290039, 15.719265937805176, 7.2849602699279785, 17.59051513671875, 11.902114868164062, 14.264569282531738, 8.647988319396973, 14.388047218322754, 13.662049293518066, 15.226912498474121, 10.300028800964355, 10.405338287353516, 13.174684524536133, 10.857330322265625, 8.727994918823242, 13.240671157836914, 10.059521675109863, 9.76341724395752, 10.375858306884766, 17.816314697265625, 10.375749588012695, 8.017899513244629, 13.666438102722168, 13.934638977050781, 11.293868064880371, 11.989630699157715, 12.911382675170898, 9.708207130432129, 16.597938537597656, 14.657743453979492, 9.509608268737793, 11.247440338134766, 13.549601554870605, 8.44699764251709, 9.041593551635742, 10.893011093139648, 9.190071105957031, 12.74170970916748, 10.355853080749512, 9.398402214050293, 13.512320518493652, 11.28011703491211, 18.937543869018555, 14.097097396850586, 9.809372901916504, 9.277068138122559, 8.92873764038086, 10.970102310180664, 10.351387023925781, 8.15915298461914, 11.9780912399292, 18.357973098754883, 9.07552433013916, 18.3427791595459, 9.402741432189941, 13.41229248046875, 14.437272071838379, 13.241358757019043, 17.14487648010254, 8.83165168762207, 11.762589454650879, 7.382691383361816, 10.914163589477539, 9.211029052734375, 9.276061058044434, 12.654206275939941, 15.780826568603516, 12.1586275100708, 15.864147186279297, 9.767426490783691, 9.166274070739746, 11.581782341003418, 18.30130958557129, 10.896504402160645, 16.522199630737305, 10.412140846252441, 12.0623779296875, 19.108911514282227, 12.86841106414795, 15.28563404083252, 13.912251472473145, 10.644135475158691, 9.579723358154297, 14.088251113891602, 14.92631721496582, 12.30233097076416, 10.74592113494873, 11.975683212280273, 8.152270317077637, 8.27101993560791, 12.008398056030273, 11.676033973693848, 28.314849853515625, 28.183246612548828, 14.805267333984375, 16.562271118164062, 11.535804748535156, 10.76976203918457, 12.514991760253906, 8.057848930358887, 10.365182876586914, 10.93730354309082, 21.405542373657227, 11.50614070892334, 18.320968627929688, 9.866523742675781, 17.54174041748047, 20.158973693847656, 7.035037040710449, 12.73052978515625, 9.70534896850586, 14.615832328796387, 18.05931282043457, 16.92090606689453, 13.256650924682617, 12.632698059082031, 12.262906074523926, 8.837224960327148, 10.742337226867676, 13.20332145690918, 11.697129249572754, 12.6552734375, 10.891361236572266, 10.325235366821289, 8.17593002319336, 13.27907943725586, 11.245756149291992, 5.772621154785156, 13.109883308410645, 10.489409446716309, 9.921637535095215, 12.21982479095459, 8.644341468811035, 8.277127265930176, 12.236921310424805, 8.535483360290527, 15.993219375610352, 17.116756439208984, 11.287620544433594, 10.525331497192383, 18.151945114135742, 10.993414878845215, 10.091230392456055, 13.872676849365234, 13.467962265014648, 12.6653470993042, 11.466927528381348, 10.948273658752441, 14.479702949523926, 21.441604614257812, 9.27938175201416, 10.761561393737793, 17.775726318359375, 9.234477996826172, 11.279266357421875, 7.246862888336182, 13.00475788116455, 8.78902816772461, 9.287676811218262, 12.201155662536621, 26.97980308532715, 34.04679870605469, 28.874868392944336, 12.68364429473877, 9.831330299377441, 13.717307090759277, 12.512418746948242, 14.166866302490234, 12.436793327331543, 11.373546600341797, 10.129337310791016, 13.1170654296875, 11.529040336608887, 11.950005531311035, 11.340679168701172, 10.611041069030762, 9.881004333496094, 16.77387046813965, 15.366740226745605, 11.184976577758789, 9.770910263061523, 19.35309600830078, 7.842690944671631, 10.063531875610352, 14.798784255981445, 9.909531593322754, 9.570444107055664, 11.04641342163086, 9.493630409240723, 12.429174423217773, 11.12592601776123, 18.98725128173828, 13.821014404296875, 14.561790466308594, 16.91300392150879, 10.3867769241333, 11.709909439086914, 9.532434463500977, 9.210225105285645, 9.310941696166992, 11.602385520935059, 9.443538665771484, 18.82062339782715, 10.205952644348145, 12.605110168457031, 11.573325157165527, 16.082000732421875, 19.045047760009766, 9.314858436584473, 8.481351852416992, 8.646596908569336, 17.68651580810547, 12.258976936340332, 9.14330768585205, 12.475699424743652, 12.046320915222168, 9.091225624084473, 10.294082641601562, 18.00540542602539, 8.580946922302246, 9.21176815032959, 22.095245361328125, 11.550747871398926, 22.00756072998047, 12.567111015319824, 11.750496864318848, 12.106707572937012, 8.142986297607422, 10.946475982666016, 11.070798873901367, 7.952916622161865, 13.730761528015137, 11.192358016967773, 8.642060279846191, 20.186166763305664, 10.131762504577637, 20.006235122680664, 8.488922119140625, 13.608542442321777, 13.131818771362305, 16.946922302246094, 17.251049041748047, 5.6016130447387695, 9.48458480834961, 14.05941390991211, 8.77111530303955, 11.981192588806152, 9.364739418029785, 10.78724193572998, 9.124516487121582, 12.705078125, 10.659972190856934, 11.553430557250977, 9.009793281555176, 10.179142951965332, 15.694475173950195, 9.95555591583252, 12.653264999389648, 5.628540992736816, 12.109235763549805, 11.957839965820312, 10.547075271606445, 11.56118392944336, 16.93967628479004, 10.730332374572754, 13.74560260772705, 7.756347179412842, 10.957805633544922, 13.87673282623291, 12.3140869140625, 12.358817100524902, 10.997855186462402, 38.79641342163086, 9.109410285949707, 13.118444442749023, 10.744272232055664, 13.386246681213379, 10.569511413574219, 13.692679405212402, 8.21284008026123, 9.625905990600586, 10.40723991394043, 14.039961814880371, 9.34363842010498, 9.185105323791504, 9.101408004760742, 9.261350631713867, 14.567513465881348, 10.212748527526855, 18.67584228515625, 8.785447120666504, 15.016632080078125, 14.086896896362305, 11.11682415008545, 20.121259689331055, 11.055513381958008, 10.22026252746582, 20.893024444580078, 18.796627044677734, 8.931558609008789, 10.150772094726562, 16.726892471313477, 12.972749710083008, 8.130498886108398, 5.097843647003174, 10.532045364379883, 9.54665470123291, 8.903526306152344, 14.0729398727417, 14.717504501342773, 15.557781219482422, 14.107433319091797, 19.118179321289062, 9.61817455291748, 13.933260917663574, 10.561214447021484, 12.084885597229004, 7.477591037750244, 9.692487716674805, 11.778703689575195, 10.550843238830566, 11.242305755615234, 11.00625991821289, 10.090325355529785, 9.85970687866211, 13.668673515319824, 12.140323638916016, 11.78572940826416, 11.897138595581055, 13.112980842590332, 9.56135368347168, 8.800947189331055, 10.640515327453613, 9.458378791809082, 8.770761489868164, 7.0411882400512695, 10.411992073059082, 10.48473072052002, 11.648030281066895, 10.475224494934082, 15.955507278442383, 9.209342956542969, 9.659446716308594, 16.370582580566406, 11.409322738647461, 10.58923625946045, 14.596146583557129, 12.399026870727539, 10.784639358520508, 8.16921329498291, 12.014554977416992, 14.922659873962402, 13.837750434875488, 9.914284706115723, 14.259556770324707, 9.729208946228027, 16.13179588317871, 14.231502532958984, 10.225963592529297, 11.58920955657959, 19.613624572753906, 10.047017097473145, 9.646768569946289, 12.119876861572266, 11.873023986816406, 10.836984634399414, 16.54322052001953, 15.000419616699219, 8.064634323120117, 10.228899955749512, 14.95824909210205, 10.377811431884766, 20.83638572692871, 15.523734092712402, 14.610912322998047, 19.968048095703125, 17.59426498413086, 12.866634368896484, 13.103780746459961, 15.758392333984375, 9.255520820617676, 10.257204055786133, 12.065529823303223, 15.534074783325195, 9.739864349365234, 10.378654479980469, 11.509688377380371, 8.64128303527832, 14.224226951599121, 12.675865173339844, 7.891937732696533, 11.535146713256836, 14.505247116088867, 11.406573295593262, 14.002568244934082, 13.679278373718262, 12.938743591308594, 18.150646209716797, 9.596635818481445, 8.52721118927002, 11.964909553527832, 14.266304016113281, 15.361248016357422, 13.079231262207031, 12.708610534667969, 8.319994926452637, 17.27574920654297, 13.47933292388916, 10.134690284729004, 10.371137619018555, 10.194082260131836, 12.96389102935791, 13.943875312805176, 17.26300621032715, 9.4238862991333, 8.688262939453125, 9.522467613220215, 9.446669578552246, 11.455963134765625, 10.193343162536621, 14.099386215209961, 12.604448318481445, 11.116039276123047, 15.217642784118652, 30.833280563354492, 12.4996337890625, 7.690652847290039, 13.201288223266602, 13.48422908782959, 5.747403144836426, 18.87826919555664, 14.768576622009277, 8.400583267211914, 10.24151611328125, 16.903902053833008, 13.611881256103516, 16.794374465942383, 7.980839252471924, 7.389915943145752, 11.582634925842285, 7.959558010101318, 13.502659797668457, 15.129792213439941, 11.669435501098633, 9.963985443115234, 11.061016082763672, 10.149747848510742, 13.703359603881836, 17.464515686035156, 12.845098495483398, 9.78221321105957, 14.544281959533691, 16.752758026123047, 19.888734817504883, 9.808815956115723, 11.514588356018066, 17.04093360900879, 8.320314407348633, 5.942058086395264, 9.297037124633789, 16.93619728088379, 10.87735366821289, 14.820170402526855, 11.70238208770752, 10.555261611938477, 11.593070030212402, 9.126243591308594, 7.285849571228027, 9.995930671691895, 14.6095609664917, 11.109612464904785, 8.407574653625488, 10.070146560668945, 16.27385139465332, 9.291892051696777, 15.25959587097168, 12.947054862976074, 9.222163200378418, 10.136276245117188, 10.724509239196777, 10.360416412353516, 12.637201309204102, 13.232563018798828, 13.54416561126709, 7.909855365753174, 25.578123092651367, 12.519684791564941, 14.473052024841309, 12.01809024810791], 'mean_perplexity': 14.206088612122374}\n"
          ]
        }
      ],
      "source": [
        "results = perplexity.compute(predictions=all_generated_questions, model_id='gpt2', batch_size=2)\n",
        "print(results)"
      ]
    },
    {
      "cell_type": "code",
      "source": [
        "print(f\"Mean perplexity: {round(results['mean_perplexity'], 1)}\")"
      ],
      "metadata": {
        "colab": {
          "base_uri": "https://localhost:8080/"
        },
        "id": "bhT9zG6eUxpN",
        "outputId": "55dda3d2-7229-48f8-df72-4308016f050a"
      },
      "execution_count": 21,
      "outputs": [
        {
          "output_type": "stream",
          "name": "stdout",
          "text": [
            "Mean perplexity: 14.2\n"
          ]
        }
      ]
    }
  ],
  "metadata": {
    "colab": {
      "collapsed_sections": [
        "2yWRdEMaq90Z",
        "RqLbX3pDDwZO"
      ],
      "gpuType": "T4",
      "provenance": []
    },
    "gpuClass": "standard",
    "kernelspec": {
      "display_name": "Python 3",
      "name": "python3"
    },
    "language_info": {
      "name": "python"
    },
    "widgets": {
      "application/vnd.jupyter.widget-state+json": {
        "015ebf62562a408f862b795baca6944a": {
          "model_module": "@jupyter-widgets/controls",
          "model_module_version": "1.5.0",
          "model_name": "VBoxModel",
          "state": {
            "_dom_classes": [],
            "_model_module": "@jupyter-widgets/controls",
            "_model_module_version": "1.5.0",
            "_model_name": "VBoxModel",
            "_view_count": null,
            "_view_module": "@jupyter-widgets/controls",
            "_view_module_version": "1.5.0",
            "_view_name": "VBoxView",
            "box_style": "",
            "children": [
              "IPY_MODEL_6691adc9c929429c98c78845f78cedb3",
              "IPY_MODEL_c5725ea3493744e29c4bd8ada2266004"
            ],
            "layout": "IPY_MODEL_01ff8db529934c7ab9ed56780200170f"
          }
        },
        "01ff8db529934c7ab9ed56780200170f": {
          "model_module": "@jupyter-widgets/base",
          "model_module_version": "1.2.0",
          "model_name": "LayoutModel",
          "state": {
            "_model_module": "@jupyter-widgets/base",
            "_model_module_version": "1.2.0",
            "_model_name": "LayoutModel",
            "_view_count": null,
            "_view_module": "@jupyter-widgets/base",
            "_view_module_version": "1.2.0",
            "_view_name": "LayoutView",
            "align_content": null,
            "align_items": null,
            "align_self": null,
            "border": null,
            "bottom": null,
            "display": null,
            "flex": null,
            "flex_flow": null,
            "grid_area": null,
            "grid_auto_columns": null,
            "grid_auto_flow": null,
            "grid_auto_rows": null,
            "grid_column": null,
            "grid_gap": null,
            "grid_row": null,
            "grid_template_areas": null,
            "grid_template_columns": null,
            "grid_template_rows": null,
            "height": null,
            "justify_content": null,
            "justify_items": null,
            "left": null,
            "margin": null,
            "max_height": null,
            "max_width": null,
            "min_height": null,
            "min_width": null,
            "object_fit": null,
            "object_position": null,
            "order": null,
            "overflow": null,
            "overflow_x": null,
            "overflow_y": null,
            "padding": null,
            "right": null,
            "top": null,
            "visibility": null,
            "width": null
          }
        },
        "6691adc9c929429c98c78845f78cedb3": {
          "model_module": "@jupyter-widgets/controls",
          "model_module_version": "1.5.0",
          "model_name": "LabelModel",
          "state": {
            "_dom_classes": [],
            "_model_module": "@jupyter-widgets/controls",
            "_model_module_version": "1.5.0",
            "_model_name": "LabelModel",
            "_view_count": null,
            "_view_module": "@jupyter-widgets/controls",
            "_view_module_version": "1.5.0",
            "_view_name": "LabelView",
            "description": "",
            "description_tooltip": null,
            "layout": "IPY_MODEL_c89a3520077549acae896b73bc9c2fac",
            "placeholder": "​",
            "style": "IPY_MODEL_a04bd4eef5b748e29c8ae7b9b3dc4508",
            "value": "0.001 MB of 0.001 MB uploaded (0.000 MB deduped)\r"
          }
        },
        "a04bd4eef5b748e29c8ae7b9b3dc4508": {
          "model_module": "@jupyter-widgets/controls",
          "model_module_version": "1.5.0",
          "model_name": "DescriptionStyleModel",
          "state": {
            "_model_module": "@jupyter-widgets/controls",
            "_model_module_version": "1.5.0",
            "_model_name": "DescriptionStyleModel",
            "_view_count": null,
            "_view_module": "@jupyter-widgets/base",
            "_view_module_version": "1.2.0",
            "_view_name": "StyleView",
            "description_width": ""
          }
        },
        "a196213c5e114f52b5080dd70af57b6e": {
          "model_module": "@jupyter-widgets/base",
          "model_module_version": "1.2.0",
          "model_name": "LayoutModel",
          "state": {
            "_model_module": "@jupyter-widgets/base",
            "_model_module_version": "1.2.0",
            "_model_name": "LayoutModel",
            "_view_count": null,
            "_view_module": "@jupyter-widgets/base",
            "_view_module_version": "1.2.0",
            "_view_name": "LayoutView",
            "align_content": null,
            "align_items": null,
            "align_self": null,
            "border": null,
            "bottom": null,
            "display": null,
            "flex": null,
            "flex_flow": null,
            "grid_area": null,
            "grid_auto_columns": null,
            "grid_auto_flow": null,
            "grid_auto_rows": null,
            "grid_column": null,
            "grid_gap": null,
            "grid_row": null,
            "grid_template_areas": null,
            "grid_template_columns": null,
            "grid_template_rows": null,
            "height": null,
            "justify_content": null,
            "justify_items": null,
            "left": null,
            "margin": null,
            "max_height": null,
            "max_width": null,
            "min_height": null,
            "min_width": null,
            "object_fit": null,
            "object_position": null,
            "order": null,
            "overflow": null,
            "overflow_x": null,
            "overflow_y": null,
            "padding": null,
            "right": null,
            "top": null,
            "visibility": null,
            "width": null
          }
        },
        "c0db55bee66c44fbaa7731631f665e16": {
          "model_module": "@jupyter-widgets/controls",
          "model_module_version": "1.5.0",
          "model_name": "ProgressStyleModel",
          "state": {
            "_model_module": "@jupyter-widgets/controls",
            "_model_module_version": "1.5.0",
            "_model_name": "ProgressStyleModel",
            "_view_count": null,
            "_view_module": "@jupyter-widgets/base",
            "_view_module_version": "1.2.0",
            "_view_name": "StyleView",
            "bar_color": null,
            "description_width": ""
          }
        },
        "c5725ea3493744e29c4bd8ada2266004": {
          "model_module": "@jupyter-widgets/controls",
          "model_module_version": "1.5.0",
          "model_name": "FloatProgressModel",
          "state": {
            "_dom_classes": [],
            "_model_module": "@jupyter-widgets/controls",
            "_model_module_version": "1.5.0",
            "_model_name": "FloatProgressModel",
            "_view_count": null,
            "_view_module": "@jupyter-widgets/controls",
            "_view_module_version": "1.5.0",
            "_view_name": "ProgressView",
            "bar_style": "",
            "description": "",
            "description_tooltip": null,
            "layout": "IPY_MODEL_a196213c5e114f52b5080dd70af57b6e",
            "max": 1,
            "min": 0,
            "orientation": "horizontal",
            "style": "IPY_MODEL_c0db55bee66c44fbaa7731631f665e16",
            "value": 1
          }
        },
        "c89a3520077549acae896b73bc9c2fac": {
          "model_module": "@jupyter-widgets/base",
          "model_module_version": "1.2.0",
          "model_name": "LayoutModel",
          "state": {
            "_model_module": "@jupyter-widgets/base",
            "_model_module_version": "1.2.0",
            "_model_name": "LayoutModel",
            "_view_count": null,
            "_view_module": "@jupyter-widgets/base",
            "_view_module_version": "1.2.0",
            "_view_name": "LayoutView",
            "align_content": null,
            "align_items": null,
            "align_self": null,
            "border": null,
            "bottom": null,
            "display": null,
            "flex": null,
            "flex_flow": null,
            "grid_area": null,
            "grid_auto_columns": null,
            "grid_auto_flow": null,
            "grid_auto_rows": null,
            "grid_column": null,
            "grid_gap": null,
            "grid_row": null,
            "grid_template_areas": null,
            "grid_template_columns": null,
            "grid_template_rows": null,
            "height": null,
            "justify_content": null,
            "justify_items": null,
            "left": null,
            "margin": null,
            "max_height": null,
            "max_width": null,
            "min_height": null,
            "min_width": null,
            "object_fit": null,
            "object_position": null,
            "order": null,
            "overflow": null,
            "overflow_x": null,
            "overflow_y": null,
            "padding": null,
            "right": null,
            "top": null,
            "visibility": null,
            "width": null
          }
        },
        "f689fb796b7d456fa5e1b839f1b453b7": {
          "model_module": "@jupyter-widgets/controls",
          "model_name": "HBoxModel",
          "model_module_version": "1.5.0",
          "state": {
            "_dom_classes": [],
            "_model_module": "@jupyter-widgets/controls",
            "_model_module_version": "1.5.0",
            "_model_name": "HBoxModel",
            "_view_count": null,
            "_view_module": "@jupyter-widgets/controls",
            "_view_module_version": "1.5.0",
            "_view_name": "HBoxView",
            "box_style": "",
            "children": [
              "IPY_MODEL_ca28810b61d745e88a70a80408e3bfb2",
              "IPY_MODEL_8b7da715693d49d1b640c23ebc53b95f",
              "IPY_MODEL_502f415d58564c31874b4baf0aea038f"
            ],
            "layout": "IPY_MODEL_352e5df191eb455bb3904540b776c7fc"
          }
        },
        "ca28810b61d745e88a70a80408e3bfb2": {
          "model_module": "@jupyter-widgets/controls",
          "model_name": "HTMLModel",
          "model_module_version": "1.5.0",
          "state": {
            "_dom_classes": [],
            "_model_module": "@jupyter-widgets/controls",
            "_model_module_version": "1.5.0",
            "_model_name": "HTMLModel",
            "_view_count": null,
            "_view_module": "@jupyter-widgets/controls",
            "_view_module_version": "1.5.0",
            "_view_name": "HTMLView",
            "description": "",
            "description_tooltip": null,
            "layout": "IPY_MODEL_a34cd50dddec4f43b323cd40f298d6ba",
            "placeholder": "​",
            "style": "IPY_MODEL_7e5a013a99404fc780ddd66c43a932de",
            "value": "100%"
          }
        },
        "8b7da715693d49d1b640c23ebc53b95f": {
          "model_module": "@jupyter-widgets/controls",
          "model_name": "FloatProgressModel",
          "model_module_version": "1.5.0",
          "state": {
            "_dom_classes": [],
            "_model_module": "@jupyter-widgets/controls",
            "_model_module_version": "1.5.0",
            "_model_name": "FloatProgressModel",
            "_view_count": null,
            "_view_module": "@jupyter-widgets/controls",
            "_view_module_version": "1.5.0",
            "_view_name": "ProgressView",
            "bar_style": "success",
            "description": "",
            "description_tooltip": null,
            "layout": "IPY_MODEL_952cbee6f77b4217a77dc0859611bdb4",
            "max": 2984,
            "min": 0,
            "orientation": "horizontal",
            "style": "IPY_MODEL_0c87c91a078749b4849e629ebb6d48e5",
            "value": 2984
          }
        },
        "502f415d58564c31874b4baf0aea038f": {
          "model_module": "@jupyter-widgets/controls",
          "model_name": "HTMLModel",
          "model_module_version": "1.5.0",
          "state": {
            "_dom_classes": [],
            "_model_module": "@jupyter-widgets/controls",
            "_model_module_version": "1.5.0",
            "_model_name": "HTMLModel",
            "_view_count": null,
            "_view_module": "@jupyter-widgets/controls",
            "_view_module_version": "1.5.0",
            "_view_name": "HTMLView",
            "description": "",
            "description_tooltip": null,
            "layout": "IPY_MODEL_1441636d54e44239a740728852f5efde",
            "placeholder": "​",
            "style": "IPY_MODEL_46dc9da7d4b342409eab8d3624373d70",
            "value": " 2984/2984 [08:04&lt;00:00,  6.74it/s]"
          }
        },
        "352e5df191eb455bb3904540b776c7fc": {
          "model_module": "@jupyter-widgets/base",
          "model_name": "LayoutModel",
          "model_module_version": "1.2.0",
          "state": {
            "_model_module": "@jupyter-widgets/base",
            "_model_module_version": "1.2.0",
            "_model_name": "LayoutModel",
            "_view_count": null,
            "_view_module": "@jupyter-widgets/base",
            "_view_module_version": "1.2.0",
            "_view_name": "LayoutView",
            "align_content": null,
            "align_items": null,
            "align_self": null,
            "border": null,
            "bottom": null,
            "display": null,
            "flex": null,
            "flex_flow": null,
            "grid_area": null,
            "grid_auto_columns": null,
            "grid_auto_flow": null,
            "grid_auto_rows": null,
            "grid_column": null,
            "grid_gap": null,
            "grid_row": null,
            "grid_template_areas": null,
            "grid_template_columns": null,
            "grid_template_rows": null,
            "height": null,
            "justify_content": null,
            "justify_items": null,
            "left": null,
            "margin": null,
            "max_height": null,
            "max_width": null,
            "min_height": null,
            "min_width": null,
            "object_fit": null,
            "object_position": null,
            "order": null,
            "overflow": null,
            "overflow_x": null,
            "overflow_y": null,
            "padding": null,
            "right": null,
            "top": null,
            "visibility": null,
            "width": null
          }
        },
        "a34cd50dddec4f43b323cd40f298d6ba": {
          "model_module": "@jupyter-widgets/base",
          "model_name": "LayoutModel",
          "model_module_version": "1.2.0",
          "state": {
            "_model_module": "@jupyter-widgets/base",
            "_model_module_version": "1.2.0",
            "_model_name": "LayoutModel",
            "_view_count": null,
            "_view_module": "@jupyter-widgets/base",
            "_view_module_version": "1.2.0",
            "_view_name": "LayoutView",
            "align_content": null,
            "align_items": null,
            "align_self": null,
            "border": null,
            "bottom": null,
            "display": null,
            "flex": null,
            "flex_flow": null,
            "grid_area": null,
            "grid_auto_columns": null,
            "grid_auto_flow": null,
            "grid_auto_rows": null,
            "grid_column": null,
            "grid_gap": null,
            "grid_row": null,
            "grid_template_areas": null,
            "grid_template_columns": null,
            "grid_template_rows": null,
            "height": null,
            "justify_content": null,
            "justify_items": null,
            "left": null,
            "margin": null,
            "max_height": null,
            "max_width": null,
            "min_height": null,
            "min_width": null,
            "object_fit": null,
            "object_position": null,
            "order": null,
            "overflow": null,
            "overflow_x": null,
            "overflow_y": null,
            "padding": null,
            "right": null,
            "top": null,
            "visibility": null,
            "width": null
          }
        },
        "7e5a013a99404fc780ddd66c43a932de": {
          "model_module": "@jupyter-widgets/controls",
          "model_name": "DescriptionStyleModel",
          "model_module_version": "1.5.0",
          "state": {
            "_model_module": "@jupyter-widgets/controls",
            "_model_module_version": "1.5.0",
            "_model_name": "DescriptionStyleModel",
            "_view_count": null,
            "_view_module": "@jupyter-widgets/base",
            "_view_module_version": "1.2.0",
            "_view_name": "StyleView",
            "description_width": ""
          }
        },
        "952cbee6f77b4217a77dc0859611bdb4": {
          "model_module": "@jupyter-widgets/base",
          "model_name": "LayoutModel",
          "model_module_version": "1.2.0",
          "state": {
            "_model_module": "@jupyter-widgets/base",
            "_model_module_version": "1.2.0",
            "_model_name": "LayoutModel",
            "_view_count": null,
            "_view_module": "@jupyter-widgets/base",
            "_view_module_version": "1.2.0",
            "_view_name": "LayoutView",
            "align_content": null,
            "align_items": null,
            "align_self": null,
            "border": null,
            "bottom": null,
            "display": null,
            "flex": null,
            "flex_flow": null,
            "grid_area": null,
            "grid_auto_columns": null,
            "grid_auto_flow": null,
            "grid_auto_rows": null,
            "grid_column": null,
            "grid_gap": null,
            "grid_row": null,
            "grid_template_areas": null,
            "grid_template_columns": null,
            "grid_template_rows": null,
            "height": null,
            "justify_content": null,
            "justify_items": null,
            "left": null,
            "margin": null,
            "max_height": null,
            "max_width": null,
            "min_height": null,
            "min_width": null,
            "object_fit": null,
            "object_position": null,
            "order": null,
            "overflow": null,
            "overflow_x": null,
            "overflow_y": null,
            "padding": null,
            "right": null,
            "top": null,
            "visibility": null,
            "width": null
          }
        },
        "0c87c91a078749b4849e629ebb6d48e5": {
          "model_module": "@jupyter-widgets/controls",
          "model_name": "ProgressStyleModel",
          "model_module_version": "1.5.0",
          "state": {
            "_model_module": "@jupyter-widgets/controls",
            "_model_module_version": "1.5.0",
            "_model_name": "ProgressStyleModel",
            "_view_count": null,
            "_view_module": "@jupyter-widgets/base",
            "_view_module_version": "1.2.0",
            "_view_name": "StyleView",
            "bar_color": null,
            "description_width": ""
          }
        },
        "1441636d54e44239a740728852f5efde": {
          "model_module": "@jupyter-widgets/base",
          "model_name": "LayoutModel",
          "model_module_version": "1.2.0",
          "state": {
            "_model_module": "@jupyter-widgets/base",
            "_model_module_version": "1.2.0",
            "_model_name": "LayoutModel",
            "_view_count": null,
            "_view_module": "@jupyter-widgets/base",
            "_view_module_version": "1.2.0",
            "_view_name": "LayoutView",
            "align_content": null,
            "align_items": null,
            "align_self": null,
            "border": null,
            "bottom": null,
            "display": null,
            "flex": null,
            "flex_flow": null,
            "grid_area": null,
            "grid_auto_columns": null,
            "grid_auto_flow": null,
            "grid_auto_rows": null,
            "grid_column": null,
            "grid_gap": null,
            "grid_row": null,
            "grid_template_areas": null,
            "grid_template_columns": null,
            "grid_template_rows": null,
            "height": null,
            "justify_content": null,
            "justify_items": null,
            "left": null,
            "margin": null,
            "max_height": null,
            "max_width": null,
            "min_height": null,
            "min_width": null,
            "object_fit": null,
            "object_position": null,
            "order": null,
            "overflow": null,
            "overflow_x": null,
            "overflow_y": null,
            "padding": null,
            "right": null,
            "top": null,
            "visibility": null,
            "width": null
          }
        },
        "46dc9da7d4b342409eab8d3624373d70": {
          "model_module": "@jupyter-widgets/controls",
          "model_name": "DescriptionStyleModel",
          "model_module_version": "1.5.0",
          "state": {
            "_model_module": "@jupyter-widgets/controls",
            "_model_module_version": "1.5.0",
            "_model_name": "DescriptionStyleModel",
            "_view_count": null,
            "_view_module": "@jupyter-widgets/base",
            "_view_module_version": "1.2.0",
            "_view_name": "StyleView",
            "description_width": ""
          }
        }
      }
    },
    "accelerator": "GPU"
  },
  "nbformat": 4,
  "nbformat_minor": 0
}